{
 "cells": [
  {
   "cell_type": "code",
   "execution_count": 3,
   "metadata": {},
   "outputs": [],
   "source": [
    "from faker import Faker"
   ]
  },
  {
   "cell_type": "code",
   "execution_count": 50,
   "metadata": {},
   "outputs": [],
   "source": [
    "fake = Faker()"
   ]
  },
  {
   "cell_type": "code",
   "execution_count": 52,
   "metadata": {},
   "outputs": [],
   "source": [
    "# Person\n",
    "fake.first_name()\n",
    "fake.last_name()\n",
    "fake.email()\n",
    "fake.date_of_birth()\n",
    "\n",
    "# # Ausleihe= fake.street_address(= fake.postalcode(= fake.city(= fake.phone_number(\n",
    "# Verlag\n",
    "fake.company()\n",
    "fake.street_address()\n",
    "fake.postalcode()\n",
    "fake.city()\n",
    "fake.phone_number()\n",
    "fake.email()\n",
    "fake.catch_phrase()\n",
    "\n"
   ]
  }
 ],
 "metadata": {
  "kernelspec": {
   "display_name": "Python 3",
   "language": "python",
   "name": "python3"
  },
  "language_info": {
   "codemirror_mode": {
    "name": "ipython",
    "version": 3
   },
   "file_extension": ".py",
   "mimetype": "text/x-python",
   "name": "python",
   "nbconvert_exporter": "python",
   "pygments_lexer": "ipython3",
   "version": "3.7.6"
  }
 },
 "nbformat": 4,
 "nbformat_minor": 2
}
