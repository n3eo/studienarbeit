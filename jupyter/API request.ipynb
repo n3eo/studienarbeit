{
 "cells": [
  {
   "cell_type": "markdown",
   "metadata": {},
   "source": [
    "# Imports"
   ]
  },
  {
   "cell_type": "code",
   "execution_count": 1,
   "metadata": {},
   "outputs": [],
   "source": [
    "import requests\n",
    "import json\n",
    "import traceback\n",
    "import itertools\n",
    "import re\n",
    "import random\n",
    "import logging\n",
    "import mysql.connector\n",
    "from faker import Faker\n",
    "from base64 import a85encode\n",
    "\n",
    "from python.db_connection import DbConnection as DBC\n",
    "from python.fakeinfgen import fakeInfos"
   ]
  },
  {
   "cell_type": "markdown",
   "metadata": {},
   "source": [
    "## Create neccesary instances and configs"
   ]
  },
  {
   "cell_type": "code",
   "execution_count": 2,
   "metadata": {},
   "outputs": [],
   "source": [
    "# fake = Faker()"
   ]
  },
  {
   "cell_type": "code",
   "execution_count": 3,
   "metadata": {},
   "outputs": [],
   "source": [
    "FORMAT = '%(asctime)-15s %(clientip)s %(user)-8s %(message)s'\n",
    "logging.basicConfig(level=logging.INFO,\n",
    "                    filename=\"/jupyter/logs/api_requests.log\",\n",
    "                    filemode='w',\n",
    "                    format=FORMAT)"
   ]
  },
  {
   "cell_type": "code",
   "execution_count": 4,
   "metadata": {},
   "outputs": [],
   "source": [
    "dbc = DBC()"
   ]
  },
  {
   "cell_type": "code",
   "execution_count": 5,
   "metadata": {},
   "outputs": [],
   "source": [
    "def timeit(method):\n",
    "    import time\n",
    "    def timed(*args, **kw):\n",
    "        ts = time.time()\n",
    "        result = method(*args, **kw)\n",
    "        te = time.time()        \n",
    "        if 'log_time' in kw:\n",
    "            name = kw.get('log_name', method.__name__.upper())\n",
    "            kw['log_time'][name] = int((te - ts) * 1000)\n",
    "        else:\n",
    "            print('%r  %2.2f ms' % \\\n",
    "                  (method.__name__, (te - ts) * 1000))\n",
    "        return result\n",
    "    \n",
    "    return timed"
   ]
  },
  {
   "cell_type": "markdown",
   "metadata": {},
   "source": [
    "# Functions"
   ]
  },
  {
   "cell_type": "code",
   "execution_count": 6,
   "metadata": {},
   "outputs": [],
   "source": [
    "def flattenObj(obj):\n",
    "    dictVal = {}\n",
    "    \n",
    "    if isinstance(obj,(dict, list)):\n",
    "        \n",
    "        # add indexes to list for iteration\n",
    "        obj = dict(enumerate(obj)) if isinstance(obj, list) else obj\n",
    "        \n",
    "        # loop over entrys and store them in new dict\n",
    "        for key, val in obj.items():\n",
    "            if isinstance(val,(str, int)):\n",
    "                dictVal[str(key)] = val\n",
    "            \n",
    "            # flatten again of the new value is a dict or list\n",
    "            flattened = flattenObj(val)\n",
    "            for key_new, val_new in flattened.items():\n",
    "                dictVal[f\"{key}_{key_new}\"] = val_new\n",
    "    \n",
    "    return dictVal"
   ]
  },
  {
   "cell_type": "code",
   "execution_count": 7,
   "metadata": {},
   "outputs": [],
   "source": [
    "def nestedDictGet(item, *keys):\n",
    "    nextBaseItem = item\n",
    "    for key in keys:        \n",
    "        # test if type is list and get the index\n",
    "        # beforeand check if the given value is a \n",
    "        # integer and a valid position in the dict\n",
    "        if isinstance(nextBaseItem, list):\n",
    "            if str(key).isdigit():\n",
    "                if int(key) < len(nextBaseItem):\n",
    "                    nextBaseItem = nextBaseItem[int(key)]\n",
    "                    continue\n",
    "            # return none if the index ist not valid for the\n",
    "            # list and is a not existend as a key in the dict\n",
    "            elif nextBaseItem.get(key) is None:\n",
    "                return None\n",
    "        \n",
    "        # str and int are the information wanted, directly return it\n",
    "        if isinstance(nextBaseItem,(str,int)):\n",
    "            return nextBaseItem\n",
    "        \n",
    "        # test if the key exists onthe dict\n",
    "        # otherwise returns null\n",
    "        if not nextBaseItem.get(key):\n",
    "            return None\n",
    "        \n",
    "        # as a default get the next nested object based on the key\n",
    "        nextBaseItem = nextBaseItem.get(key)\n",
    "        \n",
    "    return nextBaseItem"
   ]
  },
  {
   "cell_type": "code",
   "execution_count": 8,
   "metadata": {},
   "outputs": [],
   "source": [
    "def extractListSubject(subjects):\n",
    "    if isinstance(subjects, str):\n",
    "        return subjects\n",
    "\n",
    "    topics = []\n",
    "    if isinstance(subjects, list):\n",
    "        for item in subjects:\n",
    "            flattened = flattenObj(subjects)\n",
    "            topics += extractListSubject(flattened)\n",
    "    \n",
    "    if isinstance(subjects, dict):\n",
    "        for key, val in subjects.items():\n",
    "            if not key.find(\"@authority\") >= 0 and not isinstance(val, dict):\n",
    "                topics += val if isinstance(val,list) and not isinstance(val, dict) else [val] # extractListSubject(val))\n",
    "    \n",
    "    # have every topic only one time by \n",
    "    # first cating to set and then back to list\n",
    "    return list(set(topics))"
   ]
  },
  {
   "cell_type": "code",
   "execution_count": 9,
   "metadata": {},
   "outputs": [],
   "source": [
    "def getInformationFromDifferentPaths(flattend, PATHS):\n",
    "    information = None\n",
    "    for path in PATHS:\n",
    "        val = flattend.get(str(path))\n",
    "        if val is not None:\n",
    "            information = val\n",
    "            break\n",
    "    return information"
   ]
  },
  {
   "cell_type": "code",
   "execution_count": 10,
   "metadata": {},
   "outputs": [],
   "source": [
    "def extractOneGenre(genre_flattend, GENRE_PATHS= [\"0_#text\", \"#text\"]):\n",
    "    return getInformationFromDifferentPaths(genre_flattend, GENRE_PATHS)\n",
    ""
   ]
  },
  {
   "cell_type": "code",
   "execution_count": 11,
   "metadata": {},
   "outputs": [],
   "source": [
    "def extractCreator(name_flattend, NAME_PATHS = [\"0_namePart_0\", \"namePart_0\", \"0_namePart\"]):\n",
    "    return getInformationFromDifferentPaths(name_flattend, NAME_PATHS)"
   ]
  },
  {
   "cell_type": "code",
   "execution_count": 12,
   "metadata": {},
   "outputs": [],
   "source": [
    "def extractPublisher(publisher_flattend, PUBLISHER_PATHS = [\"publisher_0\", \"publisher_1\"]):\n",
    "    return getInformationFromDifferentPaths(publisher_flattend, PUBLISHER_PATHS)"
   ]
  },
  {
   "cell_type": "code",
   "execution_count": 13,
   "metadata": {},
   "outputs": [],
   "source": [
    "def extractDate(date_flattend, DATE_PATHS = [\"dateCreated\", \"dateCreated_0_#text\", \"dateIssued\", \"dateIssued_#text\", \"dateIssued_0_#text\", \"dateIssued_0\"]):\n",
    "    publish_date = getInformationFromDifferentPaths(date_flattend, DATE_PATHS)\n",
    "    \n",
    "    # remove chars because sometimes c (=circa) is included\n",
    "    search = re.search(r'\\d+', str(publish_date))\n",
    "    return search[0] if publish_date and search else None"
   ]
  },
  {
   "cell_type": "code",
   "execution_count": 14,
   "metadata": {},
   "outputs": [],
   "source": [
    "def extractEdition(edition_flattend, EDITION_PATHS = [\"edition\"]):\n",
    "    edition = getInformationFromDifferentPaths(edition_flattend, EDITION_PATHS)\n",
    "    \n",
    "    # remove chars because sometimes c (=circa) is included\n",
    "    search = re.search(r'\\d+', str(edition))\n",
    "    return search[0] if edition and search else None"
   ]
  },
  {
   "cell_type": "code",
   "execution_count": 15,
   "metadata": {},
   "outputs": [],
   "source": [
    "def extractAbstract(abstract_flattend, ABSTRACT_PATHS = [\"#text\", \"0\"]):\n",
    "    return getInformationFromDifferentPaths(abstract_flattend, ABSTRACT_PATHS)"
   ]
  },
  {
   "cell_type": "code",
   "execution_count": 16,
   "metadata": {},
   "outputs": [],
   "source": [
    "def extractURL(location_flattend, LOCATION_PATHS = [\"0_url_1_#text\"]):\n",
    "    return getInformationFromDifferentPaths(location_flattend, LOCATION_PATHS)"
   ]
  },
  {
   "cell_type": "code",
   "execution_count": 17,
   "metadata": {},
   "outputs": [],
   "source": [
    "def extractInformation(item):\n",
    "    titleInfo_flattend = flattenObj(nestedDictGet(item, \"titleInfo\"))\n",
    "    \n",
    "    title = titleInfo_flattend.get(\"title\") if titleInfo_flattend.get(\"title\") is not None else titleInfo_flattend.get(\"0_title\")\n",
    "    subtitle = titleInfo_flattend.get(\"subTitle\") if titleInfo_flattend.get(\"subTitle\") is not None else titleInfo_flattend.get(\"0_subTitle\")\n",
    "    \n",
    "    name_flattend = flattenObj(nestedDictGet(item, \"name\"))\n",
    "    creator = creator = extractCreator(name_flattend)\n",
    "        \n",
    "    date_flattend = flattenObj(nestedDictGet(item, \"originInfo\"))\n",
    "    publish_date = extractDate(date_flattend)\n",
    "    \n",
    "    abstract_flattend = flattenObj(nestedDictGet(item, \"abstract\"))\n",
    "    abstract = extractAbstract(abstract_flattend)\n",
    "    \n",
    "    subjects = extractListSubject(nestedDictGet(item, \"subject\"))\n",
    "    \n",
    "    fake = Faker()\n",
    "    Faker.seed(title + str(subjects))\n",
    "\n",
    "    genre_flattend = flattenObj(nestedDictGet(item, \"genre\")) \n",
    "    genre = extractOneGenre(genre_flattend) if genre_flattend != {} else fake.word()\n",
    "    \n",
    "    return title, subtitle, publish_date, abstract, creator, subjects, genre"
   ]
  },
  {
   "cell_type": "code",
   "execution_count": 18,
   "metadata": {},
   "outputs": [],
   "source": [
    "def extractPicture(item):\n",
    "    title, subtitle, publish_date, abstract, creator, subjects, genre = extractInformation(item)\n",
    "    \n",
    "    # only gets small preview\n",
    "    location_flattend = flattenObj(nestedDictGet(item, \"location\"))\n",
    "    url = extractURL(location_flattend)\n",
    "    image_a85 = a85encode(requests.get(url).content) if url else None\n",
    "\n",
    "    fake = Faker()\n",
    "    Faker.seed(title + str(subjects))\n",
    "\n",
    "    val_sorte = {\n",
    "        \"Name\": genre,\n",
    "        \"Beschreibung\": fake.paragraph()\n",
    "    }\n",
    "\n",
    "    creator = creator if creator else fake.name()\n",
    "    val_person = {\n",
    "        \"Vorname\": creator.split(\" \")[0],\n",
    "        \"Name\": creator.split(\" \")[-1],\n",
    "        \"Email\": f\"{creator.split(' ')[0]}@{creator.split(' ')[-1]}.{fake.tld()}\",\n",
    "        \"Geburtsdatum\": fake.date_of_birth()\n",
    "    }\n",
    "\n",
    "    val_maler = {\n",
    "        \"PersonenId\": \"\",\n",
    "        \"Beschreibung\": fake.paragraph()\n",
    "    }\n",
    "\n",
    "    val_nichttextmedien = {\n",
    "        \"Titel\": title,\n",
    "        \"Untertitel\": subtitle,\n",
    "        \"Erscheinungsjahr\": publish_date,\n",
    "        \"Kurzbeschreibung\": abstract if abstract else fake.paragraph(),\n",
    "        \"SorteId\": \"\",\n",
    "        \"Typ\": \"\"\n",
    "    }\n",
    "\n",
    "    val_bild = {\n",
    "        \"NichtTextMedienId\": \"\",\n",
    "        \"Bild\": image_a85,\n",
    "        \"MalerId\": \"\"\n",
    "    }\n",
    "\n",
    "    return val_sorte, val_person, val_maler, val_nichttextmedien, val_bild\n",
    "\n",
    ""
   ]
  },
  {
   "cell_type": "code",
   "execution_count": 19,
   "metadata": {},
   "outputs": [],
   "source": [
    "def extractVideo(item):\n",
    "    title, subtitle, publish_date, abstract, creator, subjects, genre = extractInformation(item)\n",
    "\n",
    "    language_flattend = flattenObj(nestedDictGet(item, \"language\"))\n",
    "    language = language_flattend.get(\"languageTerm_1_#text\")\n",
    "\n",
    "    fake = Faker()\n",
    "    Faker.seed(title+language+str(subjects))\n",
    "\n",
    "    val_sorte = {\n",
    "        \"Name\": genre,\n",
    "        \"Beschreibung\": fake.paragraph()\n",
    "    }\n",
    "\n",
    "    val_nichttextmedien = {\n",
    "        \"Titel\": title,\n",
    "        \"Untertitel\": subtitle,\n",
    "        \"Erscheinungsjahr\": publish_date,\n",
    "        \"Kurzbeschreibung\": abstract if abstract else fake.paragraph(),\n",
    "        \"SorteId\": \"\",\n",
    "        \"Typ\": \"\"\n",
    "    }\n",
    "\n",
    "    val_video = {\n",
    "        \"NichtTextMedienId\": \"\",\n",
    "        \"Sprache\": language\n",
    "    }\n",
    "\n",
    "    return val_sorte, val_nichttextmedien, val_video\n",
    ""
   ]
  },
  {
   "cell_type": "code",
   "execution_count": 20,
   "metadata": {},
   "outputs": [],
   "source": [
    "def extractBook(item):\n",
    "    title, subtitle, publish_date, abstract, creator, subjects, genre = extractInformation(item)\n",
    "    \n",
    "    language_flattend = flattenObj(nestedDictGet(item, \"language\"))\n",
    "    language = language_flattend.get(\"languageTerm_1_#text\")\n",
    "    \n",
    "    originInfo_flattend = flattenObj(nestedDictGet(item, \"originInfo\"))\n",
    "    edition = extractEdition(originInfo_flattend)\n",
    "    \n",
    "    publisher = extractPublisher(originInfo_flattend)\n",
    "    \n",
    "    # factor 100 to create cent values when dividing again\n",
    "    random.seed(title)\n",
    "    price = random.randint(100, 10000)/100\n",
    "\n",
    "    fake = Faker()\n",
    "    Faker.seed(title+language+str(subjects))\n",
    "\n",
    "    val_verlag = {\n",
    "        \"Kurzname\" : publisher,\n",
    "        \"Name\" : fake.company(),\n",
    "        \"Postleitzahl\" : fake.postalcode(),\n",
    "        \"Strasse\" : fake.street_address(),\n",
    "        \"Internetadresse\" : fake.domain_name(),\n",
    "        \"Beschreibung\" : fake.paragraph()\n",
    "    }\n",
    "\n",
    "    val_schlagwort = [\n",
    "        {   \"Wort\": word if word else fake.word(), \"Beschreibung\": fake.paragraph() } for word in subjects\n",
    "    ]\n",
    "\n",
    "    val_buch = {\n",
    "        \"ISBN\": fake.isbn13().replace(\"-\",\"\"),\n",
    "        \"Titel\": title,\n",
    "        \"Untertitel\": subtitle,\n",
    "        \"VerlagId\": \"\",\n",
    "        \"Erscheinungsjahr\": publish_date,\n",
    "        \"SorteId\": \"\",\n",
    "        \"Kurzbeschreibung\": abstract if abstract else fake.paragraph(),\n",
    "        \"Preis\": str(price),\n",
    "        \"Auflage\": edition,\n",
    "        \"Sprache\": language\n",
    "    }\n",
    "\n",
    "    creator = creator if creator else fake.name()\n",
    "    val_person = {\n",
    "        \"Vorname\": creator.split(\" \")[0],\n",
    "        \"Name\": creator.split(\" \")[-1],\n",
    "        \"Email\": f\"{creator.split(' ')[0]}@{creator.split(' ')[-1]}.{fake.tld()}\",\n",
    "        \"Geburtsdatum\": fake.date_of_birth()\n",
    "    }\n",
    "\n",
    "    val_autor = {\n",
    "        \"PersonenId\": \"\",\n",
    "        \"Beschreibung\": fake.paragraph()\n",
    "    }\n",
    "\n",
    "    val_sorte = {\n",
    "        \"Name\": genre,\n",
    "        \"Beschreibung\": fake.paragraph()\n",
    "    }\n",
    "    \n",
    "    return val_schlagwort, val_verlag, val_buch, val_person, val_autor, val_sorte"
   ]
  },
  {
   "cell_type": "markdown",
   "metadata": {},
   "source": [
    "# Extract all from API"
   ]
  },
  {
   "cell_type": "code",
   "execution_count": 21,
   "metadata": {
    "tags": [
     "outputPrepend",
     "outputPrepend",
     "outputPrepend",
     "outputPrepend",
     "outputPrepend",
     "outputPrepend",
     "outputPrepend",
     "outputPrepend",
     "outputPrepend",
     "outputPrepend",
     "outputPrepend",
     "outputPrepend",
     "outputPrepend",
     "outputPrepend",
     "outputPrepend",
     "outputPrepend",
     "outputPrepend",
     "outputPrepend",
     "outputPrepend",
     "outputPrepend",
     "outputPrepend",
     "outputPrepend",
     "outputPrepend",
     "outputPrepend",
     "outputPrepend",
     "outputPrepend",
     "outputPrepend",
     "outputPrepend"
    ]
   },
   "outputs": [
    {
     "output_type": "stream",
     "name": "stderr",
     "text": "line 583, in start\n    self.io_loop.start()\n  File \"/opt/conda/lib/python3.7/site-packages/tornado/platform/asyncio.py\", line 149, in start\n    self.asyncio_loop.run_forever()\n  File \"/opt/conda/lib/python3.7/asyncio/base_events.py\", line 538, in run_forever\n    self._run_once()\n  File \"/opt/conda/lib/python3.7/asyncio/base_events.py\", line 1782, in _run_once\n    handle._run()\n  File \"/opt/conda/lib/python3.7/asyncio/events.py\", line 88, in _run\n    self._context.run(self._callback, *self._args)\n  File \"/opt/conda/lib/python3.7/site-packages/tornado/ioloop.py\", line 690, in <lambda>\n    lambda f: self._run_callback(functools.partial(callback, future))\n  File \"/opt/conda/lib/python3.7/site-packages/tornado/ioloop.py\", line 743, in _run_callback\n    ret = callback()\n  File \"/opt/conda/lib/python3.7/site-packages/tornado/gen.py\", line 787, in inner\n    self.run()\n  File \"/opt/conda/lib/python3.7/site-packages/tornado/gen.py\", line 748, in run\n    yielded = self.gen.send(value)\n  File \"/opt/conda/lib/python3.7/site-packages/ipykernel/kernelbase.py\", line 361, in process_one\n    yield gen.maybe_future(dispatch(*args))\n  File \"/opt/conda/lib/python3.7/site-packages/tornado/gen.py\", line 209, in wrapper\n    yielded = next(result)\n  File \"/opt/conda/lib/python3.7/site-packages/ipykernel/kernelbase.py\", line 268, in dispatch_shell\n    yield gen.maybe_future(handler(stream, idents, msg))\n  File \"/opt/conda/lib/python3.7/site-packages/tornado/gen.py\", line 209, in wrapper\n    yielded = next(result)\n  File \"/opt/conda/lib/python3.7/site-packages/ipykernel/kernelbase.py\", line 541, in execute_request\n    user_expressions, allow_stdin,\n  File \"/opt/conda/lib/python3.7/site-packages/tornado/gen.py\", line 209, in wrapper\n    yielded = next(result)\n  File \"/opt/conda/lib/python3.7/site-packages/ipykernel/ipkernel.py\", line 300, in do_execute\n    res = shell.run_cell(code, store_history=store_history, silent=silent)\n  File \"/opt/conda/lib/python3.7/site-packages/ipykernel/zmqshell.py\", line 536, in run_cell\n    return super(ZMQInteractiveShell, self).run_cell(*args, **kwargs)\n  File \"/opt/conda/lib/python3.7/site-packages/IPython/core/interactiveshell.py\", line 2858, in run_cell\n    raw_cell, store_history, silent, shell_futures)\n  File \"/opt/conda/lib/python3.7/site-packages/IPython/core/interactiveshell.py\", line 2886, in _run_cell\n    return runner(coro)\n  File \"/opt/conda/lib/python3.7/site-packages/IPython/core/async_helpers.py\", line 68, in _pseudo_sync_runner\n    coro.send(None)\n  File \"/opt/conda/lib/python3.7/site-packages/IPython/core/interactiveshell.py\", line 3063, in run_cell_async\n    interactivity=interactivity, compiler=compiler, result=result)\n  File \"/opt/conda/lib/python3.7/site-packages/IPython/core/interactiveshell.py\", line 3254, in run_ast_nodes\n    if (await self.run_code(code, result,  async_=asy)):\n  File \"/opt/conda/lib/python3.7/site-packages/IPython/core/interactiveshell.py\", line 3331, in run_code\n    exec(code_obj, self.user_global_ns, self.user_ns)\n  File \"<ipython-input-21-d8444f0b7347>\", line 23, in <module>\n    dbc.insert_bild(val_sorte, val_person, val_maler, val_nichttextmedien, val_bild)\n  File \"/jupyter/python/db_connection.py\", line 235, in insert_bild\n    logging.error(e)\nMessage: DataError(1264, \"1264 (22003): Out of range value for column 'Erscheinungsjahr' at row 1\", '22003')\nArguments: ()\n--- Logging error ---\nTraceback (most recent call last):\n  File \"/opt/conda/lib/python3.7/site-packages/mysql/connector/connection_cext.py\", line 489, in cmd_query\n    raw_as_string=raw_as_string)\n_mysql_connector.MySQLInterfaceError: Column 'Name' cannot be null\n\nDuring handling of the above exception, another exception occurred:\n\nTraceback (most recent call last):\n  File \"/jupyter/python/db_connection.py\", line 214, in insert_bild\n    sorte_id = self.__insert_db(self.INSERT_SORTE, val_sorte, self.SELECT_SORTE)\n  File \"/jupyter/python/db_connection.py\", line 83, in __insert_db\n    self.__cursor.execute(INSERT, val)\n  File \"/opt/conda/lib/python3.7/site-packages/mysql/connector/cursor_cext.py\", line 266, in execute\n    raw_as_string=self._raw_as_string)\n  File \"/opt/conda/lib/python3.7/site-packages/mysql/connector/connection_cext.py\", line 492, in cmd_query\n    sqlstate=exc.sqlstate)\nmysql.connector.errors.IntegrityError: 1048 (23000): Column 'Name' cannot be null\n\nDuring handling of the above exception, another exception occurred:\n\nTraceback (most recent call last):\n  File \"/opt/conda/lib/python3.7/logging/__init__.py\", line 1025, in emit\n    msg = self.format(record)\n  File \"/opt/conda/lib/python3.7/logging/__init__.py\", line 869, in format\n    return fmt.format(record)\n  File \"/opt/conda/lib/python3.7/logging/__init__.py\", line 611, in format\n    s = self.formatMessage(record)\n  File \"/opt/conda/lib/python3.7/logging/__init__.py\", line 580, in formatMessage\n    return self._style.format(record)\n  File \"/opt/conda/lib/python3.7/logging/__init__.py\", line 422, in format\n    return self._fmt % record.__dict__\nKeyError: 'clientip'\nCall stack:\n  File \"/opt/conda/lib/python3.7/runpy.py\", line 193, in _run_module_as_main\n    \"__main__\", mod_spec)\n  File \"/opt/conda/lib/python3.7/runpy.py\", line 85, in _run_code\n    exec(code, run_globals)\n  File \"/opt/conda/lib/python3.7/site-packages/ipykernel_launcher.py\", line 16, in <module>\n    app.launch_new_instance()\n  File \"/opt/conda/lib/python3.7/site-packages/traitlets/config/application.py\", line 664, in launch_instance\n    app.start()\n  File \"/opt/conda/lib/python3.7/site-packages/ipykernel/kernelapp.py\", line 583, in start\n    self.io_loop.start()\n  File \"/opt/conda/lib/python3.7/site-packages/tornado/platform/asyncio.py\", line 149, in start\n    self.asyncio_loop.run_forever()\n  File \"/opt/conda/lib/python3.7/asyncio/base_events.py\", line 538, in run_forever\n    self._run_once()\n  File \"/opt/conda/lib/python3.7/asyncio/base_events.py\", line 1782, in _run_once\n    handle._run()\n  File \"/opt/conda/lib/python3.7/asyncio/events.py\", line 88, in _run\n    self._context.run(self._callback, *self._args)\n  File \"/opt/conda/lib/python3.7/site-packages/tornado/ioloop.py\", line 690, in <lambda>\n    lambda f: self._run_callback(functools.partial(callback, future))\n  File \"/opt/conda/lib/python3.7/site-packages/tornado/ioloop.py\", line 743, in _run_callback\n    ret = callback()\n  File \"/opt/conda/lib/python3.7/site-packages/tornado/gen.py\", line 787, in inner\n    self.run()\n  File \"/opt/conda/lib/python3.7/site-packages/tornado/gen.py\", line 748, in run\n    yielded = self.gen.send(value)\n  File \"/opt/conda/lib/python3.7/site-packages/ipykernel/kernelbase.py\", line 361, in process_one\n    yield gen.maybe_future(dispatch(*args))\n  File \"/opt/conda/lib/python3.7/site-packages/tornado/gen.py\", line 209, in wrapper\n    yielded = next(result)\n  File \"/opt/conda/lib/python3.7/site-packages/ipykernel/kernelbase.py\", line 268, in dispatch_shell\n    yield gen.maybe_future(handler(stream, idents, msg))\n  File \"/opt/conda/lib/python3.7/site-packages/tornado/gen.py\", line 209, in wrapper\n    yielded = next(result)\n  File \"/opt/conda/lib/python3.7/site-packages/ipykernel/kernelbase.py\", line 541, in execute_request\n    user_expressions, allow_stdin,\n  File \"/opt/conda/lib/python3.7/site-packages/tornado/gen.py\", line 209, in wrapper\n    yielded = next(result)\n  File \"/opt/conda/lib/python3.7/site-packages/ipykernel/ipkernel.py\", line 300, in do_execute\n    res = shell.run_cell(code, store_history=store_history, silent=silent)\n  File \"/opt/conda/lib/python3.7/site-packages/ipykernel/zmqshell.py\", line 536, in run_cell\n    return super(ZMQInteractiveShell, self).run_cell(*args, **kwargs)\n  File \"/opt/conda/lib/python3.7/site-packages/IPython/core/interactiveshell.py\", line 2858, in run_cell\n    raw_cell, store_history, silent, shell_futures)\n  File \"/opt/conda/lib/python3.7/site-packages/IPython/core/interactiveshell.py\", line 2886, in _run_cell\n    return runner(coro)\n  File \"/opt/conda/lib/python3.7/site-packages/IPython/core/async_helpers.py\", line 68, in _pseudo_sync_runner\n    coro.send(None)\n  File \"/opt/conda/lib/python3.7/site-packages/IPython/core/interactiveshell.py\", line 3063, in run_cell_async\n    interactivity=interactivity, compiler=compiler, result=result)\n  File \"/opt/conda/lib/python3.7/site-packages/IPython/core/interactiveshell.py\", line 3254, in run_ast_nodes\n    if (await self.run_code(code, result,  async_=asy)):\n  File \"/opt/conda/lib/python3.7/site-packages/IPython/core/interactiveshell.py\", line 3331, in run_code\n    exec(code_obj, self.user_global_ns, self.user_ns)\n  File \"<ipython-input-21-d8444f0b7347>\", line 23, in <module>\n    dbc.insert_bild(val_sorte, val_person, val_maler, val_nichttextmedien, val_bild)\n  File \"/jupyter/python/db_connection.py\", line 235, in insert_bild\n    logging.error(e)\nMessage: IntegrityError(1048, \"1048 (23000): Column 'Name' cannot be null\", '23000')\nArguments: ()\n--- Logging error ---\nTraceback (most recent call last):\n  File \"/opt/conda/lib/python3.7/site-packages/mysql/connector/connection_cext.py\", line 489, in cmd_query\n    raw_as_string=raw_as_string)\n_mysql_connector.MySQLInterfaceError: Column 'Name' cannot be null\n\nDuring handling of the above exception, another exception occurred:\n\nTraceback (most recent call last):\n  File \"/jupyter/python/db_connection.py\", line 214, in insert_bild\n    sorte_id = self.__insert_db(self.INSERT_SORTE, val_sorte, self.SELECT_SORTE)\n  File \"/jupyter/python/db_connection.py\", line 83, in __insert_db\n    self.__cursor.execute(INSERT, val)\n  File \"/opt/conda/lib/python3.7/site-packages/mysql/connector/cursor_cext.py\", line 266, in execute\n    raw_as_string=self._raw_as_string)\n  File \"/opt/conda/lib/python3.7/site-packages/mysql/connector/connection_cext.py\", line 492, in cmd_query\n    sqlstate=exc.sqlstate)\nmysql.connector.errors.IntegrityError: 1048 (23000): Column 'Name' cannot be null\n\nDuring handling of the above exception, another exception occurred:\n\nTraceback (most recent call last):\n  File \"/opt/conda/lib/python3.7/logging/__init__.py\", line 1025, in emit\n    msg = self.format(record)\n  File \"/opt/conda/lib/python3.7/logging/__init__.py\", line 869, in format\n    return fmt.format(record)\n  File \"/opt/conda/lib/python3.7/logging/__init__.py\", line 611, in format\n    s = self.formatMessage(record)\n  File \"/opt/conda/lib/python3.7/logging/__init__.py\", line 580, in formatMessage\n    return self._style.format(record)\n  File \"/opt/conda/lib/python3.7/logging/__init__.py\", line 422, in format\n    return self._fmt % record.__dict__\nKeyError: 'clientip'\nCall stack:\n  File \"/opt/conda/lib/python3.7/runpy.py\", line 193, in _run_module_as_main\n    \"__main__\", mod_spec)\n  File \"/opt/conda/lib/python3.7/runpy.py\", line 85, in _run_code\n    exec(code, run_globals)\n  File \"/opt/conda/lib/python3.7/site-packages/ipykernel_launcher.py\", line 16, in <module>\n    app.launch_new_instance()\n  File \"/opt/conda/lib/python3.7/site-packages/traitlets/config/application.py\", line 664, in launch_instance\n    app.start()\n  File \"/opt/conda/lib/python3.7/site-packages/ipykernel/kernelapp.py\", line 583, in start\n    self.io_loop.start()\n  File \"/opt/conda/lib/python3.7/site-packages/tornado/platform/asyncio.py\", line 149, in start\n    self.asyncio_loop.run_forever()\n  File \"/opt/conda/lib/python3.7/asyncio/base_events.py\", line 538, in run_forever\n    self._run_once()\n  File \"/opt/conda/lib/python3.7/asyncio/base_events.py\", line 1782, in _run_once\n    handle._run()\n  File \"/opt/conda/lib/python3.7/asyncio/events.py\", line 88, in _run\n    self._context.run(self._callback, *self._args)\n  File \"/opt/conda/lib/python3.7/site-packages/tornado/ioloop.py\", line 690, in <lambda>\n    lambda f: self._run_callback(functools.partial(callback, future))\n  File \"/opt/conda/lib/python3.7/site-packages/tornado/ioloop.py\", line 743, in _run_callback\n    ret = callback()\n  File \"/opt/conda/lib/python3.7/site-packages/tornado/gen.py\", line 787, in inner\n    self.run()\n  File \"/opt/conda/lib/python3.7/site-packages/tornado/gen.py\", line 748, in run\n    yielded = self.gen.send(value)\n  File \"/opt/conda/lib/python3.7/site-packages/ipykernel/kernelbase.py\", line 361, in process_one\n    yield gen.maybe_future(dispatch(*args))\n  File \"/opt/conda/lib/python3.7/site-packages/tornado/gen.py\", line 209, in wrapper\n    yielded = next(result)\n  File \"/opt/conda/lib/python3.7/site-packages/ipykernel/kernelbase.py\", line 268, in dispatch_shell\n    yield gen.maybe_future(handler(stream, idents, msg))\n  File \"/opt/conda/lib/python3.7/site-packages/tornado/gen.py\", line 209, in wrapper\n    yielded = next(result)\n  File \"/opt/conda/lib/python3.7/site-packages/ipykernel/kernelbase.py\", line 541, in execute_request\n    user_expressions, allow_stdin,\n  File \"/opt/conda/lib/python3.7/site-packages/tornado/gen.py\", line 209, in wrapper\n    yielded = next(result)\n  File \"/opt/conda/lib/python3.7/site-packages/ipykernel/ipkernel.py\", line 300, in do_execute\n    res = shell.run_cell(code, store_history=store_history, silent=silent)\n  File \"/opt/conda/lib/python3.7/site-packages/ipykernel/zmqshell.py\", line 536, in run_cell\n    return super(ZMQInteractiveShell, self).run_cell(*args, **kwargs)\n  File \"/opt/conda/lib/python3.7/site-packages/IPython/core/interactiveshell.py\", line 2858, in run_cell\n    raw_cell, store_history, silent, shell_futures)\n  File \"/opt/conda/lib/python3.7/site-packages/IPython/core/interactiveshell.py\", line 2886, in _run_cell\n    return runner(coro)\n  File \"/opt/conda/lib/python3.7/site-packages/IPython/core/async_helpers.py\", line 68, in _pseudo_sync_runner\n    coro.send(None)\n  File \"/opt/conda/lib/python3.7/site-packages/IPython/core/interactiveshell.py\", line 3063, in run_cell_async\n    interactivity=interactivity, compiler=compiler, result=result)\n  File \"/opt/conda/lib/python3.7/site-packages/IPython/core/interactiveshell.py\", line 3254, in run_ast_nodes\n    if (await self.run_code(code, result,  async_=asy)):\n  File \"/opt/conda/lib/python3.7/site-packages/IPython/core/interactiveshell.py\", line 3331, in run_code\n    exec(code_obj, self.user_global_ns, self.user_ns)\n  File \"<ipython-input-21-d8444f0b7347>\", line 23, in <module>\n    dbc.insert_bild(val_sorte, val_person, val_maler, val_nichttextmedien, val_bild)\n  File \"/jupyter/python/db_connection.py\", line 235, in insert_bild\n    logging.error(e)\nMessage: IntegrityError(1048, \"1048 (23000): Column 'Name' cannot be null\", '23000')\nArguments: ()\n--- Logging error ---\nTraceback (most recent call last):\n  File \"/opt/conda/lib/python3.7/site-packages/mysql/connector/connection_cext.py\", line 489, in cmd_query\n    raw_as_string=raw_as_string)\n_mysql_connector.MySQLInterfaceError: Column 'Name' cannot be null\n\nDuring handling of the above exception, another exception occurred:\n\nTraceback (most recent call last):\n  File \"/jupyter/python/db_connection.py\", line 214, in insert_bild\n    sorte_id = self.__insert_db(self.INSERT_SORTE, val_sorte, self.SELECT_SORTE)\n  File \"/jupyter/python/db_connection.py\", line 83, in __insert_db\n    self.__cursor.execute(INSERT, val)\n  File \"/opt/conda/lib/python3.7/site-packages/mysql/connector/cursor_cext.py\", line 266, in execute\n    raw_as_string=self._raw_as_string)\n  File \"/opt/conda/lib/python3.7/site-packages/mysql/connector/connection_cext.py\", line 492, in cmd_query\n    sqlstate=exc.sqlstate)\nmysql.connector.errors.IntegrityError: 1048 (23000): Column 'Name' cannot be null\n\nDuring handling of the above exception, another exception occurred:\n\nTraceback (most recent call last):\n  File \"/opt/conda/lib/python3.7/logging/__init__.py\", line 1025, in emit\n    msg = self.format(record)\n  File \"/opt/conda/lib/python3.7/logging/__init__.py\", line 869, in format\n    return fmt.format(record)\n  File \"/opt/conda/lib/python3.7/logging/__init__.py\", line 611, in format\n    s = self.formatMessage(record)\n  File \"/opt/conda/lib/python3.7/logging/__init__.py\", line 580, in formatMessage\n    return self._style.format(record)\n  File \"/opt/conda/lib/python3.7/logging/__init__.py\", line 422, in format\n    return self._fmt % record.__dict__\nKeyError: 'clientip'\nCall stack:\n  File \"/opt/conda/lib/python3.7/runpy.py\", line 193, in _run_module_as_main\n    \"__main__\", mod_spec)\n  File \"/opt/conda/lib/python3.7/runpy.py\", line 85, in _run_code\n    exec(code, run_globals)\n  File \"/opt/conda/lib/python3.7/site-packages/ipykernel_launcher.py\", line 16, in <module>\n    app.launch_new_instance()\n  File \"/opt/conda/lib/python3.7/site-packages/traitlets/config/application.py\", line 664, in launch_instance\n    app.start()\n  File \"/opt/conda/lib/python3.7/site-packages/ipykernel/kernelapp.py\", line 583, in start\n    self.io_loop.start()\n  File \"/opt/conda/lib/python3.7/site-packages/tornado/platform/asyncio.py\", line 149, in start\n    self.asyncio_loop.run_forever()\n  File \"/opt/conda/lib/python3.7/asyncio/base_events.py\", line 538, in run_forever\n    self._run_once()\n  File \"/opt/conda/lib/python3.7/asyncio/base_events.py\", line 1782, in _run_once\n    handle._run()\n  File \"/opt/conda/lib/python3.7/asyncio/events.py\", line 88, in _run\n    self._context.run(self._callback, *self._args)\n  File \"/opt/conda/lib/python3.7/site-packages/tornado/ioloop.py\", line 690, in <lambda>\n    lambda f: self._run_callback(functools.partial(callback, future))\n  File \"/opt/conda/lib/python3.7/site-packages/tornado/ioloop.py\", line 743, in _run_callback\n    ret = callback()\n  File \"/opt/conda/lib/python3.7/site-packages/tornado/gen.py\", line 787, in inner\n    self.run()\n  File \"/opt/conda/lib/python3.7/site-packages/tornado/gen.py\", line 748, in run\n    yielded = self.gen.send(value)\n  File \"/opt/conda/lib/python3.7/site-packages/ipykernel/kernelbase.py\", line 361, in process_one\n    yield gen.maybe_future(dispatch(*args))\n  File \"/opt/conda/lib/python3.7/site-packages/tornado/gen.py\", line 209, in wrapper\n    yielded = next(result)\n  File \"/opt/conda/lib/python3.7/site-packages/ipykernel/kernelbase.py\", line 268, in dispatch_shell\n    yield gen.maybe_future(handler(stream, idents, msg))\n  File \"/opt/conda/lib/python3.7/site-packages/tornado/gen.py\", line 209, in wrapper\n    yielded = next(result)\n  File \"/opt/conda/lib/python3.7/site-packages/ipykernel/kernelbase.py\", line 541, in execute_request\n    user_expressions, allow_stdin,\n  File \"/opt/conda/lib/python3.7/site-packages/tornado/gen.py\", line 209, in wrapper\n    yielded = next(result)\n  File \"/opt/conda/lib/python3.7/site-packages/ipykernel/ipkernel.py\", line 300, in do_execute\n    res = shell.run_cell(code, store_history=store_history, silent=silent)\n  File \"/opt/conda/lib/python3.7/site-packages/ipykernel/zmqshell.py\", line 536, in run_cell\n    return super(ZMQInteractiveShell, self).run_cell(*args, **kwargs)\n  File \"/opt/conda/lib/python3.7/site-packages/IPython/core/interactiveshell.py\", line 2858, in run_cell\n    raw_cell, store_history, silent, shell_futures)\n  File \"/opt/conda/lib/python3.7/site-packages/IPython/core/interactiveshell.py\", line 2886, in _run_cell\n    return runner(coro)\n  File \"/opt/conda/lib/python3.7/site-packages/IPython/core/async_helpers.py\", line 68, in _pseudo_sync_runner\n    coro.send(None)\n  File \"/opt/conda/lib/python3.7/site-packages/IPython/core/interactiveshell.py\", line 3063, in run_cell_async\n    interactivity=interactivity, compiler=compiler, result=result)\n  File \"/opt/conda/lib/python3.7/site-packages/IPython/core/interactiveshell.py\", line 3254, in run_ast_nodes\n    if (await self.run_code(code, result,  async_=asy)):\n  File \"/opt/conda/lib/python3.7/site-packages/IPython/core/interactiveshell.py\", line 3331, in run_code\n    exec(code_obj, self.user_global_ns, self.user_ns)\n  File \"<ipython-input-21-d8444f0b7347>\", line 23, in <module>\n    dbc.insert_bild(val_sorte, val_person, val_maler, val_nichttextmedien, val_bild)\n  File \"/jupyter/python/db_connection.py\", line 235, in insert_bild\n    logging.error(e)\nMessage: IntegrityError(1048, \"1048 (23000): Column 'Name' cannot be null\", '23000')\nArguments: ()\n"
    },
    {
     "output_type": "error",
     "ename": "KeyboardInterrupt",
     "evalue": "",
     "traceback": [
      "\u001b[0;31m---------------------------------------------------------------------------\u001b[0m",
      "\u001b[0;31mKeyboardInterrupt\u001b[0m                         Traceback (most recent call last)",
      "\u001b[0;32m<ipython-input-21-d8444f0b7347>\u001b[0m in \u001b[0;36m<module>\u001b[0;34m\u001b[0m\n\u001b[1;32m     20\u001b[0m                 \u001b[0mdbc\u001b[0m\u001b[0;34m.\u001b[0m\u001b[0minsert_video\u001b[0m\u001b[0;34m(\u001b[0m\u001b[0mval_sorte\u001b[0m\u001b[0;34m,\u001b[0m \u001b[0mval_nichttextmedien\u001b[0m\u001b[0;34m,\u001b[0m \u001b[0mval_video\u001b[0m\u001b[0;34m)\u001b[0m\u001b[0;34m\u001b[0m\u001b[0;34m\u001b[0m\u001b[0m\n\u001b[1;32m     21\u001b[0m             \u001b[0;32melse\u001b[0m\u001b[0;34m:\u001b[0m\u001b[0;34m\u001b[0m\u001b[0;34m\u001b[0m\u001b[0m\n\u001b[0;32m---> 22\u001b[0;31m                 \u001b[0mval_sorte\u001b[0m\u001b[0;34m,\u001b[0m \u001b[0mval_person\u001b[0m\u001b[0;34m,\u001b[0m \u001b[0mval_maler\u001b[0m\u001b[0;34m,\u001b[0m \u001b[0mval_nichttextmedien\u001b[0m\u001b[0;34m,\u001b[0m \u001b[0mval_bild\u001b[0m \u001b[0;34m=\u001b[0m \u001b[0mextractPicture\u001b[0m\u001b[0;34m(\u001b[0m\u001b[0mitem\u001b[0m\u001b[0;34m)\u001b[0m\u001b[0;34m\u001b[0m\u001b[0;34m\u001b[0m\u001b[0m\n\u001b[0m\u001b[1;32m     23\u001b[0m                 \u001b[0mdbc\u001b[0m\u001b[0;34m.\u001b[0m\u001b[0minsert_bild\u001b[0m\u001b[0;34m(\u001b[0m\u001b[0mval_sorte\u001b[0m\u001b[0;34m,\u001b[0m \u001b[0mval_person\u001b[0m\u001b[0;34m,\u001b[0m \u001b[0mval_maler\u001b[0m\u001b[0;34m,\u001b[0m \u001b[0mval_nichttextmedien\u001b[0m\u001b[0;34m,\u001b[0m \u001b[0mval_bild\u001b[0m\u001b[0;34m)\u001b[0m\u001b[0;34m\u001b[0m\u001b[0;34m\u001b[0m\u001b[0m\n\u001b[1;32m     24\u001b[0m         \u001b[0;32mexcept\u001b[0m \u001b[0mException\u001b[0m \u001b[0;32mas\u001b[0m \u001b[0me\u001b[0m\u001b[0;34m:\u001b[0m\u001b[0;34m\u001b[0m\u001b[0;34m\u001b[0m\u001b[0m\n",
      "\u001b[0;32m<ipython-input-18-64b76b93f196>\u001b[0m in \u001b[0;36mextractPicture\u001b[0;34m(item)\u001b[0m\n\u001b[1;32m      5\u001b[0m     \u001b[0mlocation_flattend\u001b[0m \u001b[0;34m=\u001b[0m \u001b[0mflattenObj\u001b[0m\u001b[0;34m(\u001b[0m\u001b[0mnestedDictGet\u001b[0m\u001b[0;34m(\u001b[0m\u001b[0mitem\u001b[0m\u001b[0;34m,\u001b[0m \u001b[0;34m\"location\"\u001b[0m\u001b[0;34m)\u001b[0m\u001b[0;34m)\u001b[0m\u001b[0;34m\u001b[0m\u001b[0;34m\u001b[0m\u001b[0m\n\u001b[1;32m      6\u001b[0m     \u001b[0murl\u001b[0m \u001b[0;34m=\u001b[0m \u001b[0mextractURL\u001b[0m\u001b[0;34m(\u001b[0m\u001b[0mlocation_flattend\u001b[0m\u001b[0;34m)\u001b[0m\u001b[0;34m\u001b[0m\u001b[0;34m\u001b[0m\u001b[0m\n\u001b[0;32m----> 7\u001b[0;31m     \u001b[0mimage_a85\u001b[0m \u001b[0;34m=\u001b[0m \u001b[0ma85encode\u001b[0m\u001b[0;34m(\u001b[0m\u001b[0mrequests\u001b[0m\u001b[0;34m.\u001b[0m\u001b[0mget\u001b[0m\u001b[0;34m(\u001b[0m\u001b[0murl\u001b[0m\u001b[0;34m)\u001b[0m\u001b[0;34m.\u001b[0m\u001b[0mcontent\u001b[0m\u001b[0;34m)\u001b[0m \u001b[0;32mif\u001b[0m \u001b[0murl\u001b[0m \u001b[0;32melse\u001b[0m \u001b[0;32mNone\u001b[0m\u001b[0;34m\u001b[0m\u001b[0;34m\u001b[0m\u001b[0m\n\u001b[0m\u001b[1;32m      8\u001b[0m \u001b[0;34m\u001b[0m\u001b[0m\n\u001b[1;32m      9\u001b[0m     \u001b[0mfake\u001b[0m \u001b[0;34m=\u001b[0m \u001b[0mFaker\u001b[0m\u001b[0;34m(\u001b[0m\u001b[0;34m)\u001b[0m\u001b[0;34m\u001b[0m\u001b[0;34m\u001b[0m\u001b[0m\n",
      "\u001b[0;32m/opt/conda/lib/python3.7/site-packages/requests/api.py\u001b[0m in \u001b[0;36mget\u001b[0;34m(url, params, **kwargs)\u001b[0m\n\u001b[1;32m     74\u001b[0m \u001b[0;34m\u001b[0m\u001b[0m\n\u001b[1;32m     75\u001b[0m     \u001b[0mkwargs\u001b[0m\u001b[0;34m.\u001b[0m\u001b[0msetdefault\u001b[0m\u001b[0;34m(\u001b[0m\u001b[0;34m'allow_redirects'\u001b[0m\u001b[0;34m,\u001b[0m \u001b[0;32mTrue\u001b[0m\u001b[0;34m)\u001b[0m\u001b[0;34m\u001b[0m\u001b[0;34m\u001b[0m\u001b[0m\n\u001b[0;32m---> 76\u001b[0;31m     \u001b[0;32mreturn\u001b[0m \u001b[0mrequest\u001b[0m\u001b[0;34m(\u001b[0m\u001b[0;34m'get'\u001b[0m\u001b[0;34m,\u001b[0m \u001b[0murl\u001b[0m\u001b[0;34m,\u001b[0m \u001b[0mparams\u001b[0m\u001b[0;34m=\u001b[0m\u001b[0mparams\u001b[0m\u001b[0;34m,\u001b[0m \u001b[0;34m**\u001b[0m\u001b[0mkwargs\u001b[0m\u001b[0;34m)\u001b[0m\u001b[0;34m\u001b[0m\u001b[0;34m\u001b[0m\u001b[0m\n\u001b[0m\u001b[1;32m     77\u001b[0m \u001b[0;34m\u001b[0m\u001b[0m\n\u001b[1;32m     78\u001b[0m \u001b[0;34m\u001b[0m\u001b[0m\n",
      "\u001b[0;32m/opt/conda/lib/python3.7/site-packages/requests/api.py\u001b[0m in \u001b[0;36mrequest\u001b[0;34m(method, url, **kwargs)\u001b[0m\n\u001b[1;32m     59\u001b[0m     \u001b[0;31m# cases, and look like a memory leak in others.\u001b[0m\u001b[0;34m\u001b[0m\u001b[0;34m\u001b[0m\u001b[0;34m\u001b[0m\u001b[0m\n\u001b[1;32m     60\u001b[0m     \u001b[0;32mwith\u001b[0m \u001b[0msessions\u001b[0m\u001b[0;34m.\u001b[0m\u001b[0mSession\u001b[0m\u001b[0;34m(\u001b[0m\u001b[0;34m)\u001b[0m \u001b[0;32mas\u001b[0m \u001b[0msession\u001b[0m\u001b[0;34m:\u001b[0m\u001b[0;34m\u001b[0m\u001b[0;34m\u001b[0m\u001b[0m\n\u001b[0;32m---> 61\u001b[0;31m         \u001b[0;32mreturn\u001b[0m \u001b[0msession\u001b[0m\u001b[0;34m.\u001b[0m\u001b[0mrequest\u001b[0m\u001b[0;34m(\u001b[0m\u001b[0mmethod\u001b[0m\u001b[0;34m=\u001b[0m\u001b[0mmethod\u001b[0m\u001b[0;34m,\u001b[0m \u001b[0murl\u001b[0m\u001b[0;34m=\u001b[0m\u001b[0murl\u001b[0m\u001b[0;34m,\u001b[0m \u001b[0;34m**\u001b[0m\u001b[0mkwargs\u001b[0m\u001b[0;34m)\u001b[0m\u001b[0;34m\u001b[0m\u001b[0;34m\u001b[0m\u001b[0m\n\u001b[0m\u001b[1;32m     62\u001b[0m \u001b[0;34m\u001b[0m\u001b[0m\n\u001b[1;32m     63\u001b[0m \u001b[0;34m\u001b[0m\u001b[0m\n",
      "\u001b[0;32m/opt/conda/lib/python3.7/site-packages/requests/sessions.py\u001b[0m in \u001b[0;36mrequest\u001b[0;34m(self, method, url, params, data, headers, cookies, files, auth, timeout, allow_redirects, proxies, hooks, stream, verify, cert, json)\u001b[0m\n\u001b[1;32m    528\u001b[0m         }\n\u001b[1;32m    529\u001b[0m         \u001b[0msend_kwargs\u001b[0m\u001b[0;34m.\u001b[0m\u001b[0mupdate\u001b[0m\u001b[0;34m(\u001b[0m\u001b[0msettings\u001b[0m\u001b[0;34m)\u001b[0m\u001b[0;34m\u001b[0m\u001b[0;34m\u001b[0m\u001b[0m\n\u001b[0;32m--> 530\u001b[0;31m         \u001b[0mresp\u001b[0m \u001b[0;34m=\u001b[0m \u001b[0mself\u001b[0m\u001b[0;34m.\u001b[0m\u001b[0msend\u001b[0m\u001b[0;34m(\u001b[0m\u001b[0mprep\u001b[0m\u001b[0;34m,\u001b[0m \u001b[0;34m**\u001b[0m\u001b[0msend_kwargs\u001b[0m\u001b[0;34m)\u001b[0m\u001b[0;34m\u001b[0m\u001b[0;34m\u001b[0m\u001b[0m\n\u001b[0m\u001b[1;32m    531\u001b[0m \u001b[0;34m\u001b[0m\u001b[0m\n\u001b[1;32m    532\u001b[0m         \u001b[0;32mreturn\u001b[0m \u001b[0mresp\u001b[0m\u001b[0;34m\u001b[0m\u001b[0;34m\u001b[0m\u001b[0m\n",
      "\u001b[0;32m/opt/conda/lib/python3.7/site-packages/requests/sessions.py\u001b[0m in \u001b[0;36msend\u001b[0;34m(self, request, **kwargs)\u001b[0m\n\u001b[1;32m    641\u001b[0m \u001b[0;34m\u001b[0m\u001b[0m\n\u001b[1;32m    642\u001b[0m         \u001b[0;31m# Send the request\u001b[0m\u001b[0;34m\u001b[0m\u001b[0;34m\u001b[0m\u001b[0;34m\u001b[0m\u001b[0m\n\u001b[0;32m--> 643\u001b[0;31m         \u001b[0mr\u001b[0m \u001b[0;34m=\u001b[0m \u001b[0madapter\u001b[0m\u001b[0;34m.\u001b[0m\u001b[0msend\u001b[0m\u001b[0;34m(\u001b[0m\u001b[0mrequest\u001b[0m\u001b[0;34m,\u001b[0m \u001b[0;34m**\u001b[0m\u001b[0mkwargs\u001b[0m\u001b[0;34m)\u001b[0m\u001b[0;34m\u001b[0m\u001b[0;34m\u001b[0m\u001b[0m\n\u001b[0m\u001b[1;32m    644\u001b[0m \u001b[0;34m\u001b[0m\u001b[0m\n\u001b[1;32m    645\u001b[0m         \u001b[0;31m# Total elapsed time of the request (approximately)\u001b[0m\u001b[0;34m\u001b[0m\u001b[0;34m\u001b[0m\u001b[0;34m\u001b[0m\u001b[0m\n",
      "\u001b[0;32m/opt/conda/lib/python3.7/site-packages/requests/adapters.py\u001b[0m in \u001b[0;36msend\u001b[0;34m(self, request, stream, timeout, verify, cert, proxies)\u001b[0m\n\u001b[1;32m    447\u001b[0m                     \u001b[0mdecode_content\u001b[0m\u001b[0;34m=\u001b[0m\u001b[0;32mFalse\u001b[0m\u001b[0;34m,\u001b[0m\u001b[0;34m\u001b[0m\u001b[0;34m\u001b[0m\u001b[0m\n\u001b[1;32m    448\u001b[0m                     \u001b[0mretries\u001b[0m\u001b[0;34m=\u001b[0m\u001b[0mself\u001b[0m\u001b[0;34m.\u001b[0m\u001b[0mmax_retries\u001b[0m\u001b[0;34m,\u001b[0m\u001b[0;34m\u001b[0m\u001b[0;34m\u001b[0m\u001b[0m\n\u001b[0;32m--> 449\u001b[0;31m                     \u001b[0mtimeout\u001b[0m\u001b[0;34m=\u001b[0m\u001b[0mtimeout\u001b[0m\u001b[0;34m\u001b[0m\u001b[0;34m\u001b[0m\u001b[0m\n\u001b[0m\u001b[1;32m    450\u001b[0m                 )\n\u001b[1;32m    451\u001b[0m \u001b[0;34m\u001b[0m\u001b[0m\n",
      "\u001b[0;32m/opt/conda/lib/python3.7/site-packages/urllib3/connectionpool.py\u001b[0m in \u001b[0;36murlopen\u001b[0;34m(self, method, url, body, headers, retries, redirect, assert_same_host, timeout, pool_timeout, release_conn, chunked, body_pos, **response_kw)\u001b[0m\n\u001b[1;32m    670\u001b[0m                 \u001b[0mbody\u001b[0m\u001b[0;34m=\u001b[0m\u001b[0mbody\u001b[0m\u001b[0;34m,\u001b[0m\u001b[0;34m\u001b[0m\u001b[0;34m\u001b[0m\u001b[0m\n\u001b[1;32m    671\u001b[0m                 \u001b[0mheaders\u001b[0m\u001b[0;34m=\u001b[0m\u001b[0mheaders\u001b[0m\u001b[0;34m,\u001b[0m\u001b[0;34m\u001b[0m\u001b[0;34m\u001b[0m\u001b[0m\n\u001b[0;32m--> 672\u001b[0;31m                 \u001b[0mchunked\u001b[0m\u001b[0;34m=\u001b[0m\u001b[0mchunked\u001b[0m\u001b[0;34m,\u001b[0m\u001b[0;34m\u001b[0m\u001b[0;34m\u001b[0m\u001b[0m\n\u001b[0m\u001b[1;32m    673\u001b[0m             )\n\u001b[1;32m    674\u001b[0m \u001b[0;34m\u001b[0m\u001b[0m\n",
      "\u001b[0;32m/opt/conda/lib/python3.7/site-packages/urllib3/connectionpool.py\u001b[0m in \u001b[0;36m_make_request\u001b[0;34m(self, conn, method, url, timeout, chunked, **httplib_request_kw)\u001b[0m\n\u001b[1;32m    374\u001b[0m         \u001b[0;31m# Trigger any extra validation we need to do.\u001b[0m\u001b[0;34m\u001b[0m\u001b[0;34m\u001b[0m\u001b[0;34m\u001b[0m\u001b[0m\n\u001b[1;32m    375\u001b[0m         \u001b[0;32mtry\u001b[0m\u001b[0;34m:\u001b[0m\u001b[0;34m\u001b[0m\u001b[0;34m\u001b[0m\u001b[0m\n\u001b[0;32m--> 376\u001b[0;31m             \u001b[0mself\u001b[0m\u001b[0;34m.\u001b[0m\u001b[0m_validate_conn\u001b[0m\u001b[0;34m(\u001b[0m\u001b[0mconn\u001b[0m\u001b[0;34m)\u001b[0m\u001b[0;34m\u001b[0m\u001b[0;34m\u001b[0m\u001b[0m\n\u001b[0m\u001b[1;32m    377\u001b[0m         \u001b[0;32mexcept\u001b[0m \u001b[0;34m(\u001b[0m\u001b[0mSocketTimeout\u001b[0m\u001b[0;34m,\u001b[0m \u001b[0mBaseSSLError\u001b[0m\u001b[0;34m)\u001b[0m \u001b[0;32mas\u001b[0m \u001b[0me\u001b[0m\u001b[0;34m:\u001b[0m\u001b[0;34m\u001b[0m\u001b[0;34m\u001b[0m\u001b[0m\n\u001b[1;32m    378\u001b[0m             \u001b[0;31m# Py2 raises this as a BaseSSLError, Py3 raises it as socket timeout.\u001b[0m\u001b[0;34m\u001b[0m\u001b[0;34m\u001b[0m\u001b[0;34m\u001b[0m\u001b[0m\n",
      "\u001b[0;32m/opt/conda/lib/python3.7/site-packages/urllib3/connectionpool.py\u001b[0m in \u001b[0;36m_validate_conn\u001b[0;34m(self, conn)\u001b[0m\n\u001b[1;32m    992\u001b[0m         \u001b[0;31m# Force connect early to allow us to validate the connection.\u001b[0m\u001b[0;34m\u001b[0m\u001b[0;34m\u001b[0m\u001b[0;34m\u001b[0m\u001b[0m\n\u001b[1;32m    993\u001b[0m         \u001b[0;32mif\u001b[0m \u001b[0;32mnot\u001b[0m \u001b[0mgetattr\u001b[0m\u001b[0;34m(\u001b[0m\u001b[0mconn\u001b[0m\u001b[0;34m,\u001b[0m \u001b[0;34m\"sock\"\u001b[0m\u001b[0;34m,\u001b[0m \u001b[0;32mNone\u001b[0m\u001b[0;34m)\u001b[0m\u001b[0;34m:\u001b[0m  \u001b[0;31m# AppEngine might not have  `.sock`\u001b[0m\u001b[0;34m\u001b[0m\u001b[0;34m\u001b[0m\u001b[0m\n\u001b[0;32m--> 994\u001b[0;31m             \u001b[0mconn\u001b[0m\u001b[0;34m.\u001b[0m\u001b[0mconnect\u001b[0m\u001b[0;34m(\u001b[0m\u001b[0;34m)\u001b[0m\u001b[0;34m\u001b[0m\u001b[0;34m\u001b[0m\u001b[0m\n\u001b[0m\u001b[1;32m    995\u001b[0m \u001b[0;34m\u001b[0m\u001b[0m\n\u001b[1;32m    996\u001b[0m         \u001b[0;32mif\u001b[0m \u001b[0;32mnot\u001b[0m \u001b[0mconn\u001b[0m\u001b[0;34m.\u001b[0m\u001b[0mis_verified\u001b[0m\u001b[0;34m:\u001b[0m\u001b[0;34m\u001b[0m\u001b[0;34m\u001b[0m\u001b[0m\n",
      "\u001b[0;32m/opt/conda/lib/python3.7/site-packages/urllib3/connection.py\u001b[0m in \u001b[0;36mconnect\u001b[0;34m(self)\u001b[0m\n\u001b[1;32m    392\u001b[0m             \u001b[0mca_cert_dir\u001b[0m\u001b[0;34m=\u001b[0m\u001b[0mself\u001b[0m\u001b[0;34m.\u001b[0m\u001b[0mca_cert_dir\u001b[0m\u001b[0;34m,\u001b[0m\u001b[0;34m\u001b[0m\u001b[0;34m\u001b[0m\u001b[0m\n\u001b[1;32m    393\u001b[0m             \u001b[0mserver_hostname\u001b[0m\u001b[0;34m=\u001b[0m\u001b[0mserver_hostname\u001b[0m\u001b[0;34m,\u001b[0m\u001b[0;34m\u001b[0m\u001b[0;34m\u001b[0m\u001b[0m\n\u001b[0;32m--> 394\u001b[0;31m             \u001b[0mssl_context\u001b[0m\u001b[0;34m=\u001b[0m\u001b[0mcontext\u001b[0m\u001b[0;34m,\u001b[0m\u001b[0;34m\u001b[0m\u001b[0;34m\u001b[0m\u001b[0m\n\u001b[0m\u001b[1;32m    395\u001b[0m         )\n\u001b[1;32m    396\u001b[0m \u001b[0;34m\u001b[0m\u001b[0m\n",
      "\u001b[0;32m/opt/conda/lib/python3.7/site-packages/urllib3/util/ssl_.py\u001b[0m in \u001b[0;36mssl_wrap_socket\u001b[0;34m(sock, keyfile, certfile, cert_reqs, ca_certs, server_hostname, ssl_version, ciphers, ssl_context, ca_cert_dir, key_password)\u001b[0m\n\u001b[1;32m    368\u001b[0m     ) or IS_SECURETRANSPORT:\n\u001b[1;32m    369\u001b[0m         \u001b[0;32mif\u001b[0m \u001b[0mHAS_SNI\u001b[0m \u001b[0;32mand\u001b[0m \u001b[0mserver_hostname\u001b[0m \u001b[0;32mis\u001b[0m \u001b[0;32mnot\u001b[0m \u001b[0;32mNone\u001b[0m\u001b[0;34m:\u001b[0m\u001b[0;34m\u001b[0m\u001b[0;34m\u001b[0m\u001b[0m\n\u001b[0;32m--> 370\u001b[0;31m             \u001b[0;32mreturn\u001b[0m \u001b[0mcontext\u001b[0m\u001b[0;34m.\u001b[0m\u001b[0mwrap_socket\u001b[0m\u001b[0;34m(\u001b[0m\u001b[0msock\u001b[0m\u001b[0;34m,\u001b[0m \u001b[0mserver_hostname\u001b[0m\u001b[0;34m=\u001b[0m\u001b[0mserver_hostname\u001b[0m\u001b[0;34m)\u001b[0m\u001b[0;34m\u001b[0m\u001b[0;34m\u001b[0m\u001b[0m\n\u001b[0m\u001b[1;32m    371\u001b[0m \u001b[0;34m\u001b[0m\u001b[0m\n\u001b[1;32m    372\u001b[0m         warnings.warn(\n",
      "\u001b[0;32m/opt/conda/lib/python3.7/site-packages/urllib3/contrib/pyopenssl.py\u001b[0m in \u001b[0;36mwrap_socket\u001b[0;34m(self, sock, server_side, do_handshake_on_connect, suppress_ragged_eofs, server_hostname)\u001b[0m\n\u001b[1;32m    483\u001b[0m         \u001b[0;32mwhile\u001b[0m \u001b[0;32mTrue\u001b[0m\u001b[0;34m:\u001b[0m\u001b[0;34m\u001b[0m\u001b[0;34m\u001b[0m\u001b[0m\n\u001b[1;32m    484\u001b[0m             \u001b[0;32mtry\u001b[0m\u001b[0;34m:\u001b[0m\u001b[0;34m\u001b[0m\u001b[0;34m\u001b[0m\u001b[0m\n\u001b[0;32m--> 485\u001b[0;31m                 \u001b[0mcnx\u001b[0m\u001b[0;34m.\u001b[0m\u001b[0mdo_handshake\u001b[0m\u001b[0;34m(\u001b[0m\u001b[0;34m)\u001b[0m\u001b[0;34m\u001b[0m\u001b[0;34m\u001b[0m\u001b[0m\n\u001b[0m\u001b[1;32m    486\u001b[0m             \u001b[0;32mexcept\u001b[0m \u001b[0mOpenSSL\u001b[0m\u001b[0;34m.\u001b[0m\u001b[0mSSL\u001b[0m\u001b[0;34m.\u001b[0m\u001b[0mWantReadError\u001b[0m\u001b[0;34m:\u001b[0m\u001b[0;34m\u001b[0m\u001b[0;34m\u001b[0m\u001b[0m\n\u001b[1;32m    487\u001b[0m                 \u001b[0;32mif\u001b[0m \u001b[0;32mnot\u001b[0m \u001b[0mutil\u001b[0m\u001b[0;34m.\u001b[0m\u001b[0mwait_for_read\u001b[0m\u001b[0;34m(\u001b[0m\u001b[0msock\u001b[0m\u001b[0;34m,\u001b[0m \u001b[0msock\u001b[0m\u001b[0;34m.\u001b[0m\u001b[0mgettimeout\u001b[0m\u001b[0;34m(\u001b[0m\u001b[0;34m)\u001b[0m\u001b[0;34m)\u001b[0m\u001b[0;34m:\u001b[0m\u001b[0;34m\u001b[0m\u001b[0;34m\u001b[0m\u001b[0m\n",
      "\u001b[0;32m/opt/conda/lib/python3.7/site-packages/OpenSSL/SSL.py\u001b[0m in \u001b[0;36mdo_handshake\u001b[0;34m(self)\u001b[0m\n\u001b[1;32m   1931\u001b[0m         \u001b[0;34m:\u001b[0m\u001b[0;32mreturn\u001b[0m\u001b[0;34m:\u001b[0m \u001b[0;32mNone\u001b[0m\u001b[0;34m.\u001b[0m\u001b[0;34m\u001b[0m\u001b[0;34m\u001b[0m\u001b[0m\n\u001b[1;32m   1932\u001b[0m         \"\"\"\n\u001b[0;32m-> 1933\u001b[0;31m         \u001b[0mresult\u001b[0m \u001b[0;34m=\u001b[0m \u001b[0m_lib\u001b[0m\u001b[0;34m.\u001b[0m\u001b[0mSSL_do_handshake\u001b[0m\u001b[0;34m(\u001b[0m\u001b[0mself\u001b[0m\u001b[0;34m.\u001b[0m\u001b[0m_ssl\u001b[0m\u001b[0;34m)\u001b[0m\u001b[0;34m\u001b[0m\u001b[0;34m\u001b[0m\u001b[0m\n\u001b[0m\u001b[1;32m   1934\u001b[0m         \u001b[0mself\u001b[0m\u001b[0;34m.\u001b[0m\u001b[0m_raise_ssl_error\u001b[0m\u001b[0;34m(\u001b[0m\u001b[0mself\u001b[0m\u001b[0;34m.\u001b[0m\u001b[0m_ssl\u001b[0m\u001b[0;34m,\u001b[0m \u001b[0mresult\u001b[0m\u001b[0;34m)\u001b[0m\u001b[0;34m\u001b[0m\u001b[0;34m\u001b[0m\u001b[0m\n\u001b[1;32m   1935\u001b[0m \u001b[0;34m\u001b[0m\u001b[0m\n",
      "\u001b[0;31mKeyboardInterrupt\u001b[0m: "
     ]
    }
   ],
   "source": [
    "r = requests.get(\"https://api.lib.harvard.edu/v2/items.json?q=*&limit=250&sort=recordIdentifier\")\n",
    "obj = json.loads(r.text)\n",
    "\n",
    "total = obj.get(\"pagination\").get(\"numFound\")\n",
    "\n",
    "# obj.get(\"pagination\").get(\"numFound\") exists always\n",
    "for start_value in range( total // 250 + 1):\n",
    "    logging.info(f\"{(start_value+1)*250} of {total}\")\n",
    "\n",
    "    r = requests.get(f\"https://api.lib.harvard.edu/v2/items.json?q=*&limit=250&start={start_value*250}&sort=recordIdentifier\")\n",
    "    obj = json.loads(r.text)\n",
    "\n",
    "    for item in obj[\"items\"][\"mods\"]:\n",
    "        try:\n",
    "            if item[\"typeOfResource\"] == \"text\":\n",
    "                val_schlagwort, val_verlag, val_buch, val_person, val_autor, val_sorte = extractBook(item)\n",
    "                dbc.insert_book(val_schlagwort, val_verlag, val_buch, val_person, val_autor, val_sorte)\n",
    "            elif item[\"typeOfResource\"] == \"moving image\":\n",
    "                val_sorte, val_nichttextmedien, val_video = extractVideo(item)\n",
    "                dbc.insert_video(val_sorte, val_nichttextmedien, val_video)\n",
    "            else:\n",
    "                val_sorte, val_person, val_maler, val_nichttextmedien, val_bild = extractPicture(item)\n",
    "                dbc.insert_bild(val_sorte, val_person, val_maler, val_nichttextmedien, val_bild)\n",
    "        except Exception as e:\n",
    "            logging.error(e)"
   ]
  },
  {
   "cell_type": "markdown",
   "metadata": {},
   "source": [
    "# Testing of extraction"
   ]
  },
  {
   "cell_type": "code",
   "execution_count": 25,
   "metadata": {},
   "outputs": [],
   "source": [
    "# r = requests.get(\"https://api.lib.harvard.edu/v2/items.json?q=*&limit=250&sort=recordIdentifier&resourceType=text\")\n",
    "# r = requests.get(\"https://api.lib.harvard.edu/v2/items.json?q=*&limit=250&sort=recordIdentifier\")\n",
    "# r = requests.get(\"https://api.lib.harvard.edu/v2/items.json?q=*&resourceType=still%20image&limit=250&sort=recordIdentifier\")\n",
    "#r = requests.get(\"https://api.lib.harvard.edu/v2/items.json?q=mona+lisa&resourceType=still%20image&limit=250&sort=recordIdentifier\")\n",
    "#r = requests.get(\"https://api.lib.harvard.edu/v2/items.json?q=*&resourceType=still%20image&limit=250&sort=recordIdentifier\")\n",
    "# r = requests.get(\"https://api.lib.harvard.edu/v2/items.json?q=*&limit=250&resourceType=moving%20image&sort=recordIdentifier\")"
   ]
  },
  {
   "cell_type": "code",
   "execution_count": 26,
   "metadata": {},
   "outputs": [
    {
     "output_type": "stream",
     "name": "stdout",
     "text": "status_code: 200\nlenght: 250\n"
    }
   ],
   "source": [
    "print(\"status_code: \" + str(r.status_code))\n",
    "obj = json.loads(r.text)\n",
    "print(\"lenght: \" + str(len(obj[\"items\"][\"mods\"])))"
   ]
  },
  {
   "cell_type": "code",
   "execution_count": 27,
   "metadata": {
    "tags": [
     "outputPrepend",
     "outputPrepend",
     "outputPrepend",
     "outputPrepend",
     "outputPrepend",
     "outputPrepend",
     "outputPrepend",
     "outputPrepend",
     "outputPrepend",
     "outputPrepend",
     "outputPrepend",
     "outputPrepend",
     "outputPrepend",
     "outputPrepend",
     "outputPrepend",
     "outputPrepend",
     "outputPrepend",
     "outputPrepend",
     "outputPrepend",
     "outputPrepend",
     "outputPrepend",
     "outputPrepend"
    ]
   },
   "outputs": [
    {
     "output_type": "stream",
     "name": "stdout",
     "text": "text\n'extractBook'  53.32 ms\ntext\n'extractBook'  37.98 ms\ntext\n'extractBook'  39.57 ms\ntext\n'extractBook'  42.81 ms\ntext\n'extractBook'  40.15 ms\ntext\n'extractBook'  42.14 ms\ntext\n'extractBook'  40.73 ms\ntext\n'extractBook'  40.96 ms\ntext\n'extractBook'  44.53 ms\ntext\n'extractBook'  46.28 ms\ntext\n'extractBook'  41.21 ms\ntext\n'extractBook'  42.39 ms\ntext\n'extractBook'  39.84 ms\ntext\n'extractBook'  40.63 ms\ntext\n'extractBook'  43.47 ms\ntext\n'extractBook'  41.75 ms\ntext\n'extractBook'  38.91 ms\ntext\n'extractBook'  44.90 ms\ntext\n'extractBook'  37.12 ms\ntext\n'extractBook'  41.51 ms\ntext\n'extractBook'  44.05 ms\ntext\n'extractBook'  38.24 ms\ntext\n'extractBook'  37.72 ms\ntext\n'extractBook'  38.96 ms\ntext\n'extractBook'  37.35 ms\ntext\n'extractBook'  41.71 ms\ntext\n'extractBook'  39.02 ms\ntext\n'extractBook'  40.00 ms\ntext\n'extractBook'  37.89 ms\ntext\n'extractBook'  38.72 ms\ntext\n'extractBook'  43.22 ms\ntext\n'extractBook'  40.36 ms\ntext\n'extractBook'  44.56 ms\ntext\n'extractBook'  42.50 ms\ntext\n'extractBook'  41.78 ms\ntext\n'extractBook'  45.22 ms\ntext\n'extractBook'  39.91 ms\ntext\n'extractBook'  48.85 ms\ntext\n'extractBook'  55.86 ms\ntext\n'extractBook'  40.09 ms\ntext\n'extractBook'  46.02 ms\ntext\n'extractBook'  42.31 ms\ntext\n'extractBook'  42.97 ms\ntext\n'extractBook'  45.48 ms\ntext\n'extractBook'  38.37 ms\ntext\n'extractBook'  37.86 ms\ntext\n'extractBook'  41.42 ms\ntext\n'extractBook'  58.98 ms\ntext\n'extractBook'  40.73 ms\ntext\n'extractBook'  39.75 ms\ntext\n'extractBook'  44.89 ms\ntext\n'extractBook'  43.50 ms\ntext\n'extractBook'  41.15 ms\ntext\n'extractBook'  37.94 ms\ntext\n'extractBook'  46.34 ms\ntext\n'extractBook'  39.42 ms\ntext\n'extractBook'  48.43 ms\ntext\n'extractBook'  43.38 ms\ntext\n'extractBook'  36.78 ms\ntext\n'extractBook'  44.35 ms\ntext\n'extractBook'  40.56 ms\ntext\n'extractBook'  49.29 ms\ntext\n'extractBook'  40.84 ms\ntext\n'extractBook'  40.95 ms\ntext\n'extractBook'  40.45 ms\ntext\n'extractBook'  40.22 ms\ntext\n'extractBook'  37.56 ms\ntext\n'extractBook'  40.81 ms\ntext\n'extractBook'  39.14 ms\ntext\n'extractBook'  49.80 ms\ntext\n'extractBook'  43.67 ms\ntext\n'extractBook'  41.41 ms\ntext\n'extractBook'  37.87 ms\ntext\n'extractBook'  42.16 ms\ntext\n'extractBook'  44.01 ms\ntext\n'extractBook'  39.06 ms\ntext\n'extractBook'  40.26 ms\ntext\n'extractBook'  40.51 ms\ntext\n'extractBook'  40.18 ms\ntext\n'extractBook'  47.31 ms\ntext\n'extractBook'  43.05 ms\ntext\n'extractBook'  37.01 ms\ntext\n'extractBook'  40.46 ms\ntext\n'extractBook'  41.50 ms\ntext\n'extractBook'  51.94 ms\ntext\n'extractBook'  50.55 ms\ntext\n'extractBook'  53.96 ms\ntext\n'extractBook'  45.08 ms\ntext\n'extractBook'  42.21 ms\ntext\n'extractBook'  38.56 ms\ntext\n'extractBook'  40.12 ms\ntext\n'extractBook'  47.19 ms\ntext\n'extractBook'  39.90 ms\ntext\n'extractBook'  45.07 ms\ntext\n'extractBook'  41.73 ms\ntext\n'extractBook'  40.34 ms\ntext\n'extractBook'  41.45 ms\ntext\n'extractBook'  38.31 ms\ntext\n'extractBook'  38.87 ms\ntext\n'extractBook'  40.19 ms\ntext\n'extractBook'  41.24 ms\ntext\n'extractBook'  41.55 ms\ntext\n'extractBook'  40.76 ms\ntext\n'extractBook'  38.55 ms\ntext\n'extractBook'  42.14 ms\ntext\n'extractBook'  42.73 ms\ntext\n'extractBook'  37.86 ms\ntext\n'extractBook'  39.33 ms\ntext\n'extractBook'  39.17 ms\ntext\n'extractBook'  44.08 ms\ntext\n'extractBook'  37.11 ms\ntext\n'extractBook'  38.11 ms\ntext\n'extractBook'  37.17 ms\ntext\n'extractBook'  41.53 ms\ntext\n'extractBook'  40.00 ms\ntext\n'extractBook'  41.42 ms\ntext\n'extractBook'  40.76 ms\ntext\n'extractBook'  43.67 ms\ntext\n'extractBook'  41.86 ms\ntext\n'extractBook'  37.72 ms\ntext\n'extractBook'  38.78 ms\ntext\n'extractBook'  39.81 ms\ntext\n'extractBook'  38.82 ms\ntext\n'extractBook'  36.43 ms\ntext\n'extractBook'  39.26 ms\ntext\n'extractBook'  41.63 ms\ntext\n'extractBook'  36.74 ms\ntext\n'extractBook'  39.13 ms\ntext\n'extractBook'  46.01 ms\ntext\n'extractBook'  37.01 ms\ntext\n'extractBook'  39.44 ms\ntext\n'extractBook'  43.92 ms\ntext\n'extractBook'  36.89 ms\ntext\n'extractBook'  43.54 ms\ntext\n'extractBook'  37.62 ms\ntext\n'extractBook'  37.82 ms\ntext\n'extractBook'  40.12 ms\ntext\n'extractBook'  40.84 ms\ntext\n'extractBook'  38.08 ms\ntext\n'extractBook'  46.52 ms\ntext\n'extractBook'  38.26 ms\ntext\n'extractBook'  41.03 ms\ntext\n'extractBook'  40.03 ms\ntext\n'extractBook'  39.78 ms\ntext\n'extractBook'  36.73 ms\ntext\n'extractBook'  38.23 ms\ntext\n'extractBook'  38.53 ms\ntext\n'extractBook'  41.92 ms\ntext\n'extractBook'  44.21 ms\ntext\n'extractBook'  39.38 ms\ntext\n'extractBook'  41.75 ms\ntext\n'extractBook'  45.40 ms\ntext\n'extractBook'  37.21 ms\ntext\n'extractBook'  45.78 ms\ntext\n'extractBook'  37.52 ms\ntext\n'extractBook'  40.77 ms\ntext\n'extractBook'  38.07 ms\ntext\n'extractBook'  39.09 ms\ntext\n'extractBook'  42.70 ms\ntext\n'extractBook'  39.26 ms\ntext\n'extractBook'  48.33 ms\ntext\n'extractBook'  38.17 ms\ntext\n'extractBook'  37.20 ms\ntext\n'extractBook'  37.83 ms\ntext\n'extractBook'  38.44 ms\ntext\n'extractBook'  45.88 ms\ntext\n'extractBook'  40.68 ms\ntext\n'extractBook'  47.44 ms\ntext\n'extractBook'  42.20 ms\ntext\n'extractBook'  43.93 ms\ntext\n'extractBook'  40.58 ms\ntext\n'extractBook'  38.73 ms\ntext\n'extractBook'  39.28 ms\ntext\n'extractBook'  44.21 ms\ntext\n'extractBook'  39.25 ms\ntext\n'extractBook'  40.38 ms\ntext\n'extractBook'  39.76 ms\ntext\n'extractBook'  44.96 ms\ntext\n'extractBook'  38.96 ms\ntext\n'extractBook'  39.74 ms\ntext\n'extractBook'  41.45 ms\ntext\n'extractBook'  39.53 ms\ntext\n'extractBook'  37.25 ms\ntext\n'extractBook'  40.40 ms\ntext\n'extractBook'  44.77 ms\ntext\n'extractBook'  39.38 ms\ntext\n'extractBook'  39.32 ms\ntext\n'extractBook'  39.13 ms\ntext\n'extractBook'  39.27 ms\ntext\n'extractBook'  39.93 ms\ntext\n'extractBook'  40.12 ms\ntext\n'extractBook'  42.70 ms\ntext\n'extractBook'  38.88 ms\ntext\n'extractBook'  40.95 ms\ntext\n'extractBook'  36.80 ms\ntext\n'extractBook'  37.12 ms\ntext\n'extractBook'  38.10 ms\ntext\n'extractBook'  39.51 ms\ntext\n'extractBook'  39.74 ms\ntext\n'extractBook'  40.31 ms\ntext\n'extractBook'  40.32 ms\ntext\n'extractBook'  41.76 ms\ntext\n'extractBook'  44.94 ms\ntext\n'extractBook'  42.77 ms\ntext\n'extractBook'  39.68 ms\ntext\n'extractBook'  38.68 ms\ntext\n'extractBook'  38.12 ms\ntext\n'extractBook'  37.92 ms\ntext\n'extractBook'  38.56 ms\ntext\n'extractBook'  40.42 ms\ntext\n'extractBook'  39.06 ms\ntext\n'extractBook'  39.04 ms\ntext\n'extractBook'  40.46 ms\ntext\n'extractBook'  39.40 ms\ntext\n'extractBook'  38.78 ms\ntext\n'extractBook'  40.69 ms\ntext\n'extractBook'  37.73 ms\ntext\n'extractBook'  39.16 ms\ntext\n'extractBook'  42.70 ms\ntext\n'extractBook'  40.00 ms\ntext\n'extractBook'  38.83 ms\ntext\n'extractBook'  41.65 ms\ntext\n'extractBook'  37.84 ms\ntext\n'extractBook'  40.99 ms\ntext\n'extractBook'  43.46 ms\ntext\n'extractBook'  41.35 ms\ntext\n'extractBook'  42.14 ms\ntext\n'extractBook'  38.24 ms\ntext\n'extractBook'  39.49 ms\ntext\n'extractBook'  39.29 ms\ntext\n'extractBook'  36.79 ms\ntext\n'extractBook'  40.53 ms\ntext\n'extractBook'  41.88 ms\ntext\n'extractBook'  44.41 ms\ntext\n'extractBook'  37.34 ms\ntext\n'extractBook'  53.98 ms\ntext\n'extractBook'  42.24 ms\ntext\n'extractBook'  40.37 ms\ntext\n'extractBook'  36.65 ms\ntext\n'extractBook'  41.11 ms\ntext\n'extractBook'  39.64 ms\ntext\n'extractBook'  36.58 ms\ntext\n'extractBook'  41.54 ms\ntext\n'extractBook'  40.33 ms\ntext\n'extractBook'  45.05 ms\ntext\n'extractBook'  41.92 ms\ntext\n'extractBook'  45.16 ms\ntext\n'extractBook'  37.56 ms\ntext\n'extractBook'  43.58 ms\ntext\n'extractBook'  38.26 ms\n"
    }
   ],
   "source": [
    "for num, item in enumerate(obj[\"items\"][\"mods\"]):\n",
    "    try:\n",
    "        if item[\"typeOfResource\"] == \"text\":\n",
    "            val_schlagwort, val_verlag, val_buch, val_person, val_autor, val_sorte = extractBook(item)\n",
    "            dbc.insert_book(val_schlagwort, val_verlag, val_buch, val_person, val_autor, val_sorte)\n",
    "        elif item[\"typeOfResource\"] == \"moving image\":\n",
    "            val_sorte, val_nichttextmedien, val_video = extractVideo(item)\n",
    "            dbc.insert_video(val_sorte, val_nichttextmedien, val_video)\n",
    "        else:\n",
    "            val_sorte, val_person, val_maler, val_nichttextmedien, val_bild = extractPicture(item)\n",
    "            dbc.insert_bild(val_sorte, val_person, val_maler, val_nichttextmedien, val_bild)\n",
    "    except Exception as e:\n",
    "        logging.error(traceback.print_exc())\n",
    "        logging.warning(item)"
   ]
  }
 ],
 "metadata": {
  "kernelspec": {
   "display_name": "Python 3",
   "language": "python",
   "name": "python3"
  },
  "language_info": {
   "codemirror_mode": {
    "name": "ipython",
    "version": 3
   },
   "file_extension": ".py",
   "mimetype": "text/x-python",
   "name": "python",
   "nbconvert_exporter": "python",
   "pygments_lexer": "ipython3",
   "version": "3.7.6-final"
  }
 },
 "nbformat": 4,
 "nbformat_minor": 2
}