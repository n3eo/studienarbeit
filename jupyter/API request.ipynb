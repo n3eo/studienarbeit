{
 "cells": [
  {
   "cell_type": "markdown",
   "metadata": {},
   "source": [
    "# Imports"
   ]
  },
  {
   "cell_type": "code",
   "execution_count": 1,
   "metadata": {},
   "outputs": [],
   "source": [
    "import requests\n",
    "import json\n",
    "import traceback\n",
    "import itertools\n",
    "import re\n",
    "import random"
   ]
  },
  {
   "cell_type": "markdown",
   "metadata": {},
   "source": [
    "# Functions"
   ]
  },
  {
   "cell_type": "code",
   "execution_count": 2,
   "metadata": {},
   "outputs": [],
   "source": [
    "def flattenObj(obj):\n",
    "    dictVal = {}\n",
    "    \n",
    "    if isinstance(obj,(dict, list)):\n",
    "        \n",
    "        # add indexes to list for iteration\n",
    "        obj = dict(enumerate(obj)) if isinstance(obj, list) else obj\n",
    "        \n",
    "        # loop over entrys and store them in new dict\n",
    "        for key, val in obj.items():\n",
    "            if isinstance(val,(str, int)):\n",
    "                dictVal[str(key)] = val\n",
    "            \n",
    "            # flatten again of the new value is a dict or list\n",
    "            flattened = flattenObj(val)\n",
    "            for key_new, val_new in flattened.items():\n",
    "                dictVal[f\"{key}_{key_new}\"] = val_new\n",
    "    \n",
    "    return dictVal"
   ]
  },
  {
   "cell_type": "code",
   "execution_count": 3,
   "metadata": {},
   "outputs": [],
   "source": [
    "def nestedDictGet(item, *keys):\n",
    "    nextBaseItem = item\n",
    "    for key in keys:        \n",
    "        # test if type is list and get the index\n",
    "        # beforeand check if the given value is a \n",
    "        # integer and a valid position in the dict\n",
    "        if isinstance(nextBaseItem, list):\n",
    "            if str(key).isdigit():\n",
    "                if int(key) < len(nextBaseItem):\n",
    "                    nextBaseItem = nextBaseItem[int(key)]\n",
    "                    continue\n",
    "            # return none if the index ist not valid for the\n",
    "            # list and is a not existend as a key in the dict\n",
    "            elif nextBaseItem.get(key) is None:\n",
    "                return None\n",
    "        \n",
    "        # str and int are the information wanted, directly return it\n",
    "        if isinstance(nextBaseItem,(str,int)):\n",
    "            return nextBaseItem\n",
    "        \n",
    "        # test if the key exists onthe dict\n",
    "        # otherwise returns null\n",
    "        if not nextBaseItem.get(key):\n",
    "            return None\n",
    "        \n",
    "        # as a default get the next nested object based on the key\n",
    "        nextBaseItem = nextBaseItem.get(key)\n",
    "        \n",
    "    return nextBaseItem"
   ]
  },
  {
   "cell_type": "code",
   "execution_count": 4,
   "metadata": {},
   "outputs": [],
   "source": [
    "def extractListSubject(subjects):\n",
    "    topics = []\n",
    "    if isinstance(subjects, list):\n",
    "        for item in subjects:\n",
    "            flattened = flattenObj(item)\n",
    "            topics += extractListSubject(flattened)\n",
    "    \n",
    "    if isinstance(subjects, dict):\n",
    "        for key, val in subjects.items():\n",
    "            if not key.find(\"@authority\") >= 0:\n",
    "                topics.append(val)\n",
    "    \n",
    "    # have every topic only one time by \n",
    "    # first cating to set and then back to list\n",
    "    return list(set(topics))"
   ]
  },
  {
   "cell_type": "code",
   "execution_count": 5,
   "metadata": {},
   "outputs": [],
   "source": [
    "def getInformationFromDifferentPaths(flattend, PATHS):\n",
    "    information = None\n",
    "    for path in PATHS:\n",
    "        val = flattend.get(str(path))\n",
    "        if val is not None:\n",
    "            information = val\n",
    "            break\n",
    "    return information"
   ]
  },
  {
   "cell_type": "code",
   "execution_count": 6,
   "metadata": {},
   "outputs": [],
   "source": [
    "def extractCreator(name_flattend, NAME_PATHS = [\"0_namePart_0\", \"namePart_0\", \"0_namePart\"]):\n",
    "    return getInformationFromDifferentPaths(name_flattend, NAME_PATHS)"
   ]
  },
  {
   "cell_type": "code",
   "execution_count": 7,
   "metadata": {},
   "outputs": [],
   "source": [
    "def extractPublisher(publisher_flattend, PUBLISHER_PATHS = [\"publisher_0\", \"publisher_1\"]):\n",
    "    return getInformationFromDifferentPaths(publisher_flattend, PUBLISHER_PATHS)"
   ]
  },
  {
   "cell_type": "code",
   "execution_count": 8,
   "metadata": {},
   "outputs": [],
   "source": [
    "def extractDate(date_flattend, DATE_PATHS = [\"dateCreated\", \"dateCreated_0_#text\", \"dateIssued\", \"dateIssued_#text\", \"dateIssued_0_#text\", \"dateIssued_0\"]):\n",
    "    publish_date = getInformationFromDifferentPaths(date_flattend, DATE_PATHS)\n",
    "    \n",
    "    # remove chars because sometimes c (=circa) is included\n",
    "    search = re.search(r'\\d+', str(publish_date))\n",
    "    return search[0] if publish_date and search else None"
   ]
  },
  {
   "cell_type": "code",
   "execution_count": 9,
   "metadata": {},
   "outputs": [],
   "source": [
    "def extractEdition(edition_flattend, EDITION_PATHS = [\"edition\"]):\n",
    "    edition = getInformationFromDifferentPaths(edition_flattend, EDITION_PATHS)\n",
    "    \n",
    "    # remove chars because sometimes c (=circa) is included\n",
    "    search = re.search(r'\\d+', str(edition))\n",
    "    return search[0] if edition and search else None"
   ]
  },
  {
   "cell_type": "code",
   "execution_count": 10,
   "metadata": {},
   "outputs": [],
   "source": [
    "def extractAbstract(abstract_flattend, ABSTRACT_PATHS = [\"#text\", \"0\"]):\n",
    "    return getInformationFromDifferentPaths(abstract_flattend, ABSTRACT_PATHS)"
   ]
  },
  {
   "cell_type": "code",
   "execution_count": 11,
   "metadata": {},
   "outputs": [],
   "source": [
    "def extractInformation(item):\n",
    "    titleInfo_flattend = flattenObj(nestedDictGet(item, \"titleInfo\"))\n",
    "    \n",
    "    title = titleInfo_flattend.get(\"title\") if titleInfo_flattend.get(\"title\") is not None else titleInfo_flattend.get(\"0_title\")\n",
    "    subtitle = titleInfo_flattend.get(\"subTitle\") if titleInfo_flattend.get(\"subTitle\") is not None else titleInfo_flattend.get(\"0_subTitle\")\n",
    "    \n",
    "    name_flattend = flattenObj(nestedDictGet(item, \"name\"))\n",
    "    creator = creator = extractCreator(name_flattend)\n",
    "        \n",
    "    date_flattend = flattenObj(nestedDictGet(item, \"originInfo\"))\n",
    "    publish_date = extractDate(date_flattend)\n",
    "    \n",
    "    abstract_flattend = flattenObj(nestedDictGet(item, \"abstract\"))\n",
    "    abstract = extractAbstract(abstract_flattend)\n",
    "    \n",
    "    subjects = extractListSubject(nestedDictGet(item, \"subject\"))\n",
    "    \n",
    "    return title, subtitle, publish_date, abstract, creator, subjects"
   ]
  },
  {
   "cell_type": "code",
   "execution_count": 12,
   "metadata": {},
   "outputs": [],
   "source": [
    "def extractBook(item):\n",
    "    title, subtitle, publish_date, abstract, creator, subjects = extractInformation(item)\n",
    "    \n",
    "    language_flattend = flattenObj(nestedDictGet(item, \"language\"))\n",
    "    language = language_flattend.get(\"languageTerm_1_#text\")\n",
    "    \n",
    "    originInfo_flattend = flattenObj(nestedDictGet(item, \"originInfo\"))\n",
    "    edition = extractEdition(originInfo_flattend)\n",
    "    \n",
    "    publisher = extractPublisher(originInfo_flattend)\n",
    "    \n",
    "    # factor 100 to create cent values when dividing again\n",
    "    random.seed(title)\n",
    "    price = random.randint(100, 10000)/100\n",
    "    \n",
    "    return title, subtitle, publish_date, abstract, creator, subjects, language, edition, publisher, price"
   ]
  },
  {
   "cell_type": "markdown",
   "metadata": {},
   "source": [
    "# Testing of extraction"
   ]
  },
  {
   "cell_type": "code",
   "execution_count": 67,
   "metadata": {},
   "outputs": [],
   "source": [
    "r = requests.get(\"https://api.lib.harvard.edu/v2/items.json?q=*&limit=250&sort=recordIdentifier&resourceType=text\")\n",
    "#r = requests.get(\"https://api.lib.harvard.edu/v2/items.json?q=*&limit=250&sort=recordIdentifier\")\n",
    "#r = requests.get(\"https://api.lib.harvard.edu/v2/items.json?q=*&resourceType=still%20image&limit=250&sort=recordIdentifier\")\n",
    "#r = requests.get(\"https://api.lib.harvard.edu/v2/items.json?q=mona+lisa&resourceType=still%20image&limit=250&sort=recordIdentifier\")\n",
    "#r = requests.get(\"https://api.lib.harvard.edu/v2/items.json?q=*&resourceType=still%20image&limit=250&sort=recordIdentifier\")\n",
    "#r = requests.get(\"https://api.lib.harvard.edu/v2/items.json?q=*&limit=250&resourceType=moving%20image&sort=recordIdentifier\")"
   ]
  },
  {
   "cell_type": "code",
   "execution_count": 65,
   "metadata": {},
   "outputs": [
    {
     "name": "stdout",
     "output_type": "stream",
     "text": [
      "status_code: 200\n",
      "lenght: 9\n"
     ]
    }
   ],
   "source": [
    "print(\"status_code: \" + str(r.status_code))\n",
    "obj = json.loads(r.text)\n",
    "print(\"lenght: \" + str(len(obj[\"items\"][\"mods\"])))"
   ]
  },
  {
   "cell_type": "code",
   "execution_count": 91,
   "metadata": {},
   "outputs": [
    {
     "name": "stdout",
     "output_type": "stream",
     "text": [
      "('English', '1', 'Alfred A. Knopf', 76.46)\n",
      "('English', None, 'Alfred A. Knopf', 34.82)\n",
      "('Hebrew', None, None, 34.82)\n",
      "('English', '1', None, 79.35)\n",
      "('English', '1', None, 27.74)\n",
      "('English', '1', None, 34.82)\n",
      "('English', '1', None, 19.12)\n",
      "('English', None, None, 27.74)\n",
      "('English', '1', None, 76.46)\n"
     ]
    }
   ],
   "source": [
    "for num, item in enumerate(obj[\"items\"][\"mods\"]):\n",
    "    if item[\"typeOfResource\"] == \"text\":#\"\"moving image\":\n",
    "        try:\n",
    "            print(extractBook(item))\n",
    "        except Exception as e:\n",
    "            print(f\"\\nError in Entry {num}:\\n\\n\")\n",
    "            print(traceback.print_exc())\n",
    "            print(\"\\n\\n\")\n",
    "            print(item)\n",
    "            break\n",
    "    \n",
    "    try:\n",
    "        #title, subtitle, publish_date, abstract, creator, subjects\n",
    "        extractInformation(item)\n",
    "    except Exception as e:\n",
    "        print(f\"\\nError in Entry {num}:\\n\\n\")\n",
    "        print(traceback.print_exc())\n",
    "        print(\"\\n\\n\")\n",
    "        print(item)\n",
    "        break"
   ]
  },
  {
   "cell_type": "code",
   "execution_count": 38,
   "metadata": {},
   "outputs": [],
   "source": [
    "item = obj[\"items\"][\"mods\"][25]"
   ]
  },
  {
   "cell_type": "code",
   "execution_count": 82,
   "metadata": {},
   "outputs": [
    {
     "data": {
      "text/plain": [
       "{'titleInfo': {'title': 'Eldest'},\n",
       " 'name': {'@type': 'personal',\n",
       "  'namePart': 'Paolini, Christopher.',\n",
       "  'role': {'roleTerm': {'@type': 'text', '#text': 'creator'}}},\n",
       " 'typeOfResource': 'text',\n",
       " 'genre': [{'@authority': 'gsafd', '#text': 'Fantasy fiction.'},\n",
       "  {'@authority': 'fast', '#text': 'Fiction.'},\n",
       "  {'@authority': 'fast', '#text': 'Juvenile works.'}],\n",
       " 'originInfo': {'place': [{'placeTerm': [{'@authority': 'marccountry',\n",
       "      '@type': 'code',\n",
       "      '#text': 'nyu'},\n",
       "     {'@authority': 'marccountry',\n",
       "      '@type': 'text',\n",
       "      '#text': 'New York (State)'}]},\n",
       "   {'placeTerm': {'@type': 'text', '#text': 'New York'}}],\n",
       "  'publisher': 'Alfred A. Knopf',\n",
       "  'dateIssued': ['[2007], c2005', {'@encoding': 'marc', '#text': '2007'}],\n",
       "  'copyrightDate': {'@encoding': 'marc', '#text': '2005'},\n",
       "  'edition': '1st Knopf trade pbk. ed.',\n",
       "  'issuance': 'monographic'},\n",
       " 'language': {'languageTerm': [{'@authority': 'iso639-2b',\n",
       "    '@type': 'code',\n",
       "    '#text': 'eng'},\n",
       "   {'@authority': 'iso639-2b', '@type': 'text', '#text': 'English'}]},\n",
       " 'physicalDescription': {'form': {'@authority': 'marcform', '#text': 'print'},\n",
       "  'extent': 'xvii, 679 p. : map ; 21 cm.'},\n",
       " 'abstract': {'@type': 'Summary',\n",
       "  '#text': 'After successfully evading an Urgals ambush, Eragon is adopted into the Ingeitum clan and sent to finish his training in magic and swordsmanship so he can further help the Varden in their struggle against the Empire.'},\n",
       " 'tableOfContents': \"Synopsis of Eragon: Twin disaster -- Council of elders -- Truth among friends -- Roran -- Hunted hunters -- Saphira's promise -- Requiem -- Fealty -- A sorceress, a snake, and a scroll -- Hrothgar's gift -- Hammer and tongs -- Retaliation -- Az Sweldn rak Anhuin -- Celbedeil -- Diamonds in the night -- Under a darkling sky -- Down the rushing mere-wash -- Drifting -- Arya Svit-kona -- Ceris -- Wounds of the past -- Wounds of the present -- His enemy's face -- Arrow to the heart -- Dagshelgr invocation -- Pinewood City -- Queen Islanzadi -- Out of the past -- Conviction -- Repercussions -- Exodus -- On the crags of Tel'naeir -- Secret lives of ants -- Under the Menoa Tree -- Maze of opposition -- Hanging by a thread -- Elva -- Resurgence -- Why do you fight? -- Black morning glory -- Nature of evil -- Image of perfection -- Obliterator -- Narda -- Hammer falls -- Beginning of wisdom -- Broken egg and scattered nest -- Gift of dragons -- In a starry glade -- Landfall -- Teirm -- Jeod Longshanks -- Unexpected ally -- Escape -- Child's play -- Premonition of war -- Red blade, white blade -- Visions of near and far -- Gifts -- Maw of the ocean -- Running the boar's eye -- To aberon -- Burning plains -- Clouds of war -- NarGarzhvog -- Witch's brew -- Storm breaks -- Convergence -- Eldest -- Inheritance -- Reunion -- Pronunciation guide and glossary -- Acknowledgments -- Sneak peek at book three.\",\n",
       " 'targetAudience': ['970 Lexile.',\n",
       "  {'@authority': 'marctarget', '#text': 'adolescent'}],\n",
       " 'note': [{'@type': 'statement of responsibility',\n",
       "   '#text': 'Christopher Paolini.'},\n",
       "  'Includes a sneak peek at Book III in The inheritance trilogy.'],\n",
       " 'subject': [{'@authority': 'lcsh',\n",
       "   'topic': 'Dragons',\n",
       "   'genre': 'Juvenile fiction'},\n",
       "  {'@authority': 'lcsh',\n",
       "   'topic': 'Imaginary places',\n",
       "   'genre': 'Juvenile fiction'},\n",
       "  {'@authority': 'lcshac', 'topic': 'Dragons', 'genre': 'Fiction'},\n",
       "  {'@authority': 'lcshac', 'topic': 'Imaginary places', 'genre': 'Fiction'}],\n",
       " 'classification': [{'@authority': 'lcc', '#text': 'PS3616.A55 E43 2007'},\n",
       "  {'@authority': 'lcc', '#text': 'PZ7.P19535 El 2007'},\n",
       "  {'@edition': '22', '@authority': 'ddc', '#text': '[Fic]'}],\n",
       " 'relatedItem': [{'titleInfo': {'title': 'Inheritance ; bk. 2'}},\n",
       "  {'@type': 'series',\n",
       "   'titleInfo': {'title': 'Inheritance ; bk. 2'},\n",
       "   'name': {'@type': 'personal', 'namePart': 'Paolini, Christopher'}},\n",
       "  {'@otherType': 'HOLLIS record',\n",
       "   'location': {'url': 'https://id.lib.harvard.edu/alma/990133438380203941/catalog'}}],\n",
       " 'identifier': [{'@type': 'isbn', '#text': '0375840400 (pbk)'},\n",
       "  {'@type': 'isbn', '#text': '9780375840401 (pbk)'},\n",
       "  {'@type': 'lccn', '@invalid': 'yes', '#text': '^^2005009325'},\n",
       "  {'@type': 'oclc', '#text': '85812700'}],\n",
       " 'recordInfo': {'descriptionStandard': 'aacr',\n",
       "  'recordContentSource': {'@authority': 'marcorg', '#text': 'JST'},\n",
       "  'recordCreationDate': {'@encoding': 'marc', '#text': '070308'},\n",
       "  'recordChangeDate': {'@encoding': 'iso8601', '#text': '20120920'},\n",
       "  'recordIdentifier': {'@source': 'MH:ALMA', '#text': '990133438380203941'},\n",
       "  'recordOrigin': 'Converted from MARCXML to MODS version 3.6 using MARC21slim2MODS3-6.xsl\\n        (Revision 1.117 2017/02/14)'},\n",
       " 'location': [{'physicalLocation': {'@valueURI': 'http://isni.org/isni/0000000463633307',\n",
       "    '@displayLabel': 'Harvard repository',\n",
       "    '@type': 'repository',\n",
       "    '#text': 'Lamont Library, Harvard University'},\n",
       "   'shelfLocator': 'PZ7.P19535 El 2007'},\n",
       "  None],\n",
       " 'extension': {'librarycloud': {'HarvardRepositories': {'HarvardRepository': 'Lamont'},\n",
       "   'originalDocument': 'https://s3.amazonaws.com/harvard.librarycloud.marc/990133438380203941',\n",
       "   'priorrecordids': {'recordIdentifier': {'@source': 'MH:ALEPH',\n",
       "     '#text': '013343838'}},\n",
       "   'processingDate': '2019-09-07T08:44Z'}}}"
      ]
     },
     "execution_count": 82,
     "metadata": {},
     "output_type": "execute_result"
    }
   ],
   "source": [
    "item"
   ]
  },
  {
   "cell_type": "markdown",
   "metadata": {},
   "source": [
    "## title, subtitle, publish_date, abstract, creator, subjects"
   ]
  },
  {
   "cell_type": "code",
   "execution_count": null,
   "metadata": {},
   "outputs": [],
   "source": [
    "item = obj[\"items\"][\"mods\"][52]"
   ]
  },
  {
   "cell_type": "markdown",
   "metadata": {},
   "source": [
    "# API Call (no functions)"
   ]
  },
  {
   "cell_type": "code",
   "execution_count": 47,
   "metadata": {},
   "outputs": [
    {
     "name": "stdout",
     "output_type": "stream",
     "text": [
      "9500\n",
      "9750\n",
      "10000\n",
      "10250\n",
      "10500\n",
      "10750\n",
      "11000\n",
      "11250\n",
      "11500\n",
      "11750\n",
      "12000\n",
      "12250\n",
      "12500\n"
     ]
    }
   ],
   "source": [
    "r = requests.get(\"https://api.lib.harvard.edu/v2/items.json?q=*&limit=250&sort=recordIdentifier\")\n",
    "obj = json.loads(r.text)\n",
    "\n",
    "test_break = False\n",
    "\n",
    "# obj.get(\"pagination\").get(\"numFound\") exists always\n",
    "for start_value in range(37, 50):#range( obj.get(\"pagination\").get(\"numFound\") // 250 + 1):\n",
    "    print(f\"{(start_value+1)*250}\")\n",
    "    \n",
    "    r = requests.get(f\"https://api.lib.harvard.edu/v2/items.json?q=*&limit=250&start={start_value*250}&sort=recordIdentifier\")\n",
    "    obj = json.loads(r.text)\n",
    "    \n",
    "    for num, item in enumerate(obj[\"items\"][\"mods\"]):\n",
    "        try:\n",
    "            extractInformation(item)\n",
    "            # TODO Do something\n",
    "        except Exception as e:\n",
    "            print(f\"\\nError in Round {start_value} Entry {num}:\\n\\n\")\n",
    "            print(traceback.print_exc())\n",
    "            print(\"\\n\\n\")\n",
    "            print(item)\n",
    "            test_break = True\n",
    "            break\n",
    "    if test_break: break"
   ]
  },
  {
   "cell_type": "markdown",
   "metadata": {},
   "source": [
    "# Test single entrys"
   ]
  },
  {
   "cell_type": "code",
   "execution_count": 37,
   "metadata": {},
   "outputs": [],
   "source": [
    "start_value = 37\n",
    "entry = 200\n",
    "\n",
    "r = requests.get(f\"https://api.lib.harvard.edu/v2/items.json?q=*&limit=250&start={start_value*250}&sort=recordIdentifier\")\n",
    "item = json.loads(r.text)[\"items\"][\"mods\"][entry]"
   ]
  },
  {
   "cell_type": "code",
   "execution_count": 46,
   "metadata": {},
   "outputs": [
    {
     "data": {
      "text/plain": [
       "('Khan of Ezinepazar',\n",
       " None,\n",
       " None,\n",
       " None,\n",
       " None,\n",
       " ['battlements', 'pillars', 'portals', 'arches', 'windows', 'inscriptions'])"
      ]
     },
     "execution_count": 46,
     "metadata": {},
     "output_type": "execute_result"
    }
   ],
   "source": [
    "extractInformation(item)"
   ]
  }
 ],
 "metadata": {
  "kernelspec": {
   "display_name": "Python 3",
   "language": "python",
   "name": "python3"
  },
  "language_info": {
   "codemirror_mode": {
    "name": "ipython",
    "version": 3
   },
   "file_extension": ".py",
   "mimetype": "text/x-python",
   "name": "python",
   "nbconvert_exporter": "python",
   "pygments_lexer": "ipython3",
   "version": "3.7.6-final"
  }
 },
 "nbformat": 4,
 "nbformat_minor": 2
}