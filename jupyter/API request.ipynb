{
 "cells": [
  {
   "cell_type": "markdown",
   "metadata": {},
   "source": [
    "# Imports"
   ]
  },
  {
   "cell_type": "code",
   "execution_count": 2,
   "metadata": {},
   "outputs": [],
   "source": [
    "import requests\n",
    "import json\n",
    "import traceback\n",
    "import itertools\n",
    "import re\n",
    "import random\n",
    "import logging\n",
    "import mysql.connector\n",
    "from faker import Faker\n",
    "\n",
    "from python.db_connection import DbConnection as DBC\n",
    "from python.fakeinfgen import fakeInfos"
   ]
  },
  {
   "cell_type": "markdown",
   "metadata": {},
   "source": [
    "## Create neccesary instances and configs"
   ]
  },
  {
   "cell_type": "code",
   "execution_count": 4,
   "metadata": {},
   "outputs": [],
   "source": [
    "fake = Faker()"
   ]
  },
  {
   "cell_type": "code",
   "execution_count": 6,
   "metadata": {},
   "outputs": [],
   "source": [
    "FORMAT = '%(asctime)-15s %(clientip)s %(user)-8s %(message)s'\n",
    "logging.basicConfig(format=FORMAT)"
   ]
  },
  {
   "cell_type": "code",
   "execution_count": 8,
   "metadata": {},
   "outputs": [],
   "source": [
    "dbc = DBC()"
   ]
  },
  {
   "cell_type": "markdown",
   "metadata": {},
   "source": [
    "# Functions"
   ]
  },
  {
   "cell_type": "code",
   "execution_count": 10,
   "metadata": {},
   "outputs": [],
   "source": [
    "def flattenObj(obj):\n",
    "    dictVal = {}\n",
    "    \n",
    "    if isinstance(obj,(dict, list)):\n",
    "        \n",
    "        # add indexes to list for iteration\n",
    "        obj = dict(enumerate(obj)) if isinstance(obj, list) else obj\n",
    "        \n",
    "        # loop over entrys and store them in new dict\n",
    "        for key, val in obj.items():\n",
    "            if isinstance(val,(str, int)):\n",
    "                dictVal[str(key)] = val\n",
    "            \n",
    "            # flatten again of the new value is a dict or list\n",
    "            flattened = flattenObj(val)\n",
    "            for key_new, val_new in flattened.items():\n",
    "                dictVal[f\"{key}_{key_new}\"] = val_new\n",
    "    \n",
    "    return dictVal"
   ]
  },
  {
   "cell_type": "code",
   "execution_count": 12,
   "metadata": {},
   "outputs": [],
   "source": [
    "def nestedDictGet(item, *keys):\n",
    "    nextBaseItem = item\n",
    "    for key in keys:        \n",
    "        # test if type is list and get the index\n",
    "        # beforeand check if the given value is a \n",
    "        # integer and a valid position in the dict\n",
    "        if isinstance(nextBaseItem, list):\n",
    "            if str(key).isdigit():\n",
    "                if int(key) < len(nextBaseItem):\n",
    "                    nextBaseItem = nextBaseItem[int(key)]\n",
    "                    continue\n",
    "            # return none if the index ist not valid for the\n",
    "            # list and is a not existend as a key in the dict\n",
    "            elif nextBaseItem.get(key) is None:\n",
    "                return None\n",
    "        \n",
    "        # str and int are the information wanted, directly return it\n",
    "        if isinstance(nextBaseItem,(str,int)):\n",
    "            return nextBaseItem\n",
    "        \n",
    "        # test if the key exists onthe dict\n",
    "        # otherwise returns null\n",
    "        if not nextBaseItem.get(key):\n",
    "            return None\n",
    "        \n",
    "        # as a default get the next nested object based on the key\n",
    "        nextBaseItem = nextBaseItem.get(key)\n",
    "        \n",
    "    return nextBaseItem"
   ]
  },
  {
   "cell_type": "code",
   "execution_count": 14,
   "metadata": {},
   "outputs": [],
   "source": [
    "def extractListSubject(subjects):\n",
    "    if isinstance(subjects, str):\n",
    "        return subjects\n",
    "\n",
    "    topics = []\n",
    "    if isinstance(subjects, list):\n",
    "        for item in subjects:\n",
    "            flattened = flattenObj(subjects)\n",
    "            topics += extractListSubject(flattened)\n",
    "    \n",
    "    if isinstance(subjects, dict):\n",
    "        for key, val in subjects.items():\n",
    "            if not key.find(\"@authority\") >= 0 and not isinstance(val, dict):\n",
    "                topics += val if isinstance(val,list) and not isinstance(val, dict) else [val] # extractListSubject(val))\n",
    "    \n",
    "    # have every topic only one time by \n",
    "    # first cating to set and then back to list\n",
    "    return list(set(topics))"
   ]
  },
  {
   "cell_type": "code",
   "execution_count": 16,
   "metadata": {},
   "outputs": [],
   "source": [
    "def getInformationFromDifferentPaths(flattend, PATHS):\n",
    "    information = None\n",
    "    for path in PATHS:\n",
    "        val = flattend.get(str(path))\n",
    "        if val is not None:\n",
    "            information = val\n",
    "            break\n",
    "    return information"
   ]
  },
  {
   "cell_type": "code",
   "execution_count": 18,
   "metadata": {},
   "outputs": [],
   "source": [
    "def extractOneGenre(genre_flattend, GENRE_PATHS= [\"0_#text\", \"#text\"]):\n",
    "    return getInformationFromDifferentPaths(genre_flattend, GENRE_PATHS)\n",
    ""
   ]
  },
  {
   "cell_type": "code",
   "execution_count": 20,
   "metadata": {},
   "outputs": [],
   "source": [
    "def extractCreator(name_flattend, NAME_PATHS = [\"0_namePart_0\", \"namePart_0\", \"0_namePart\"]):\n",
    "    return getInformationFromDifferentPaths(name_flattend, NAME_PATHS)"
   ]
  },
  {
   "cell_type": "code",
   "execution_count": 22,
   "metadata": {},
   "outputs": [],
   "source": [
    "def extractPublisher(publisher_flattend, PUBLISHER_PATHS = [\"publisher_0\", \"publisher_1\"]):\n",
    "    return getInformationFromDifferentPaths(publisher_flattend, PUBLISHER_PATHS)"
   ]
  },
  {
   "cell_type": "code",
   "execution_count": 24,
   "metadata": {},
   "outputs": [],
   "source": [
    "def extractDate(date_flattend, DATE_PATHS = [\"dateCreated\", \"dateCreated_0_#text\", \"dateIssued\", \"dateIssued_#text\", \"dateIssued_0_#text\", \"dateIssued_0\"]):\n",
    "    publish_date = getInformationFromDifferentPaths(date_flattend, DATE_PATHS)\n",
    "    \n",
    "    # remove chars because sometimes c (=circa) is included\n",
    "    search = re.search(r'\\d+', str(publish_date))\n",
    "    return search[0] if publish_date and search else None"
   ]
  },
  {
   "cell_type": "code",
   "execution_count": 26,
   "metadata": {},
   "outputs": [],
   "source": [
    "def extractEdition(edition_flattend, EDITION_PATHS = [\"edition\"]):\n",
    "    edition = getInformationFromDifferentPaths(edition_flattend, EDITION_PATHS)\n",
    "    \n",
    "    # remove chars because sometimes c (=circa) is included\n",
    "    search = re.search(r'\\d+', str(edition))\n",
    "    return search[0] if edition and search else None"
   ]
  },
  {
   "cell_type": "code",
   "execution_count": 28,
   "metadata": {},
   "outputs": [],
   "source": [
    "def extractAbstract(abstract_flattend, ABSTRACT_PATHS = [\"#text\", \"0\"]):\n",
    "    return getInformationFromDifferentPaths(abstract_flattend, ABSTRACT_PATHS)"
   ]
  },
  {
   "cell_type": "code",
   "execution_count": 42,
   "metadata": {},
   "outputs": [],
   "source": [
    "def extractInformation(item):\n",
    "    titleInfo_flattend = flattenObj(nestedDictGet(item, \"titleInfo\"))\n",
    "    \n",
    "    title = titleInfo_flattend.get(\"title\") if titleInfo_flattend.get(\"title\") is not None else titleInfo_flattend.get(\"0_title\")\n",
    "    subtitle = titleInfo_flattend.get(\"subTitle\") if titleInfo_flattend.get(\"subTitle\") is not None else titleInfo_flattend.get(\"0_subTitle\")\n",
    "    \n",
    "    name_flattend = flattenObj(nestedDictGet(item, \"name\"))\n",
    "    creator = creator = extractCreator(name_flattend)\n",
    "        \n",
    "    date_flattend = flattenObj(nestedDictGet(item, \"originInfo\"))\n",
    "    publish_date = extractDate(date_flattend)\n",
    "    \n",
    "    abstract_flattend = flattenObj(nestedDictGet(item, \"abstract\"))\n",
    "    abstract = extractAbstract(abstract_flattend)\n",
    "    \n",
    "    subjects = extractListSubject(nestedDictGet(item, \"subject\"))\n",
    "    \n",
    "    genre_flattend = flattenObj(nestedDictGet(item, \"genre\")) \n",
    "    genre = extractOneGenre(genre_flattend) if genre_flattend != {} else fake.word()\n",
    "\n",
    "    fake = Faker()\n",
    "    Faker.seed(title + str(subjects))\n",
    "    \n",
    "    return title, subtitle, publish_date, abstract, creator, subjects, genre"
   ]
  },
  {
   "cell_type": "code",
   "execution_count": 32,
   "metadata": {},
   "outputs": [],
   "source": [
    "def extractPicture(item):\n",
    "    title, subtitle, publish_date, abstract, creator, subjects, genre = extractInformation(item)"
   ]
  },
  {
   "cell_type": "code",
   "execution_count": 34,
   "metadata": {},
   "outputs": [],
   "source": [
    "def extractBook(item):\n",
    "    title, subtitle, publish_date, abstract, creator, subjects, genre = extractInformation(item)\n",
    "    \n",
    "    language_flattend = flattenObj(nestedDictGet(item, \"language\"))\n",
    "    language = language_flattend.get(\"languageTerm_1_#text\")\n",
    "    \n",
    "    originInfo_flattend = flattenObj(nestedDictGet(item, \"originInfo\"))\n",
    "    edition = extractEdition(originInfo_flattend)\n",
    "    \n",
    "    publisher = extractPublisher(originInfo_flattend)\n",
    "    \n",
    "    # factor 100 to create cent values when dividing again\n",
    "    random.seed(title)\n",
    "    price = random.randint(100, 10000)/100\n",
    "\n",
    "    fake = Faker()\n",
    "    Faker.seed(title+language+str(subjects))\n",
    "\n",
    "    val_verlag = {\n",
    "        \"Kurzname\" : publisher,\n",
    "        \"Name\" : fake.company(),\n",
    "        \"Postleitzahl\" : fake.postalcode(),\n",
    "        \"Strasse\" : fake.street_address(),\n",
    "        \"Internetadresse\" : fake.domain_name(),\n",
    "        \"Beschreibung\" : fake.paragraph()\n",
    "    }\n",
    "\n",
    "    val_schlagwort = [\n",
    "        {   \"Wort\": word if word else fake.word(), \"Beschreibung\": fake.paragraph() } for word in subjects\n",
    "    ]\n",
    "\n",
    "    val_buch = {\n",
    "        \"ISBN\": fake.isbn13().replace(\"-\",\"\"),\n",
    "        \"Titel\": title,\n",
    "        \"Untertitel\": subtitle,\n",
    "        \"VerlagId\": \"\",\n",
    "        \"Erscheinungsjahr\": publish_date,\n",
    "        \"SorteId\": \"\",\n",
    "        \"Kurzbeschreibung\": abstract if abstract else fake.paragraph(),\n",
    "        \"Preis\": str(price),\n",
    "        \"Auflage\": edition,\n",
    "        \"Sprache\": language\n",
    "    }\n",
    "\n",
    "    creator = creator if creator else fake.name()\n",
    "    val_person = {\n",
    "        \"Vorname\": creator.split(\" \")[0],\n",
    "        \"Name\": creator.split(\" \")[-1],\n",
    "        \"Email\": f\"{creator.split(' ')[0]}@{creator.split(' ')[-1]}.{fake.tld()}\",\n",
    "        \"Geburtsdatum\": fake.date_of_birth()\n",
    "    }\n",
    "\n",
    "    val_autor = {\n",
    "        \"PersonenId\": \"\",\n",
    "        \"Beschreibung\": fake.paragraph()\n",
    "    }\n",
    "\n",
    "    val_sorte = {\n",
    "        \"Name\": genre,\n",
    "        \"Beschreibung\": fake.paragraph()\n",
    "    }\n",
    "    \n",
    "    return val_schlagwort, val_verlag, val_buch, val_person, val_autor, val_sorte"
   ]
  },
  {
   "cell_type": "markdown",
   "metadata": {},
   "source": [
    "# Testing of extraction"
   ]
  },
  {
   "cell_type": "code",
   "execution_count": 39,
   "metadata": {},
   "outputs": [],
   "source": [
    "r = requests.get(\"https://api.lib.harvard.edu/v2/items.json?q=*&limit=250&sort=recordIdentifier&resourceType=text\")\n",
    "# r = requests.get(\"https://api.lib.harvard.edu/v2/items.json?q=*&limit=250&sort=recordIdentifier\")\n",
    "#r = requests.get(\"https://api.lib.harvard.edu/v2/items.json?q=*&resourceType=still%20image&limit=250&sort=recordIdentifier\")\n",
    "#r = requests.get(\"https://api.lib.harvard.edu/v2/items.json?q=mona+lisa&resourceType=still%20image&limit=250&sort=recordIdentifier\")\n",
    "#r = requests.get(\"https://api.lib.harvard.edu/v2/items.json?q=*&resourceType=still%20image&limit=250&sort=recordIdentifier\")\n",
    "#r = requests.get(\"https://api.lib.harvard.edu/v2/items.json?q=*&limit=250&resourceType=moving%20image&sort=recordIdentifier\")"
   ]
  },
  {
   "cell_type": "code",
   "execution_count": 40,
   "metadata": {},
   "outputs": [
    {
     "output_type": "stream",
     "name": "stdout",
     "text": "status_code: 200\nlenght: 250\n"
    }
   ],
   "source": [
    "print(\"status_code: \" + str(r.status_code))\n",
    "obj = json.loads(r.text)\n",
    "print(\"lenght: \" + str(len(obj[\"items\"][\"mods\"])))"
   ]
  },
  {
   "cell_type": "code",
   "execution_count": 44,
   "metadata": {
    "tags": [
     "outputPrepend",
     "outputPrepend",
     "outputPrepend",
     "outputPrepend",
     "outputPrepend",
     "outputPrepend",
     "outputPrepend",
     "outputPrepend",
     "outputPrepend",
     "outputPrepend",
     "outputPrepend",
     "outputPrepend",
     "outputPrepend",
     "outputPrepend",
     "outputPrepend",
     "outputPrepend",
     "outputPrepend",
     "outputPrepend",
     "outputPrepend",
     "outputPrepend",
     "outputPrepend",
     "outputPrepend",
     "outputPrepend",
     "outputPrepend",
     "outputPrepend",
     "outputPrepend",
     "outputPrepend",
     "outputPrepend",
     "outputPrepend",
     "outputPrepend",
     "outputPrepend",
     "outputPrepend",
     "outputPrepend",
     "outputPrepend",
     "outputPrepend",
     "outputPrepend",
     "outputPrepend",
     "outputPrepend"
    ]
   },
   "outputs": [],
   "source": [
    "for num, item in enumerate(obj[\"items\"][\"mods\"][:1]):\n",
    "    try:\n",
    "        if item[\"typeOfResource\"] == \"text\":\n",
    "            val_schlagwort, val_verlag, val_buch, val_person, val_autor, val_sorte = extractBook(item)\n",
    "            # breakpoint()\n",
    "            dbc.insert_book(val_schlagwort, val_verlag, val_buch, val_person, val_autor, val_sorte)\n",
    "        elif item[\"typeOfResource\"] == \"moving image\":\n",
    "            # title, subtitle, publish_date, abstract, creator, subjects\n",
    "            dbc.insert_video(extractInformation(item))\n",
    "        else:\n",
    "            dbc.insert_bild(extractInformation(item))\n",
    "    except Exception as e:\n",
    "        print(f\"item index: {num}\")\n",
    "        logging.error(traceback.print_exc())\n",
    "        logging.warning(item)\n",
    "        break"
   ]
  },
  {
   "cell_type": "code",
   "execution_count": 37,
   "metadata": {},
   "outputs": [],
   "source": [
    "def extractListSubject(subjects):\n",
    "    if isinstance(subjects, str):\n",
    "        return subjects\n",
    "\n",
    "    topics = []\n",
    "    if isinstance(subjects, list):\n",
    "        for item in subjects:\n",
    "            flattened = flattenObj(subjects)\n",
    "            topics += extractListSubject(flattened)\n",
    "    \n",
    "    if isinstance(subjects, dict):\n",
    "        for key, val in subjects.items():\n",
    "            if not key.find(\"@authority\") >= 0 and not isinstance(val, dict):\n",
    "                topics += val if isinstance(val,list) and not isinstance(val, dict) else [val] # extractListSubject(val))\n",
    "    \n",
    "    # have every topic only one time by \n",
    "    # first cating to set and then back to list\n",
    "    return list(set(topics))\n",
    "\n",
    "val_schlagwort, val_verlag, val_buch, val_person, val_autor, val_sorte = extractBook(obj[\"items\"][\"mods\"][6])"
   ]
  },
  {
   "cell_type": "markdown",
   "metadata": {},
   "source": [
    "# API Call (no functions)"
   ]
  },
  {
   "cell_type": "code",
   "execution_count": 47,
   "metadata": {},
   "outputs": [
    {
     "name": "stdout",
     "output_type": "stream",
     "text": [
      "9500\n",
      "9750\n",
      "10000\n",
      "10250\n",
      "10500\n",
      "10750\n",
      "11000\n",
      "11250\n",
      "11500\n",
      "11750\n",
      "12000\n",
      "12250\n",
      "12500\n"
     ]
    }
   ],
   "source": [
    "r = requests.get(\"https://api.lib.harvard.edu/v2/items.json?q=*&limit=250&sort=recordIdentifier\")\n",
    "obj = json.loads(r.text)\n",
    "\n",
    "# obj.get(\"pagination\").get(\"numFound\") exists always\n",
    "for start_value in range( obj.get(\"pagination\").get(\"numFound\") // 250 + 1):\n",
    "    print(f\"{(start_value+1)*250}\")\n",
    "    \n",
    "    r = requests.get(f\"https://api.lib.harvard.edu/v2/items.json?q=*&limit=250&start={start_value*250}&sort=recordIdentifier\")\n",
    "    obj = json.loads(r.text)\n",
    "    \n",
    "    for item in obj[\"items\"][\"mods\"]:\n",
    "        try:\n",
    "            dbc.insert_book(extractInformation(item))\n",
    "        except Exception as e:\n",
    "            print(f\"\\nError in Round {start_value} Entry {num}:\\n\\n\")\n",
    "            print(traceback.print_exc())\n",
    "            print(\"\\n\\n\")\n",
    "            print(item)\n",
    "            test_break = True\n",
    "            break\n",
    "    if test_break: break"
   ]
  },
  {
   "cell_type": "markdown",
   "metadata": {},
   "source": [
    "# Test single entrys"
   ]
  },
  {
   "cell_type": "code",
   "execution_count": 37,
   "metadata": {},
   "outputs": [],
   "source": [
    "start_value = 37\n",
    "entry = 200\n",
    "\n",
    "r = requests.get(f\"https://api.lib.harvard.edu/v2/items.json?q=*&limit=250&start={start_value*250}&sort=recordIdentifier\")\n",
    "item = json.loads(r.text)[\"items\"][\"mods\"][entry]"
   ]
  },
  {
   "cell_type": "code",
   "execution_count": 46,
   "metadata": {},
   "outputs": [
    {
     "data": {
      "text/plain": [
       "('Khan of Ezinepazar',\n",
       " None,\n",
       " None,\n",
       " None,\n",
       " None,\n",
       " ['battlements', 'pillars', 'portals', 'arches', 'windows', 'inscriptions'])"
      ]
     },
     "execution_count": 46,
     "metadata": {},
     "output_type": "execute_result"
    }
   ],
   "source": [
    "extractInformation(item)"
   ]
  }
 ],
 "metadata": {
  "kernelspec": {
   "display_name": "Python 3",
   "language": "python",
   "name": "python3"
  },
  "language_info": {
   "codemirror_mode": {
    "name": "ipython",
    "version": 3
   },
   "file_extension": ".py",
   "mimetype": "text/x-python",
   "name": "python",
   "nbconvert_exporter": "python",
   "pygments_lexer": "ipython3",
   "version": "3.7.6-final"
  }
 },
 "nbformat": 4,
 "nbformat_minor": 2
}