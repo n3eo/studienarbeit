{
 "cells": [
  {
   "cell_type": "markdown",
   "metadata": {},
   "source": [
    "# Import"
   ]
  },
  {
   "cell_type": "code",
   "execution_count": 84,
   "metadata": {},
   "outputs": [
    {
     "output_type": "stream",
     "name": "stdout",
     "text": "Requirement already satisfied: mysql-connector-python in /opt/conda/lib/python3.7/site-packages (8.0.19)\nRequirement already satisfied: protobuf==3.6.1 in /opt/conda/lib/python3.7/site-packages (from mysql-connector-python) (3.6.1)\nRequirement already satisfied: dnspython==1.16.0 in /opt/conda/lib/python3.7/site-packages (from mysql-connector-python) (1.16.0)\nRequirement already satisfied: six>=1.9 in /opt/conda/lib/python3.7/site-packages (from protobuf==3.6.1->mysql-connector-python) (1.14.0)\nRequirement already satisfied: setuptools in /opt/conda/lib/python3.7/site-packages (from protobuf==3.6.1->mysql-connector-python) (46.0.0.post20200311)\n"
    }
   ],
   "source": [
    "!pip install mysql-connector-python"
   ]
  },
  {
   "cell_type": "code",
   "execution_count": 85,
   "metadata": {},
   "outputs": [],
   "source": [
    "import mysql.connector\n",
    "from datetime import date"
   ]
  },
  {
   "cell_type": "markdown",
   "metadata": {},
   "source": [
    "# Connection"
   ]
  },
  {
   "cell_type": "code",
   "execution_count": 86,
   "metadata": {},
   "outputs": [],
   "source": [
    "cnx = mysql.connector.connect(host='db',port='3306',database='nico_studienarbeit',user='studienarbeit',password='dbstuar2020')"
   ]
  },
  {
   "cell_type": "code",
   "execution_count": 87,
   "metadata": {},
   "outputs": [],
   "source": [
    "cursor = cnx.cursor()"
   ]
  },
  {
   "cell_type": "markdown",
   "metadata": {},
   "source": [
    "# Querys"
   ]
  },
  {
   "cell_type": "markdown",
   "metadata": {},
   "source": [
    "If string include ' ' to resole errors in the statement!"
   ]
  },
  {
   "cell_type": "markdown",
   "metadata": {},
   "source": [
    "## Insert routines\n",
    "1. Buch: Sorte, Verlag, Buch\n",
    "2. Hörbuch: Sorte, Verlag, Buch, Person, Sprecher, Hörbuch\n",
    "3. Ebook: Sorte, Verlag, Buch, Person, Ebook\n",
    "4. Person: Person\n",
    "5. Ausleiher: Person, Ausleiher\n",
    "6. Sorte: Sorte\n",
    "7. Autor: Person, Autor\n",
    "8. Wort: Wort\n",
    "9. Maler: Person, Maler"
   ]
  },
  {
   "cell_type": "code",
   "execution_count": 88,
   "metadata": {},
   "outputs": [],
   "source": [
    "def insert_db(INSERT, values, SELECT=None):\n",
    "    val = [v for v in values.values()]\n",
    "\n",
    "    first_result = None\n",
    "    if SELECT:\n",
    "        cursor.execute(SELECT, val)\n",
    "        first_result = cursor.fetchone()\n",
    "            \n",
    "    if not first_result and SELECT:\n",
    "        cursor.execute(INSERT, val)\n",
    "        cnx.commit()\n",
    "        return cursor.lastrowid\n",
    "    elif not first_result and not SELECT:\n",
    "        return val[0]\n",
    "\n",
    "    return first_result[0]\n",
    "\n",
    "def insert_db_ntm(INSERT, values, SELECT=None):\n",
    "    val = [v for v in values.values()]\n",
    "\n",
    "    first_result = None\n",
    "    if SELECT:\n",
    "        cursor.execute(SELECT, val)\n",
    "        first_result = cursor.fetchone()\n",
    "            \n",
    "    if not first_result and SELECT:\n",
    "        val = [\"nt\" + str(hash(str(values)))[-11:]] + val\n",
    "        cursor.execute(INSERT, val) \n",
    "        cnx.commit()\n",
    "        return cursor.lastrowid\n",
    "    elif not first_result and not SELECT:\n",
    "        return val[0]\n",
    "\n",
    "    return first_result[0]"
   ]
  },
  {
   "cell_type": "markdown",
   "metadata": {},
   "source": [
    "### Buch\n",
    "INSERT_SORTE, INSERT_VERLAG, INSERT_AUTOR"
   ]
  },
  {
   "cell_type": "code",
   "execution_count": 89,
   "metadata": {},
   "outputs": [],
   "source": [
    "INSERT_SORTE = \"INSERT INTO Sorte(Name,Beschreibung) VALUES(%s,%s)\"\n",
    "SELECT_SORTE = \"SELECT SorteId FROM Sorte WHERE Name=%s AND Beschreibung=%s;\""
   ]
  },
  {
   "cell_type": "code",
   "execution_count": 90,
   "metadata": {},
   "outputs": [],
   "source": [
    "INSERT_VERLAG = \"INSERT INTO Verlag(Kurzname, Name, Postleitzahl, Strasse, Internetadresse, Beschreibung) VALUES(%s,%s,%s,%s,%s,%s)\"\n",
    "SELECT_VERLAG = \"SELECT VerlagId FROM Verlag WHERE Kurzname=%s AND Name=%s AND Postleitzahl=%s AND Strasse=%s AND Internetadresse=%s AND Beschreibung=%s;\""
   ]
  },
  {
   "cell_type": "code",
   "execution_count": 91,
   "metadata": {},
   "outputs": [],
   "source": [
    "INSERT_BUCH = \"INSERT IGNORE INTO Buch(ISBN,Titel,Untertitel,VerlagId,Erscheinungsjahr,SorteId,Kurzbeschreibung,Preis,Auflage,Sprache) VALUES(%s,%s,%s,%s,%s,%s,%s,%s,%s,%s);\""
   ]
  },
  {
   "cell_type": "code",
   "execution_count": 92,
   "metadata": {},
   "outputs": [],
   "source": [
    "INSERT_AUTORBUCHZUORD = \"INSERT IGNORE INTO AutorBuchZuord(AutorId,ISBN) VALUES(%s,%s);\""
   ]
  },
  {
   "cell_type": "code",
   "execution_count": 93,
   "metadata": {},
   "outputs": [],
   "source": [
    "INSERT_MEDIUMWORTZUORD = \"INSERT IGNORE INTO MediumWortZuord(MediumId,Wort) VALUES(%s,%s)\""
   ]
  },
  {
   "cell_type": "code",
   "execution_count": 94,
   "metadata": {},
   "outputs": [],
   "source": [
    "INSERT_SCHLAGWORT = \"INSERT IGNORE INTO Schlagwort(Wort,Beschreibung) VALUES(%s,%s)\""
   ]
  },
  {
   "cell_type": "code",
   "execution_count": 115,
   "metadata": {},
   "outputs": [],
   "source": [
    "def insert_book(val_schlagworte, val_verlag, val_buch, val_person, val_autor, val_sorte):\n",
    "    try:\n",
    "        print(\"--- Inserting Sorte\")\n",
    "        sorte_id = insert_db(INSERT_SORTE, val_sorte, SELECT_SORTE)\n",
    "        val_buch[\"SorteId\"] = sorte_id\n",
    "\n",
    "        print(\"--- Inserting Verlag\")\n",
    "        verlag_id = insert_db(INSERT_VERLAG, val_verlag, SELECT_VERLAG)\n",
    "        val_buch[\"VerlagId\"] = verlag_id\n",
    "        \n",
    "        print(\"--- Inserting Buch\")\n",
    "        buch_id = insert_db(INSERT_BUCH, val_buch)\n",
    "\n",
    "        print(\"--- Inserting Schlagworte\")\n",
    "        for schlagwort in val_schlagworte:\n",
    "            print(\"--- --- Inserting Schlagwort\")\n",
    "            insert_db(INSERT_SCHLAGWORT, schlagwort)\n",
    "\n",
    "            print(\"--- --- Inserting MediumWortZuord\")\n",
    "            val_mediumwortzuord = {\n",
    "                \"MediumId\": buch_id,\n",
    "                \"Wort\": schlagwort[\"Wort\"]\n",
    "            }\n",
    "            insert_db(INSERT_MEDIUMWORTZUORD, val_mediumwortzuord)\n",
    "\n",
    "        print(\"--- Inserting Person\")\n",
    "        person_id = insert_db(INSERT_PERSON, val_person, SELECT_PERSON)\n",
    "        val_autor[\"PersonenId\"] = person_id\n",
    "        \n",
    "        print(\"--- Inserting Autor\")\n",
    "        autor_id = insert_db(INSERT_AUTOR, val_autor, SELECT_AUTOR)\n",
    "\n",
    "        print(\"--- Inserting AutorBuchZuord\")\n",
    "        val_autorbuchzuord = {\n",
    "            \"AutorId\" : autor_id,\n",
    "            \"IBSN\" : val_buch[\"ISBN\"]\n",
    "        }\n",
    "        insert_db(INSERT_AUTORBUCHZUORD, val_autorbuchzuord)\n",
    "        print(\"--- Done\")\n",
    "        \n",
    "    except Exception as e:\n",
    "        print(e)\n",
    "        return False\n",
    "    \n",
    "    return True"
   ]
  },
  {
   "cell_type": "markdown",
   "metadata": {},
   "source": [
    "### Hörbuch\n",
    "INSERT_SORTE, INSERT_VERLAG, INSERT_BUCH, INSERT_SPRECHER"
   ]
  },
  {
   "cell_type": "code",
   "execution_count": 96,
   "metadata": {},
   "outputs": [],
   "source": [
    "INSERT_PERSON = \"INSERT INTO Person(Vorname,Name,Email,Geburtsdatum) VALUES(%s,%s,%s,%s);\"\n",
    "SELECT_PERSON = \"SELECT PersonenId FROM Person WHERE Vorname=%s AND Name=%s AND Email=%s AND Geburtsdatum=%s;\""
   ]
  },
  {
   "cell_type": "code",
   "execution_count": 97,
   "metadata": {},
   "outputs": [],
   "source": [
    "INSERT_SPRECHER = \"INSERT INTO Sprecher(PersonenId,Beschreibung) VALUES(%s,%s)\"\n",
    "SELECT_SPRECHER = \"SELECT SprecherId FROM Sprecher WHERE PersonenId=%s AND Beschreibung=%s;\""
   ]
  },
  {
   "cell_type": "code",
   "execution_count": 98,
   "metadata": {},
   "outputs": [],
   "source": [
    "INSERT_HOERBUCH = \"INSERT IGNORE INTO Hoerbuch(ISBN,BuchISBN,SprecherId,VerlagId) VALUES(%s,%s,%s,%s);\""
   ]
  },
  {
   "cell_type": "code",
   "execution_count": 99,
   "metadata": {},
   "outputs": [],
   "source": [
    "def insert_hoerbuch(val_person, val_sprecher, val_verlag, val_hoerbuch):\n",
    "    try:\n",
    "        print(\"--- Inserting Person\")\n",
    "        person_id = insert_db(INSERT_PERSON, val_person, SELECT_PERSON)\n",
    "        val_sprecher[\"PersonenId\"] = person_id\n",
    "\n",
    "        print(\"--- Inserting Sprecher\")\n",
    "        sprecher_id = insert_db(INSERT_SPRECHER, val_sprecher, SELECT_SPRECHER)\n",
    "        val_hoerbuch[\"SprecherId\"] = sprecher_id\n",
    "\n",
    "        print(\"--- Inserting Verlag\")\n",
    "        verlag_id = insert_db(INSERT_VERLAG, val_verlag, SELECT_VERLAG)\n",
    "        val_hoerbuch[\"VerlagId\"] = verlag_id\n",
    "\n",
    "        print(\"--- Inserting Hoerbuch\")\n",
    "        insert_db(INSERT_HOERBUCH, val_hoerbuch)\n",
    "    \n",
    "    except Exception as e:\n",
    "        print(e)\n",
    "        return False\n",
    "    \n",
    "    return True"
   ]
  },
  {
   "cell_type": "markdown",
   "metadata": {},
   "source": [
    "### Ebook\n",
    "INSERT_SORTE, INSERT_VERLAG, INSERT_BUCH, INSERT_PERSON"
   ]
  },
  {
   "cell_type": "code",
   "execution_count": 100,
   "metadata": {},
   "outputs": [],
   "source": [
    "INSERT_EBOOK = \"INSERT IGNORE INTO Ebooks(ISBN,BuchISBN,Dateiformat) VALUES(%s,%s,%s)\""
   ]
  },
  {
   "cell_type": "code",
   "execution_count": 101,
   "metadata": {},
   "outputs": [],
   "source": [
    "def insert_ebook(val_ebook):\n",
    "    try:\n",
    "        print(\"--- Inserting Ebook\")\n",
    "        insert_db(INSERT_EBOOK, val_ebook)\n",
    "    except Exception as e:\n",
    "        print(e)\n",
    "        return False\n",
    "    \n",
    "    return True"
   ]
  },
  {
   "cell_type": "markdown",
   "metadata": {},
   "source": [
    "### Ausleiher\n",
    "INSERT_PERSON"
   ]
  },
  {
   "cell_type": "code",
   "execution_count": 102,
   "metadata": {},
   "outputs": [],
   "source": [
    "INSERT_AUSLEIHER = \"INSERT INTO Ausleiher(PersonenId,Strasse,Postleitzahl,Ort,Telefonnummer) VALUES(%s,%s,%s,%s,%s)\"\n",
    "SELECT_AUSLEIHER = \"SELECT AusleiherId FROM Ausleiher WHERE PersonenId=%s AND Strasse=%s AND Postleitzahl=%s AND Ort=%s AND Telefonnummer=%s;\""
   ]
  },
  {
   "cell_type": "code",
   "execution_count": 103,
   "metadata": {},
   "outputs": [],
   "source": [
    "def insert_ausleiher(val_person, val_ausleiher):\n",
    "    try:\n",
    "        print(\"--- Inserting Person\")\n",
    "        person_id = insert_db(INSERT_PERSON, val_person, SELECT_PERSON)\n",
    "        val_ausleiher[\"PersonenId\"] = person_id\n",
    "\n",
    "        print(\"--- Inserting Ausleiher\")\n",
    "        insert_db(INSERT_AUSLEIHER, val_ausleiher, SELECT_AUSLEIHER)\n",
    "\n",
    "        print(\"--- Done\")\n",
    "    except Exception as e:\n",
    "        print(e)\n",
    "        return False\n",
    "    \n",
    "    return True"
   ]
  },
  {
   "cell_type": "markdown",
   "metadata": {},
   "source": [
    "### Autor\n",
    "INSERT_PERSON"
   ]
  },
  {
   "cell_type": "code",
   "execution_count": 104,
   "metadata": {},
   "outputs": [],
   "source": [
    "INSERT_AUTOR = \"INSERT INTO Autor(PersonenId,Beschreibung) VALUES(%s,%s)\"\n",
    "SELECT_AUTOR = \"SELECT AutorId FROM Autor WHERE PersonenId=%s AND Beschreibung=%s;\""
   ]
  },
  {
   "cell_type": "markdown",
   "metadata": {},
   "source": [
    "### Maler\n",
    "INSERT_PERSON"
   ]
  },
  {
   "cell_type": "code",
   "execution_count": 105,
   "metadata": {},
   "outputs": [],
   "source": [
    "INSERT_MALER = \"INSERT INTO Maler(PersonenId,Beschreibung) VALUES(%s,%s)\"\n",
    "SELECT_MALER = \"SELECT MalerId FROM Maler WHERE PersonenId=%s AND Beschreibung=%s;\""
   ]
  },
  {
   "cell_type": "markdown",
   "metadata": {},
   "source": [
    "### NichtTextMedien\n",
    "INSERT_SORTE"
   ]
  },
  {
   "cell_type": "code",
   "execution_count": 106,
   "metadata": {},
   "outputs": [],
   "source": [
    "INSERT_NICHTTEXTMEDIEN = \"INSERT INTO NichtTextMedien(NichtTextMedienId,Titel,Untertitel,Erscheinungsjahr,Kurzbeschreibung,SorteId,Typ) VALUES(%s,%s,%s,%s,%s,%s,%s)\"\n",
    "SELECT_NICHTTEXTMEDIEN = \"SELECT NichttextmedienId FROM NichtTextMedien WHERE Titel=%s AND Untertitel=%s AND Erscheinungsjahr=%s AND Kurzbeschreibung=%s AND SorteId=%s AND Typ=%s;\""
   ]
  },
  {
   "cell_type": "markdown",
   "metadata": {},
   "source": [
    "### Bild\n",
    "INSERT_SORTE, INSERT_NICHTTEXTMEDIEN, INSERT_PERSON, INSERT_MALER"
   ]
  },
  {
   "cell_type": "code",
   "execution_count": 107,
   "metadata": {},
   "outputs": [],
   "source": [
    "INSERT_BILD = \"INSERT INTO Bild(NichtTextMedienId,Bild,MalerId) VALUES(%s,%s,%s)\"\n",
    "SELECT_BILD = \"SELECT BildId FROM Bild WHERE NichtTextMedienId=%s AND Bild=%s AND MalerId=%s;\""
   ]
  },
  {
   "cell_type": "code",
   "execution_count": 108,
   "metadata": {},
   "outputs": [],
   "source": [
    "def insert_bild(val_sorte, val_person, val_maler, val_nichttextmedien, val_bild):\n",
    "    try:\n",
    "        print(\"--- Inserting Sorte\")\n",
    "        sorte_id = insert_db(INSERT_SORTE, val_sorte, SELECT_SORTE)\n",
    "        val_nichttextmedien[\"SorteId\"] = sorte_id\n",
    "\n",
    "        print(\"--- Inserting Person\")\n",
    "        person_id = insert_db(INSERT_PERSON, val_person, SELECT_PERSON)\n",
    "        val_maler[\"PersonenId\"] = person_id\n",
    "        \n",
    "        print(\"--- Inserting Maler\")\n",
    "        maler_id = insert_db(INSERT_MALER, val_maler, SELECT_MALER)\n",
    "        val_bild[\"MalerId\"] = maler_id\n",
    "\n",
    "        print(\"--- Inserting NichtTextMedien\")\n",
    "        val_nichttextmedien[\"Typ\"] = \"Bild\"\n",
    "        ntm_id = insert_db_ntm(INSERT_NICHTTEXTMEDIEN, val_nichttextmedien, SELECT_NICHTTEXTMEDIEN)\n",
    "        val_bild[\"NichtTextMedienId\"] = ntm_id\n",
    "        \n",
    "        print(\"--- Inserting Bild\")\n",
    "        insert_db(INSERT_BILD, val_bild, SELECT_BILD)\n",
    "\n",
    "        print(\"--- Done\")        \n",
    "    except Exception as e:\n",
    "        print(e)\n",
    "        return False\n",
    "    \n",
    "    return True"
   ]
  },
  {
   "cell_type": "markdown",
   "metadata": {},
   "source": [
    "### Video\n",
    "INSERT_SORTE, INSERT_NICHTTEXTMEDIEN"
   ]
  },
  {
   "cell_type": "code",
   "execution_count": 109,
   "metadata": {},
   "outputs": [],
   "source": [
    "INSERT_VIDEO = \"INSERT INTO Video(NichtTextMedienId,Sprache) VALUES(%s,%s)\"\n",
    "SELECT_VIDEO = \"SELECT VideoId FROM Video WHERE NichtTextMedienId=%s AND Sprache=%s;\""
   ]
  },
  {
   "cell_type": "code",
   "execution_count": 110,
   "metadata": {},
   "outputs": [],
   "source": [
    "def insert_video(val_sorte, val_nichttextmedien, val_video):\n",
    "    try:\n",
    "        print(\"--- Inserting Sorte\")\n",
    "        sorte_id = insert_db(INSERT_SORTE, val_sorte, SELECT_SORTE)\n",
    "        val_nichttextmedien[\"SorteId\"] = sorte_id\n",
    "\n",
    "        print(\"--- Inserting NichtTextMedien\")\n",
    "        val_nichttextmedien[\"Typ\"] = \"Video\"\n",
    "        ntm_id = insert_db_ntm(INSERT_NICHTTEXTMEDIEN, val_nichttextmedien, SELECT_NICHTTEXTMEDIEN)\n",
    "        val_video[\"NichtTextMedienId\"] = ntm_id\n",
    "\n",
    "        print(\"--- Inserting Video\")\n",
    "        insert_db(INSERT_VIDEO, val_video, SELECT_VIDEO)\n",
    "\n",
    "        print(\"--- Done\")        \n",
    "    except Exception as e:\n",
    "        print(e)\n",
    "        return False\n",
    "    \n",
    "    return True"
   ]
  },
  {
   "cell_type": "markdown",
   "metadata": {},
   "source": [
    "### Ausleihe\n",
    "INSERT_AUSLEIHER, INSERT_NICHTTEXTMEDIEN/INSERT_BUCH/INSERT_EBOOK/INSERT_HOERBUCH"
   ]
  },
  {
   "cell_type": "code",
   "execution_count": 111,
   "metadata": {},
   "outputs": [],
   "source": [
    "INSERT_AUSLEIHE = \"INSERT INTO Ausleihe(AusleiherId,MediumId) VALUES(%s,%s)\""
   ]
  },
  {
   "cell_type": "code",
   "execution_count": 112,
   "metadata": {},
   "outputs": [],
   "source": [
    "def insert_ausleihe(val_person, val_ausleiher, ISBN):\n",
    "    print(\"--- Inserting Person\")\n",
    "    person_id = insert_db(INSERT_PERSON, val_person, SELECT_PERSON)\n",
    "    val_ausleiher[\"PersonenId\"] = person_id\n",
    "\n",
    "    print(\"--- Inserting Ausleiher\")\n",
    "    ausleiher_id = insert_db(INSERT_AUSLEIHER, val_ausleiher, SELECT_AUSLEIHER)\n",
    "\n",
    "    val_ausleihe = {\n",
    "        \"AusleiherId\": ausleiher_id,\n",
    "        \"MediumId\": ISBN\n",
    "    }\n",
    "    insert_db(INSERT_AUSLEIHE, val_ausleihe)\n",
    ""
   ]
  },
  {
   "cell_type": "markdown",
   "metadata": {},
   "source": [
    "# Testqueries\n",
    "\n",
    "## [TEST] Buch"
   ]
  },
  {
   "cell_type": "code",
   "execution_count": 117,
   "metadata": {},
   "outputs": [
    {
     "output_type": "stream",
     "name": "stdout",
     "text": "--- Inserting Sorte\n--- Inserting Verlag\n--- Inserting Buch\n--- Inserting Schlagworte\n--- --- Inserting Schlagwort\n--- --- Inserting MediumWortZuord\n--- --- Inserting Schlagwort\n--- --- Inserting MediumWortZuord\n--- Inserting Person\n--- Inserting Autor\n--- Inserting AutorBuchZuord\n--- Done\n"
    },
    {
     "output_type": "execute_result",
     "data": {
      "text/plain": "True"
     },
     "metadata": {},
     "execution_count": 117
    }
   ],
   "source": [
    "val_verlag = {\n",
    "    \"Kurzname\" : \"hi\",\n",
    "    \"Name\" : \"hiverlag\",\n",
    "    \"Postleitzahl\" : \"89078\",\n",
    "    \"Strasse\" : \"Rubelstraße 33\",\n",
    "    \"Internetadresse\" : \"hi@verlag.com\",\n",
    "    \"Beschreibung\" : \"Für alles was high ist.\"\n",
    "}\n",
    "\n",
    "val_schlagwort = [\n",
    "    {   \"Wort\": \"Fun\",\n",
    "        \"Beschreibung\": \"Fun ist eine tolle Kategorie.\"},\n",
    "    {   \"Wort\": \"Lust\",\n",
    "        \"Beschreibung\": \"Lust im Herz\"}\n",
    "]\n",
    "\n",
    "val_buch = {\n",
    "    \"ISBN\": \"1234567890123\",\n",
    "    \"Titel\": \"WOW\",\n",
    "    \"Untertitel\": \"Ein WOW für dich!\",\n",
    "    \"VerlagId\": \"\",\n",
    "    \"Erscheinungsjahr\": \"2017\",\n",
    "    \"SorteId\": \"\",\n",
    "    \"Kurzbeschreibung\": \"Klassebuch\",\n",
    "    \"Preis\": \"9.99\",\n",
    "    \"Auflage\": \"1\",\n",
    "    \"Sprache\": \"deutsch\"\n",
    "}\n",
    "\n",
    "val_person = {\n",
    "    \"Vorname\": \"Guenter\",\n",
    "    \"Name\": \"Pauli\",\n",
    "    \"Email\": \"guenter@pauli.sucks\",\n",
    "    \"Geburtsdatum\": date(2000, 12, 2)\n",
    "}\n",
    "\n",
    "val_autor = {\n",
    "    \"PersonenId\": \"\",\n",
    "    \"Beschreibung\": \"Pauli aus Pauli\"\n",
    "}\n",
    "\n",
    "val_sorte = {\n",
    "    \"Name\": \"Spassbuch\",\n",
    "    \"Beschreibung\": \"Diese Bücher machen Spaß\"\n",
    "}\n",
    "\n",
    "insert_book(val_schlagwort, val_verlag, val_buch, val_person, val_autor, val_sorte)\n",
    ""
   ]
  },
  {
   "cell_type": "markdown",
   "metadata": {},
   "source": [
    "## [TEST] Hoerbuch"
   ]
  },
  {
   "cell_type": "code",
   "execution_count": 118,
   "metadata": {},
   "outputs": [
    {
     "output_type": "stream",
     "name": "stdout",
     "text": "--- Inserting Person\n--- Inserting Sprecher\n--- Inserting Verlag\n--- Inserting Hoerbuch\n"
    },
    {
     "output_type": "execute_result",
     "data": {
      "text/plain": "True"
     },
     "metadata": {},
     "execution_count": 118
    }
   ],
   "source": [
    "val_verlag = {\n",
    "    \"Kurzname\" : \"hi_hoerbuch\",\n",
    "    \"Name\" : \"hiverlag für Hörbücher\",\n",
    "    \"Postleitzahl\" : \"89078\",\n",
    "    \"Strasse\" : \"Rubelstraße 33\",\n",
    "    \"Internetadresse\" : \"hihoeren@verlag.com\",\n",
    "    \"Beschreibung\" : \"Für alles was high ist.\"\n",
    "}\n",
    "\n",
    "val_person = {\n",
    "    \"Vorname\": \"Manfred\",\n",
    "    \"Name\": \"Manni\",\n",
    "    \"Email\": \"manni@manii.sk\",\n",
    "    \"Geburtsdatum\": date(1970, 4, 1)\n",
    "}\n",
    "\n",
    "val_sprecher = {\n",
    "    \"PersonenId\": \"\",\n",
    "    \"Beschreibung\": \"Spricht männliche charaktere\"\n",
    "}\n",
    "\n",
    "val_hoerbuch = {\n",
    "    \"ISBN\": \"5678456456234\",\n",
    "    \"BuchISBN\": \"1234567890123\",\n",
    "    \"SprecherId\": \"\",\n",
    "    \"VerlagId\": \"\"\n",
    "}\n",
    "\n",
    "insert_hoerbuch(val_person, val_sprecher, val_verlag, val_hoerbuch)"
   ]
  },
  {
   "cell_type": "markdown",
   "metadata": {},
   "source": [
    "## [TEST] Ebook"
   ]
  },
  {
   "cell_type": "code",
   "execution_count": 119,
   "metadata": {},
   "outputs": [
    {
     "output_type": "stream",
     "name": "stdout",
     "text": "--- Inserting Ebook\n"
    },
    {
     "output_type": "execute_result",
     "data": {
      "text/plain": "True"
     },
     "metadata": {},
     "execution_count": 119
    }
   ],
   "source": [
    "\n",
    "val_ebook = {\n",
    "    \"ISBN\": \"5678456498776\",\n",
    "    \"BuchISBN\": \"1234567890123\",\n",
    "    \"Dateiformat\": \"epub\"\n",
    "}\n",
    "\n",
    "insert_ebook(val_ebook)"
   ]
  },
  {
   "cell_type": "markdown",
   "metadata": {},
   "source": [
    "## [TEST] Bild"
   ]
  },
  {
   "cell_type": "code",
   "execution_count": 120,
   "metadata": {},
   "outputs": [
    {
     "output_type": "stream",
     "name": "stdout",
     "text": "--- Inserting Sorte\n--- Inserting Person\n--- Inserting Maler\n--- Inserting NichtTextMedien\n--- Inserting Bild\n--- Done\n"
    },
    {
     "output_type": "execute_result",
     "data": {
      "text/plain": "True"
     },
     "metadata": {},
     "execution_count": 120
    }
   ],
   "source": [
    "val_sorte = {\n",
    "    \"Name\": \"Spaßbild\",\n",
    "    \"Beschreibung\": \"Dieses Bild erzeugt Spaß\"\n",
    "}\n",
    "\n",
    "val_person = {\n",
    "    \"Vorname\": \"Mali\",\n",
    "    \"Name\": \"Maler\",\n",
    "    \"Email\": \"mal@er.sk\",\n",
    "    \"Geburtsdatum\": date(1980, 2, 28)\n",
    "}\n",
    "\n",
    "val_maler = {\n",
    "    \"PersonenId\": \"\",\n",
    "    \"Beschreibung\": \"Malt immer in Grau\"\n",
    "}\n",
    "\n",
    "val_nichttextmedien = {\n",
    "    \"Titel\": \"WOW\",\n",
    "    \"Untertitel\": \"Ein WOW für dich!\",\n",
    "    \"Erscheinungsjahr\": \"2017\",\n",
    "    \"Kurzbeschreibung\": \"Ein Bild von Klasse\",\n",
    "    \"SorteId\": \"\",\n",
    "    \"Typ\": \"\"\n",
    "}\n",
    "\n",
    "with open(\"testimg_base64\") as f:\n",
    "    test_bild = f.read()\n",
    "val_bild = {\n",
    "    \"NichtTextMedienId\": \"\",\n",
    "    \"Bild\": test_bild,\n",
    "    \"MalerId\": \"\"\n",
    "}\n",
    "\n",
    "insert_bild(val_sorte, val_person, val_maler, val_nichttextmedien, val_bild)"
   ]
  },
  {
   "cell_type": "markdown",
   "metadata": {},
   "source": [
    "## [TEST] Video"
   ]
  },
  {
   "cell_type": "code",
   "execution_count": 121,
   "metadata": {},
   "outputs": [
    {
     "output_type": "stream",
     "name": "stdout",
     "text": "--- Inserting Sorte\n--- Inserting NichtTextMedien\n--- Inserting Video\n--- Done\n"
    },
    {
     "output_type": "execute_result",
     "data": {
      "text/plain": "True"
     },
     "metadata": {},
     "execution_count": 121
    }
   ],
   "source": [
    "val_sorte = {\n",
    "    \"Name\": \"Spaßbild\",\n",
    "    \"Beschreibung\": \"Dieses Bild erzeugt Spaß\"\n",
    "}\n",
    "\n",
    "val_nichttextmedien = {\n",
    "    \"Titel\": \"18 Movie\",\n",
    "    \"Untertitel\": \"18 klassiker\",\n",
    "    \"Erscheinungsjahr\": \"1982\",\n",
    "    \"Kurzbeschreibung\": \"Ein Video von Klasse\",\n",
    "    \"SorteId\": \"\",\n",
    "    \"Typ\": \"\"\n",
    "}\n",
    "\n",
    "val_video = {\n",
    "    \"NichtTextMedienId\": \"\",\n",
    "    \"Sprache\": \"deutsch\"\n",
    "}\n",
    "\n",
    "insert_video(val_sorte, val_nichttextmedien, val_video)"
   ]
  },
  {
   "cell_type": "markdown",
   "metadata": {},
   "source": [
    "## [TEST] Ausleiher"
   ]
  },
  {
   "cell_type": "code",
   "execution_count": 122,
   "metadata": {},
   "outputs": [
    {
     "output_type": "stream",
     "name": "stdout",
     "text": "--- Inserting Person\n--- Inserting Ausleiher\n--- Done\n"
    },
    {
     "output_type": "execute_result",
     "data": {
      "text/plain": "True"
     },
     "metadata": {},
     "execution_count": 122
    }
   ],
   "source": [
    "val_person = {\n",
    "    \"Vorname\": \"Max\",\n",
    "    \"Name\": \"Mustermann\",\n",
    "    \"Email\": \"max.mustermann@denken.de\",\n",
    "    \"Geburtsdatum\": date(1999, 6, 30)\n",
    "}\n",
    "\n",
    "val_ausleiher = {\n",
    "    \"PersonenId\": \"\",\n",
    "    \"Strasse\": \"Nostreet 24\",\n",
    "    \"Postleitzahl\": \"56789\",\n",
    "    \"Ort\": \"Entenhausen\",\n",
    "    \"Telefonnummer\" : \"23458/856765567\"\n",
    "}\n",
    "\n",
    "insert_ausleiher(val_person, val_ausleiher)"
   ]
  },
  {
   "cell_type": "markdown",
   "metadata": {},
   "source": [
    "## [TEST] Ausleihe"
   ]
  },
  {
   "cell_type": "code",
   "execution_count": 123,
   "metadata": {},
   "outputs": [
    {
     "output_type": "stream",
     "name": "stdout",
     "text": "--- Inserting Person\n--- Inserting Ausleiher\n"
    }
   ],
   "source": [
    "val_person = {\n",
    "    \"Vorname\": \"Max\",\n",
    "    \"Name\": \"Mustermann\",\n",
    "    \"Email\": \"max.mustermann@denken.de\",\n",
    "    \"Geburtsdatum\": date(1999, 6, 30)\n",
    "}\n",
    "\n",
    "val_ausleiher = {\n",
    "    \"PersonenId\": \"\",\n",
    "    \"Strasse\": \"Nostreet 24\",\n",
    "    \"Postleitzahl\": \"56789\",\n",
    "    \"Ort\": \"Entenhausen\",\n",
    "    \"Telefonnummer\" : \"23458/856765567\"\n",
    "}\n",
    "\n",
    "ISBN = \"1234567890123 \t\"\n",
    "\n",
    "insert_ausleihe(val_person, val_ausleiher, ISBN)"
   ]
  },
  {
   "cell_type": "markdown",
   "metadata": {},
   "source": [
    "# Execute"
   ]
  },
  {
   "cell_type": "code",
   "execution_count": 124,
   "metadata": {},
   "outputs": [],
   "source": []
  },
  {
   "cell_type": "markdown",
   "metadata": {},
   "source": [
    "# Close"
   ]
  },
  {
   "cell_type": "code",
   "execution_count": 125,
   "metadata": {},
   "outputs": [],
   "source": [
    "cursor.close()\n",
    "cnx.close()"
   ]
  }
 ],
 "metadata": {
  "kernelspec": {
   "display_name": "Python 3",
   "language": "python",
   "name": "python3"
  },
  "language_info": {
   "codemirror_mode": {
    "name": "ipython",
    "version": 3
   },
   "file_extension": ".py",
   "mimetype": "text/x-python",
   "name": "python",
   "nbconvert_exporter": "python",
   "pygments_lexer": "ipython3",
   "version": "3.7.6-final"
  }
 },
 "nbformat": 4,
 "nbformat_minor": 2
}