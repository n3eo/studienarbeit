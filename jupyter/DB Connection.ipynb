{
 "cells": [
  {
   "cell_type": "markdown",
   "metadata": {},
   "source": [
    "# Import"
   ]
  },
  {
   "cell_type": "code",
   "execution_count": 1,
   "metadata": {},
   "outputs": [
    {
     "name": "stdout",
     "output_type": "stream",
     "text": "Requirement already satisfied: mysql-connector-python in /opt/conda/lib/python3.7/site-packages (8.0.19)\nRequirement already satisfied: protobuf==3.6.1 in /opt/conda/lib/python3.7/site-packages (from mysql-connector-python) (3.6.1)\nRequirement already satisfied: dnspython==1.16.0 in /opt/conda/lib/python3.7/site-packages (from mysql-connector-python) (1.16.0)\nRequirement already satisfied: six>=1.9 in /opt/conda/lib/python3.7/site-packages (from protobuf==3.6.1->mysql-connector-python) (1.14.0)\nRequirement already satisfied: setuptools in /opt/conda/lib/python3.7/site-packages (from protobuf==3.6.1->mysql-connector-python) (45.2.0.post20200209)\n"
    }
   ],
   "source": [
    "!pip install mysql-connector-python"
   ]
  },
  {
   "cell_type": "code",
   "execution_count": 1,
   "metadata": {},
   "outputs": [],
   "source": [
    "import mysql.connector\n",
    "from datetime import date"
   ]
  },
  {
   "cell_type": "markdown",
   "metadata": {},
   "source": [
    "# Connection"
   ]
  },
  {
   "cell_type": "code",
   "execution_count": 2,
   "metadata": {},
   "outputs": [],
   "source": [
    "cnx = mysql.connector.connect(host='172.26.0.2',port='3306',database='nico_studienarbeit',user='studienarbeit',password='dbstuar2020')"
   ]
  },
  {
   "cell_type": "code",
   "execution_count": 3,
   "metadata": {},
   "outputs": [],
   "source": [
    "cursor = cnx.cursor()"
   ]
  },
  {
   "cell_type": "markdown",
   "metadata": {},
   "source": [
    "# Querys"
   ]
  },
  {
   "cell_type": "markdown",
   "metadata": {},
   "source": [
    "If string include ' ' to resole errors in the statement!"
   ]
  },
  {
   "cell_type": "markdown",
   "metadata": {},
   "source": [
    "## Insert routines\n",
    "1. Buch: Sorte, Verlag, Buch\n",
    "2. Hörbuch: Sorte, Verlag, Buch, Person, Sprecher, Hörbuch\n",
    "3. Ebook: Sorte, Verlag, Buch, Person, Ebook\n",
    "4. Person: Person\n",
    "5. Ausleiher: Person, Ausleiher\n",
    "6. Sorte: Sorte\n",
    "7. Autor: Person, Autor\n",
    "8. Wort: Wort\n",
    "9. Maler: Person, Maler"
   ]
  },
  {
   "cell_type": "code",
   "execution_count": 4,
   "metadata": {},
   "outputs": [],
   "source": [
    "def insert_db(INSERT, values, SELECT=None):\n",
    "    val = [v for v in values.values()]\n",
    "\n",
    "    first_result = None\n",
    "    if SELECT:\n",
    "        cursor.execute(SELECT, val)\n",
    "        first_result = cursor.fetchone()\n",
    "            \n",
    "    if not first_result:\n",
    "        cursor.execute(INSERT, val)\n",
    "        cnx.commit()\n",
    "        return cursor.lastrowid\n",
    "\n",
    "    return first_result[0]\n",
    "\n",
    "def insert_db_ntm(INSERT, values, SELECT=None):\n",
    "    val = [v for v in values.values()]\n",
    "\n",
    "    first_result = None\n",
    "    if SELECT:\n",
    "        cursor.execute(SELECT, val)\n",
    "        first_result = cursor.fetchone()\n",
    "            \n",
    "    if not first_result:\n",
    "        val = [\"nt\" + str(hash(str(values)))[-11:]] + val\n",
    "        cursor.execute(INSERT, val) \n",
    "        cnx.commit()\n",
    "        return cursor.lastrowid\n",
    "\n",
    "    return first_result[0]"
   ]
  },
  {
   "cell_type": "markdown",
   "metadata": {},
   "source": [
    "### Buch\n",
    "INSERT_SORTE, INSERT_VERLAG, INSERT_AUTOR"
   ]
  },
  {
   "cell_type": "code",
   "execution_count": 5,
   "metadata": {},
   "outputs": [],
   "source": [
    "INSERT_SORTE = \"INSERT INTO Sorte(Name,Beschreibung) VALUES(%s,%s)\"\n",
    "SELECT_SORTE = \"SELECT SorteId FROM Sorte WHERE Name=%s AND Beschreibung=%s;\""
   ]
  },
  {
   "cell_type": "code",
   "execution_count": 6,
   "metadata": {},
   "outputs": [],
   "source": [
    "INSERT_VERLAG = \"INSERT INTO Verlag(Kurzname, Name, Postleitzahl, Strasse, Internetadresse, Beschreibung) VALUES(%s,%s,%s,%s,%s,%s)\"\n",
    "SELECT_VERLAG = \"SELECT VerlagId FROM Verlag WHERE Kurzname=%s AND Name=%s AND Postleitzahl=%s AND Strasse=%s AND Internetadresse=%s AND Beschreibung=%s;\""
   ]
  },
  {
   "cell_type": "code",
   "execution_count": 39,
   "metadata": {},
   "outputs": [],
   "source": [
    "INSERT_BUCH = \"INSERT IGNORE INTO Buch(ISBN,Titel,Untertitel,VerlagId,Erscheinungsjahr,SorteId,Kurzbeschreibung,Preis,Auflage,Sprache) VALUES(%s,%s,%s,%s,%s,%s,%s,%s,%s,%s);\""
   ]
  },
  {
   "cell_type": "code",
   "execution_count": 8,
   "metadata": {},
   "outputs": [],
   "source": [
    "INSERT_AUTORBUCHZUORD = \"INSERT IGNORE INTO AutorBuchZuord(AutorId,ISBN) VALUES(%s,%s);\""
   ]
  },
  {
   "cell_type": "code",
   "execution_count": 9,
   "metadata": {},
   "outputs": [],
   "source": [
    "def insert_book(val_schlagworte, val_verlag, val_buch, val_person, val_autor, val_sorte):\n",
    "    try:\n",
    "        print(\"--- Inserting Sorte\")\n",
    "        sorte_id = insert_db(INSERT_SORTE, val_sorte, SELECT_SORTE)\n",
    "        val_buch[\"SorteId\"] = sorte_id\n",
    "\n",
    "        print(\"--- Inserting Verlag\")\n",
    "        verlag_id = insert_db(INSERT_VERLAG, val_verlag, SELECT_VERLAG)\n",
    "        val_buch[\"VerlagId\"] = verlag_id\n",
    "        \n",
    "        print(\"--- Inserting Buch\")\n",
    "        buch_id = insert_db(INSERT_BUCH, val_buch)\n",
    "\n",
    "        print(\"--- Inserting Schlagworte\")\n",
    "        for schlagwort in val_schlagworte:\n",
    "            print(\"--- --- Inserting Schlagwort\")\n",
    "            insert_db(INSERT_SCHLAGWORT, schlagwort)\n",
    "\n",
    "            print(\"--- --- Inserting MediumBuchZuord\")\n",
    "            val_mediumwortzuord = {\n",
    "                \"MediumId\": buch_id,\n",
    "                \"Wort\": schlagwort[\"Wort\"]\n",
    "            }\n",
    "            insert_db(INSERT_MEDIUMWORTZUORD, val_mediumwortzuord)\n",
    "\n",
    "        print(\"--- Inserting Person\")\n",
    "        person_id = insert_db(INSERT_PERSON, val_person, SELECT_PERSON)\n",
    "        val_autor[\"PersonenId\"] = person_id\n",
    "        \n",
    "        print(\"--- Inserting Autor\")\n",
    "        autor_id = insert_db(INSERT_AUTOR, val_autor, SELECT_AUTOR)\n",
    "\n",
    "        print(\"--- Inserting AutorBuchZuord\")\n",
    "        val_autorbuchzuord = {\n",
    "            \"AutorId\" : autor_id,\n",
    "            \"IBSN\" : val_buch[\"ISBN\"]\n",
    "        }\n",
    "        insert_db(INSERT_AUTORBUCHZUORD, val_autorbuchzuord)\n",
    "        print(\"--- Done\")\n",
    "        \n",
    "    except Exception as e:\n",
    "        print(e)\n",
    "        return False\n",
    "    \n",
    "    return True"
   ]
  },
  {
   "cell_type": "markdown",
   "metadata": {},
   "source": [
    "### Hörbuch\n",
    "INSERT_SORTE, INSERT_VERLAG, INSERT_BUCH, INSERT_SPRECHER"
   ]
  },
  {
   "cell_type": "code",
   "execution_count": 10,
   "metadata": {},
   "outputs": [],
   "source": [
    "INSERT_PERSON = \"INSERT INTO Person(Vorname,Name,Email,Geburtsdatum) VALUES(%s,%s,%s,%s);\"\n",
    "SELECT_PERSON = \"SELECT PersonenId FROM Person WHERE Vorname=%s AND Name=%s AND Email=%s AND Geburtsdatum=%s;\""
   ]
  },
  {
   "cell_type": "code",
   "execution_count": 11,
   "metadata": {},
   "outputs": [],
   "source": [
    "INSERT_SPRECHER = \"INSERT INTO Sprecher(PersonenId,Beschreibung) VALUES(%s,%s)\"\n",
    "SELECT_SPRECHER = \"SELECT SprecherId FROM Sprecher WHERE PersonenId=%s AND Beschreibung=%s;\""
   ]
  },
  {
   "cell_type": "code",
   "execution_count": 12,
   "metadata": {},
   "outputs": [],
   "source": [
    "INSERT_HOERBUCH = \"INSERT IGNORE INTO Hoerbuch(ISBN,BuchISBN,SprecherId,VerlagId) VALUES(%s,%s,%s,%s);\""
   ]
  },
  {
   "cell_type": "code",
   "execution_count": 13,
   "metadata": {},
   "outputs": [],
   "source": [
    "def insert_hoerbuch(val_person, val_sprecher, val_verlag, val_hoerbuch):\n",
    "    try:\n",
    "        print(\"--- Inserting Person\")\n",
    "        person_id = insert_db(INSERT_PERSON, val_person, SELECT_PERSON)\n",
    "        val_sprecher[\"PersonenId\"] = person_id\n",
    "\n",
    "        print(\"--- Inserting Sprecher\")\n",
    "        sprecher_id = insert_db(INSERT_SPRECHER, val_sprecher, SELECT_SPRECHER)\n",
    "        val_hoerbuch[\"SprecherId\"] = sprecher_id\n",
    "\n",
    "        print(\"--- Inserting Verlag\")\n",
    "        verlag_id = insert_db(INSERT_VERLAG, val_verlag, SELECT_VERLAG)\n",
    "        val_hoerbuch[\"VerlagId\"] = verlag_id\n",
    "\n",
    "        print(\"--- Inserting Hoerbuch\")\n",
    "        insert_db(INSERT_HOERBUCH, val_hoerbuch)\n",
    "    \n",
    "    except Exception as e:\n",
    "        print(e)\n",
    "        return False\n",
    "    \n",
    "    return True"
   ]
  },
  {
   "cell_type": "markdown",
   "metadata": {},
   "source": [
    "### Ebook\n",
    "INSERT_SORTE, INSERT_VERLAG, INSERT_BUCH, INSERT_PERSON"
   ]
  },
  {
   "cell_type": "code",
   "execution_count": 14,
   "metadata": {},
   "outputs": [],
   "source": [
    "INSERT_EBOOK = \"INSERT IGNORE INTO Ebooks(ISBN,BuchISBN,Dateiformat) VALUES(%s,%s,%s)\""
   ]
  },
  {
   "cell_type": "code",
   "execution_count": 15,
   "metadata": {},
   "outputs": [],
   "source": [
    "def insert_ebook(val_ebook):\n",
    "    try:\n",
    "        print(\"--- Inserting Ebook\")\n",
    "        insert_db(INSERT_EBOOK, val_ebook)\n",
    "    except Exception as e:\n",
    "        print(e)\n",
    "        return False\n",
    "    \n",
    "    return True"
   ]
  },
  {
   "cell_type": "markdown",
   "metadata": {},
   "source": [
    "### Ausleiher\n",
    "INSERT_PERSON"
   ]
  },
  {
   "cell_type": "code",
   "execution_count": 16,
   "metadata": {},
   "outputs": [],
   "source": [
    "INSERT_AUSLEIHER = \"INSERT INTO Ausleiher(PersonenId,Strasse,Postleitzahl,Ort,Telefonnummer) VALUES(%s,%s,%s,%s,%s)\"\n",
    "SELECT_AUSLEIHER = \"SELECT AusleiherId FROM Ausleiher WHERE PersonenId=%s AND Strasse=%s AND Postleitzahl=%s AND Ort=%s AND Telefonnummer=%s;\""
   ]
  },
  {
   "cell_type": "code",
   "execution_count": 17,
   "metadata": {},
   "outputs": [],
   "source": [
    "def insert_ausleiher(val_person, val_ausleiher):\n",
    "    try:\n",
    "        print(\"--- Inserting Person\")\n",
    "        person_id = insert_db(INSERT_PERSON, val_person, SELECT_PERSON)\n",
    "        val_ausleiher[\"PersonenId\"] = person_id\n",
    "\n",
    "        print(\"--- Inserting Ausleiher\")\n",
    "        insert_db(INSERT_AUSLEIHER, val_ausleiher, SELECT_AUSLEIHER)\n",
    "\n",
    "        print(\"--- Done\")\n",
    "    except Exception as e:\n",
    "        print(e)\n",
    "        return False\n",
    "    \n",
    "    return True"
   ]
  },
  {
   "cell_type": "markdown",
   "metadata": {},
   "source": [
    "### Autor\n",
    "INSERT_PERSON"
   ]
  },
  {
   "cell_type": "code",
   "execution_count": 18,
   "metadata": {},
   "outputs": [],
   "source": [
    "INSERT_AUTOR = \"INSERT INTO Autor(PersonenId,Beschreibung) VALUES(%s,%s)\"\n",
    "SELECT_AUTOR = \"SELECT AutorId FROM Autor WHERE PersonenId=%s AND Beschreibung=%s;\""
   ]
  },
  {
   "cell_type": "markdown",
   "metadata": {},
   "source": [
    "### Schlagwort"
   ]
  },
  {
   "cell_type": "code",
   "execution_count": 19,
   "metadata": {},
   "outputs": [],
   "source": [
    "INSERT_SCHLAGWORT = \"INSERT IGNORE INTO Schlagwort(Wort,Beschreibung) VALUES(%s,%s)\""
   ]
  },
  {
   "cell_type": "markdown",
   "metadata": {},
   "source": [
    "### MediumWortZuord"
   ]
  },
  {
   "cell_type": "code",
   "execution_count": 20,
   "metadata": {},
   "outputs": [],
   "source": [
    "INSERT_MEDIUMWORTZUORD = \"INSERT IGNORE INTO MediumWortZuord(MediumId,Wort) VALUES(%s,%s)\""
   ]
  },
  {
   "cell_type": "markdown",
   "metadata": {},
   "source": [
    "### Maler\n",
    "INSERT_PERSON"
   ]
  },
  {
   "cell_type": "code",
   "execution_count": 21,
   "metadata": {},
   "outputs": [],
   "source": [
    "INSERT_MALER = \"INSERT INTO Maler(PersonenId,Beschreibung) VALUES(%s,%s)\"\n",
    "SELECT_MALER = \"SELECT MalerId FROM Maler WHERE PersonenId=%s AND Beschreibung=%s;\""
   ]
  },
  {
   "cell_type": "markdown",
   "metadata": {},
   "source": [
    "### NichtTextMedien\n",
    "INSERT_SORTE"
   ]
  },
  {
   "cell_type": "code",
   "execution_count": 22,
   "metadata": {},
   "outputs": [],
   "source": [
    "INSERT_NICHTTEXTMEDIEN = \"INSERT INTO NichtTextMedien(NichtTextMedienId,Titel,Untertitel,Erscheinungsjahr,Kurzbeschreibung,SorteId,Typ) VALUES(%s,%s,%s,%s,%s,%s,%s)\"\n",
    "SELECT_NICHTTEXTMEDIEN = \"SELECT NichttextmedienId FROM NichtTextMedien WHERE Titel=%s AND Untertitel=%s AND Erscheinungsjahr=%s AND Kurzbeschreibung=%s AND SorteId=%s AND Typ=%s;\""
   ]
  },
  {
   "cell_type": "markdown",
   "metadata": {},
   "source": [
    "### Bild\n",
    "INSERT_SORTE, INSERT_NICHTTEXTMEDIEN, INSERT_PERSON, INSERT_MALER"
   ]
  },
  {
   "cell_type": "code",
   "execution_count": 23,
   "metadata": {},
   "outputs": [],
   "source": [
    "INSERT_BILD = \"INSERT INTO Bild(NichtTextMedienId,Bild,MalerId) VALUES(%s,%s,%s)\"\n",
    "SELECT_BILD = \"SELECT BildId FROM Bild WHERE NichtTextMedienId=%s AND Bild=%s AND MalerId=%s;\""
   ]
  },
  {
   "cell_type": "code",
   "execution_count": 55,
   "metadata": {},
   "outputs": [],
   "source": [
    "def insert_bild(val_sorte, val_person, val_maler, val_nichttextmedien, val_bild, val_schlagworte):\n",
    "    try:\n",
    "        print(\"--- Inserting Sorte\")\n",
    "        sorte_id = insert_db(INSERT_SORTE, val_sorte, SELECT_SORTE)\n",
    "        val_nichttextmedien[\"SorteId\"] = sorte_id\n",
    "\n",
    "        print(\"--- Inserting Person\")\n",
    "        person_id = insert_db(INSERT_PERSON, val_person, SELECT_PERSON)\n",
    "        val_maler[\"PersonenId\"] = person_id\n",
    "        \n",
    "        print(\"--- Inserting Maler\")\n",
    "        maler_id = insert_db(INSERT_MALER, val_maler, SELECT_MALER)\n",
    "        val_bild[\"MalerId\"] = maler_id\n",
    "\n",
    "        print(\"--- Inserting NichtTextMedien\")\n",
    "        val_nichttextmedien[\"Typ\"] = \"Bild\"\n",
    "        ntm_id = insert_db_ntm(INSERT_NICHTTEXTMEDIEN, val_nichttextmedien, SELECT_NICHTTEXTMEDIEN)\n",
    "        val_bild[\"NichtTextMedienId\"] = ntm_id\n",
    "        \n",
    "        print(\"--- Inserting Schlagworte\")\n",
    "        for schlagwort in val_schlagworte:\n",
    "            print(\"--- --- Inserting Schlagwort\")\n",
    "            insert_db(INSERT_SCHLAGWORT, schlagwort)\n",
    "\n",
    "            print(\"--- --- Inserting MediumBuchZuord\")\n",
    "            val_mediumwortzuord = {\n",
    "                \"MediumId\": ntm_id,\n",
    "                \"Wort\": schlagwort[\"Wort\"]\n",
    "            }\n",
    "            insert_db(INSERT_MEDIUMWORTZUORD, val_mediumwortzuord)\n",
    "\n",
    "        print(\"--- Inserting Bild\")\n",
    "        insert_db(INSERT_BILD, val_bild, SELECT_BILD)\n",
    "\n",
    "        print(\"--- Done\")        \n",
    "    except Exception as e:\n",
    "        print(e)\n",
    "        return False\n",
    "    \n",
    "    return True"
   ]
  },
  {
   "cell_type": "markdown",
   "metadata": {},
   "source": [
    "### Video\n",
    "INSERT_SORTE, INSERT_NICHTTEXTMEDIEN"
   ]
  },
  {
   "cell_type": "code",
   "execution_count": 25,
   "metadata": {},
   "outputs": [],
   "source": [
    "INSERT_VIDEO = \"INSERT INTO Video(NichtTextMedienId,Sprache) VALUES(%s,%s)\"\n",
    "SELECT_VIDEO = \"SELECT VideoId FROM Video WHERE NichtTextMedienId=%s AND Sprache=%s;\""
   ]
  },
  {
   "cell_type": "code",
   "execution_count": 58,
   "metadata": {},
   "outputs": [],
   "source": [
    "def insert_video(val_sorte, val_nichttextmedien, val_video, val_schlagworte):\n",
    "    try:\n",
    "        print(\"--- Inserting Sorte\")\n",
    "        sorte_id = insert_db(INSERT_SORTE, val_sorte, SELECT_SORTE)\n",
    "        val_nichttextmedien[\"SorteId\"] = sorte_id\n",
    "\n",
    "        print(\"--- Inserting NichtTextMedien\")\n",
    "        val_nichttextmedien[\"Typ\"] = \"Video\"\n",
    "        ntm_id = insert_db_ntm(INSERT_NICHTTEXTMEDIEN, val_nichttextmedien, SELECT_NICHTTEXTMEDIEN)\n",
    "        val_video[\"NichtTextMedienId\"] = ntm_id\n",
    "        \n",
    "        print(\"--- Inserting Schlagworte\")\n",
    "        for schlagwort in val_schlagworte:\n",
    "            print(\"--- --- Inserting Schlagwort\")\n",
    "            insert_db(INSERT_SCHLAGWORT, schlagwort)\n",
    "\n",
    "            print(\"--- --- Inserting MediumBuchZuord\")\n",
    "            val_mediumwortzuord = {\n",
    "                \"MediumId\": ntm_id,\n",
    "                \"Wort\": schlagwort[\"Wort\"]\n",
    "            }\n",
    "            insert_db(INSERT_MEDIUMWORTZUORD, val_mediumwortzuord)\n",
    "\n",
    "        print(\"--- Inserting Video\")\n",
    "        insert_db(INSERT_VIDEO, val_video, SELECT_VIDEO)\n",
    "\n",
    "        print(\"--- Done\")        \n",
    "    except Exception as e:\n",
    "        print(e)\n",
    "        return False\n",
    "    \n",
    "    return True"
   ]
  },
  {
   "cell_type": "markdown",
   "metadata": {},
   "source": [
    "### Ausleihe\n",
    "INSERT_AUSLEIHER, INSERT_NICHTTEXTMEDIEN/INSERT_BUCH/INSERT_EBOOK/INSERT_HOERBUCH"
   ]
  },
  {
   "cell_type": "code",
   "execution_count": 51,
   "metadata": {},
   "outputs": [],
   "source": [
    "INSERT_AUSLEIHE = \"INSERT INTO Ausleihe(AusleiherId,MediumId) VALUES(%s,%s)\""
   ]
  },
  {
   "cell_type": "code",
   "execution_count": 52,
   "metadata": {},
   "outputs": [],
   "source": [
    "def insert_ausleihe(val_person, val_ausleiher, ISBN):\n",
    "    print(\"--- Inserting Person\")\n",
    "    person_id = insert_db(INSERT_PERSON, val_person, SELECT_PERSON)\n",
    "    val_ausleiher[\"PersonenId\"] = person_id\n",
    "\n",
    "    print(\"--- Inserting Ausleiher\")\n",
    "    ausleiher_id = insert_db(INSERT_AUSLEIHER, val_ausleiher, SELECT_AUSLEIHER)\n",
    "\n",
    "    val_ausleihe = {\n",
    "        \"AusleiherId\": ausleiher_id,\n",
    "        \"MediumId\": ISBN\n",
    "    }\n",
    "    insert_db(INSERT_AUSLEIHE, val_ausleihe)\n"
   ]
  },
  {
   "cell_type": "markdown",
   "metadata": {},
   "source": [
    "# Testqueries\n",
    "\n",
    "## [TEST] Buch"
   ]
  },
  {
   "cell_type": "code",
   "execution_count": 29,
   "metadata": {},
   "outputs": [
    {
     "name": "stdout",
     "output_type": "stream",
     "text": "--- Inserting Sorte\n--- Inserting Verlag\n--- Inserting Buch\n--- Inserting Schlagworte\n--- --- Inserting Schlagwort\n--- --- Inserting MediumBuchZuord\n--- --- Inserting Schlagwort\n--- --- Inserting MediumBuchZuord\n--- Inserting Person\n--- Inserting Autor\n--- Inserting AutorBuchZuord\n--- Done\n"
    },
    {
     "data": {
      "text/plain": "True"
     },
     "execution_count": 29,
     "metadata": {},
     "output_type": "execute_result"
    }
   ],
   "source": [
    "val_verlag = {\n",
    "    \"Kurzname\" : \"hi\",\n",
    "    \"Name\" : \"hiverlag\",\n",
    "    \"Postleitzahl\" : \"89078\",\n",
    "    \"Strasse\" : \"Rubelstraße 33\",\n",
    "    \"Internetadresse\" : \"hi@verlag.com\",\n",
    "    \"Beschreibung\" : \"Für alles was high ist.\"\n",
    "}\n",
    "\n",
    "val_schlagwort = [\n",
    "    {   \"Wort\": \"Fun\",\n",
    "        \"Beschreibung\": \"Fun ist eine tolle Kategorie.\"},\n",
    "    {   \"Wort\": \"Lust\",\n",
    "        \"Beschreibung\": \"Lust im Herz\"}\n",
    "]\n",
    "\n",
    "val_buch = {\n",
    "    \"ISBN\": \"1234567890123\",\n",
    "    \"Titel\": \"WOW\",\n",
    "    \"Untertitel\": \"Ein WOW für dich!\",\n",
    "    \"VerlagId\": \"\",\n",
    "    \"Erscheinungsjahr\": \"2017\",\n",
    "    \"SorteId\": \"\",\n",
    "    \"Kurzbeschreibung\": \"Klassebuch\",\n",
    "    \"Preis\": \"9.99\",\n",
    "    \"Auflage\": \"1\",\n",
    "    \"Sprache\": \"deutsch\"\n",
    "}\n",
    "\n",
    "val_person = {\n",
    "    \"Vorname\": \"Guenter\",\n",
    "    \"Name\": \"Pauli\",\n",
    "    \"Email\": \"guenter@pauli.sucks\",\n",
    "    \"Geburtsdatum\": date(2000, 12, 2)\n",
    "}\n",
    "\n",
    "val_autor = {\n",
    "    \"PersonenId\": \"\",\n",
    "    \"Beschreibung\": \"Pauli aus Pauli\"\n",
    "}\n",
    "\n",
    "val_sorte = {\n",
    "    \"Name\": \"Spassbuch\",\n",
    "    \"Beschreibung\": \"Diese Bücher machen Spaß\"\n",
    "}\n",
    "\n",
    "insert_book(val_schlagwort, val_verlag, val_buch, val_person, val_autor, val_sorte)\n"
   ]
  },
  {
   "cell_type": "markdown",
   "metadata": {},
   "source": [
    "## [TEST] Hoerbuch"
   ]
  },
  {
   "cell_type": "code",
   "execution_count": 30,
   "metadata": {},
   "outputs": [
    {
     "name": "stdout",
     "output_type": "stream",
     "text": "--- Inserting Person\n--- Inserting Sprecher\n--- Inserting Verlag\n--- Inserting Hoerbuch\n"
    },
    {
     "data": {
      "text/plain": "True"
     },
     "execution_count": 30,
     "metadata": {},
     "output_type": "execute_result"
    }
   ],
   "source": [
    "val_verlag = {\n",
    "    \"Kurzname\" : \"hi_hoerbuch\",\n",
    "    \"Name\" : \"hiverlag für Hörbücher\",\n",
    "    \"Postleitzahl\" : \"89078\",\n",
    "    \"Strasse\" : \"Rubelstraße 33\",\n",
    "    \"Internetadresse\" : \"hihoeren@verlag.com\",\n",
    "    \"Beschreibung\" : \"Für alles was high ist.\"\n",
    "}\n",
    "\n",
    "val_person = {\n",
    "    \"Vorname\": \"Manfred\",\n",
    "    \"Name\": \"Manni\",\n",
    "    \"Email\": \"manni@manii.sk\",\n",
    "    \"Geburtsdatum\": date(1970, 4, 1)\n",
    "}\n",
    "\n",
    "val_sprecher = {\n",
    "    \"PersonenId\": \"\",\n",
    "    \"Beschreibung\": \"Spricht männliche charaktere\"\n",
    "}\n",
    "\n",
    "val_hoerbuch = {\n",
    "    \"ISBN\": \"5678456456234\",\n",
    "    \"BuchISBN\": \"1234567890123\",\n",
    "    \"SprecherId\": \"\",\n",
    "    \"VerlagId\": \"\"\n",
    "}\n",
    "\n",
    "insert_hoerbuch(val_person, val_sprecher, val_verlag, val_hoerbuch)"
   ]
  },
  {
   "cell_type": "markdown",
   "metadata": {},
   "source": [
    "## [TEST] Ebook"
   ]
  },
  {
   "cell_type": "code",
   "execution_count": 31,
   "metadata": {},
   "outputs": [
    {
     "name": "stdout",
     "output_type": "stream",
     "text": "--- Inserting Ebook\n"
    },
    {
     "data": {
      "text/plain": "True"
     },
     "execution_count": 31,
     "metadata": {},
     "output_type": "execute_result"
    }
   ],
   "source": [
    "\n",
    "val_ebook = {\n",
    "    \"ISBN\": \"5678456498776\",\n",
    "    \"BuchISBN\": \"1234567890123\",\n",
    "    \"Dateiformat\": \"epub\"\n",
    "}\n",
    "\n",
    "insert_ebook(val_ebook)"
   ]
  },
  {
   "cell_type": "markdown",
   "metadata": {},
   "source": [
    "## [TEST] Bild"
   ]
  },
  {
   "cell_type": "code",
   "execution_count": 60,
   "metadata": {},
   "outputs": [
    {
     "name": "stdout",
     "output_type": "stream",
     "text": "--- Inserting Sorte\n--- Inserting Person\n--- Inserting Maler\n--- Inserting NichtTextMedien\n--- Inserting Schlagworte\n--- Inserting Bild\n--- Done\n"
    },
    {
     "data": {
      "text/plain": "True"
     },
     "execution_count": 60,
     "metadata": {},
     "output_type": "execute_result"
    }
   ],
   "source": [
    "val_sorte = {\n",
    "    \"Name\": \"Spaßbild\",\n",
    "    \"Beschreibung\": \"Dieses Bild erzeugt Spaß\"\n",
    "}\n",
    "\n",
    "val_person = {\n",
    "    \"Vorname\": \"Mali\",\n",
    "    \"Name\": \"Maler\",\n",
    "    \"Email\": \"mal@er.sk\",\n",
    "    \"Geburtsdatum\": date(1980, 2, 28)\n",
    "}\n",
    "\n",
    "val_maler = {\n",
    "    \"PersonenId\": \"\",\n",
    "    \"Beschreibung\": \"Malt immer in Grau\"\n",
    "}\n",
    "\n",
    "val_nichttextmedien = {\n",
    "    \"Titel\": \"WOW\",\n",
    "    \"Untertitel\": \"Ein WOW für dich!\",\n",
    "    \"Erscheinungsjahr\": \"2017\",\n",
    "    \"Kurzbeschreibung\": \"Ein Bild von Klasse\",\n",
    "    \"SorteId\": \"\",\n",
    "    \"Typ\": \"\"\n",
    "}\n",
    "\n",
    "with open(\"testimg_base64\") as f:\n",
    "    test_bild = f.read()\n",
    "val_bild = {\n",
    "    \"NichtTextMedienId\": \"\",\n",
    "    \"Bild\": test_bild,\n",
    "    \"MalerId\": \"\"\n",
    "}\n",
    "\n",
    "val_schlagworte=[]\n",
    "\n",
    "insert_bild(val_sorte, val_person, val_maler, val_nichttextmedien, val_bild, val_schlagworte)"
   ]
  },
  {
   "cell_type": "markdown",
   "metadata": {},
   "source": [
    "# TODO Add Schlagworte  zu den anderen Sachen\n"
   ]
  },
  {
   "cell_type": "markdown",
   "metadata": {},
   "source": [
    "## [TEST] Video"
   ]
  },
  {
   "cell_type": "code",
   "execution_count": 59,
   "metadata": {},
   "outputs": [
    {
     "name": "stdout",
     "output_type": "stream",
     "text": "--- Inserting Sorte\n--- Inserting NichtTextMedien\n--- Inserting Schlagworte\n--- Inserting Video\n--- Done\n"
    },
    {
     "data": {
      "text/plain": "True"
     },
     "execution_count": 59,
     "metadata": {},
     "output_type": "execute_result"
    }
   ],
   "source": [
    "val_sorte = {\n",
    "    \"Name\": \"Spaßbild\",\n",
    "    \"Beschreibung\": \"Dieses Bild erzeugt Spaß\"\n",
    "}\n",
    "\n",
    "val_nichttextmedien = {\n",
    "    \"Titel\": \"18 Movie\",\n",
    "    \"Untertitel\": \"18 klassiker\",\n",
    "    \"Erscheinungsjahr\": \"1982\",\n",
    "    \"Kurzbeschreibung\": \"Ein Video von Klasse\",\n",
    "    \"SorteId\": \"\",\n",
    "    \"Typ\": \"\"\n",
    "}\n",
    "\n",
    "val_video = {\n",
    "    \"NichtTextMedienId\": \"\",\n",
    "    \"Sprache\": \"deutsch\"\n",
    "}\n",
    "\n",
    "val_schlagworte=[]\n",
    "\n",
    "insert_video(val_sorte, val_nichttextmedien, val_video, val_schlagworte)"
   ]
  },
  {
   "cell_type": "markdown",
   "metadata": {},
   "source": [
    "## [TEST] Ausleiher"
   ]
  },
  {
   "cell_type": "code",
   "execution_count": 41,
   "metadata": {},
   "outputs": [
    {
     "name": "stdout",
     "output_type": "stream",
     "text": "--- Inserting Person\n--- Inserting Ausleiher\n--- Done\n"
    },
    {
     "data": {
      "text/plain": "True"
     },
     "execution_count": 41,
     "metadata": {},
     "output_type": "execute_result"
    }
   ],
   "source": [
    "val_person = {\n",
    "    \"Vorname\": \"Max\",\n",
    "    \"Name\": \"Mustermann\",\n",
    "    \"Email\": \"max.mustermann@denken.de\",\n",
    "    \"Geburtsdatum\": date(1999, 6, 30)\n",
    "}\n",
    "\n",
    "val_ausleiher = {\n",
    "    \"PersonenId\": \"\",\n",
    "    \"Strasse\": \"Nostreet 24\",\n",
    "    \"Postleitzahl\": \"56789\",\n",
    "    \"Ort\": \"Entenhausen\",\n",
    "    \"Telefonnummer\" : \"23458/856765567\"\n",
    "}\n",
    "\n",
    "insert_ausleiher(val_person, val_ausleiher)"
   ]
  },
  {
   "cell_type": "markdown",
   "metadata": {},
   "source": [
    "## [TEST] Ausleihe"
   ]
  },
  {
   "cell_type": "code",
   "execution_count": 54,
   "metadata": {},
   "outputs": [
    {
     "name": "stdout",
     "output_type": "stream",
     "text": "--- Inserting Person\n--- Inserting Ausleiher\n"
    },
    {
     "ename": "IntegrityError",
     "evalue": "1452 (23000): Cannot add or update a child row: a foreign key constraint fails (`nico_studienarbeit`.`Ausleihe`, CONSTRAINT `Ausleihe_ibfk_2` FOREIGN KEY (`MediumId`) REFERENCES `Buch` (`ISBN`))",
     "output_type": "error",
     "traceback": [
      "\u001b[0;31m---------------------------------------------------------------------------\u001b[0m",
      "\u001b[0;31mMySQLInterfaceError\u001b[0m                       Traceback (most recent call last)",
      "\u001b[0;32m/opt/conda/lib/python3.7/site-packages/mysql/connector/connection_cext.py\u001b[0m in \u001b[0;36mcmd_query\u001b[0;34m(self, query, raw, buffered, raw_as_string)\u001b[0m\n\u001b[1;32m    488\u001b[0m                                \u001b[0mraw\u001b[0m\u001b[0;34m=\u001b[0m\u001b[0mraw\u001b[0m\u001b[0;34m,\u001b[0m \u001b[0mbuffered\u001b[0m\u001b[0;34m=\u001b[0m\u001b[0mbuffered\u001b[0m\u001b[0;34m,\u001b[0m\u001b[0;34m\u001b[0m\u001b[0;34m\u001b[0m\u001b[0m\n\u001b[0;32m--> 489\u001b[0;31m                                raw_as_string=raw_as_string)\n\u001b[0m\u001b[1;32m    490\u001b[0m         \u001b[0;32mexcept\u001b[0m \u001b[0mMySQLInterfaceError\u001b[0m \u001b[0;32mas\u001b[0m \u001b[0mexc\u001b[0m\u001b[0;34m:\u001b[0m\u001b[0;34m\u001b[0m\u001b[0;34m\u001b[0m\u001b[0m\n",
      "\u001b[0;31mMySQLInterfaceError\u001b[0m: Cannot add or update a child row: a foreign key constraint fails (`nico_studienarbeit`.`Ausleihe`, CONSTRAINT `Ausleihe_ibfk_2` FOREIGN KEY (`MediumId`) REFERENCES `Buch` (`ISBN`))",
      "\nDuring handling of the above exception, another exception occurred:\n",
      "\u001b[0;31mIntegrityError\u001b[0m                            Traceback (most recent call last)",
      "\u001b[0;32m<ipython-input-54-2d268611ae17>\u001b[0m in \u001b[0;36m<module>\u001b[0;34m\u001b[0m\n\u001b[1;32m     16\u001b[0m \u001b[0mISBN\u001b[0m \u001b[0;34m=\u001b[0m \u001b[0;34m\"5678456498776\"\u001b[0m\u001b[0;34m\u001b[0m\u001b[0;34m\u001b[0m\u001b[0m\n\u001b[1;32m     17\u001b[0m \u001b[0;34m\u001b[0m\u001b[0m\n\u001b[0;32m---> 18\u001b[0;31m \u001b[0minsert_ausleihe\u001b[0m\u001b[0;34m(\u001b[0m\u001b[0mval_person\u001b[0m\u001b[0;34m,\u001b[0m \u001b[0mval_ausleiher\u001b[0m\u001b[0;34m,\u001b[0m \u001b[0mISBN\u001b[0m\u001b[0;34m)\u001b[0m\u001b[0;34m\u001b[0m\u001b[0;34m\u001b[0m\u001b[0m\n\u001b[0m",
      "\u001b[0;32m<ipython-input-52-8fb59abcdcb6>\u001b[0m in \u001b[0;36minsert_ausleihe\u001b[0;34m(val_person, val_ausleiher, ISBN)\u001b[0m\n\u001b[1;32m     11\u001b[0m         \u001b[0;34m\"MediumId\"\u001b[0m\u001b[0;34m:\u001b[0m \u001b[0mISBN\u001b[0m\u001b[0;34m\u001b[0m\u001b[0;34m\u001b[0m\u001b[0m\n\u001b[1;32m     12\u001b[0m     }\n\u001b[0;32m---> 13\u001b[0;31m     \u001b[0minsert_db\u001b[0m\u001b[0;34m(\u001b[0m\u001b[0mINSERT_AUSLEIHE\u001b[0m\u001b[0;34m,\u001b[0m \u001b[0mval_ausleihe\u001b[0m\u001b[0;34m)\u001b[0m\u001b[0;34m\u001b[0m\u001b[0;34m\u001b[0m\u001b[0m\n\u001b[0m",
      "\u001b[0;32m<ipython-input-4-52d4f1526826>\u001b[0m in \u001b[0;36minsert_db\u001b[0;34m(INSERT, values, SELECT)\u001b[0m\n\u001b[1;32m      8\u001b[0m \u001b[0;34m\u001b[0m\u001b[0m\n\u001b[1;32m      9\u001b[0m     \u001b[0;32mif\u001b[0m \u001b[0;32mnot\u001b[0m \u001b[0mfirst_result\u001b[0m\u001b[0;34m:\u001b[0m\u001b[0;34m\u001b[0m\u001b[0;34m\u001b[0m\u001b[0m\n\u001b[0;32m---> 10\u001b[0;31m         \u001b[0mcursor\u001b[0m\u001b[0;34m.\u001b[0m\u001b[0mexecute\u001b[0m\u001b[0;34m(\u001b[0m\u001b[0mINSERT\u001b[0m\u001b[0;34m,\u001b[0m \u001b[0mval\u001b[0m\u001b[0;34m)\u001b[0m\u001b[0;34m\u001b[0m\u001b[0;34m\u001b[0m\u001b[0m\n\u001b[0m\u001b[1;32m     11\u001b[0m         \u001b[0mcnx\u001b[0m\u001b[0;34m.\u001b[0m\u001b[0mcommit\u001b[0m\u001b[0;34m(\u001b[0m\u001b[0;34m)\u001b[0m\u001b[0;34m\u001b[0m\u001b[0;34m\u001b[0m\u001b[0m\n\u001b[1;32m     12\u001b[0m         \u001b[0;32mreturn\u001b[0m \u001b[0mcursor\u001b[0m\u001b[0;34m.\u001b[0m\u001b[0mlastrowid\u001b[0m\u001b[0;34m\u001b[0m\u001b[0;34m\u001b[0m\u001b[0m\n",
      "\u001b[0;32m/opt/conda/lib/python3.7/site-packages/mysql/connector/cursor_cext.py\u001b[0m in \u001b[0;36mexecute\u001b[0;34m(self, operation, params, multi)\u001b[0m\n\u001b[1;32m    264\u001b[0m             result = self._cnx.cmd_query(stmt, raw=self._raw,\n\u001b[1;32m    265\u001b[0m                                          \u001b[0mbuffered\u001b[0m\u001b[0;34m=\u001b[0m\u001b[0mself\u001b[0m\u001b[0;34m.\u001b[0m\u001b[0m_buffered\u001b[0m\u001b[0;34m,\u001b[0m\u001b[0;34m\u001b[0m\u001b[0;34m\u001b[0m\u001b[0m\n\u001b[0;32m--> 266\u001b[0;31m                                          raw_as_string=self._raw_as_string)\n\u001b[0m\u001b[1;32m    267\u001b[0m         \u001b[0;32mexcept\u001b[0m \u001b[0mMySQLInterfaceError\u001b[0m \u001b[0;32mas\u001b[0m \u001b[0mexc\u001b[0m\u001b[0;34m:\u001b[0m\u001b[0;34m\u001b[0m\u001b[0;34m\u001b[0m\u001b[0m\n\u001b[1;32m    268\u001b[0m             raise errors.get_mysql_exception(msg=exc.msg, errno=exc.errno,\n",
      "\u001b[0;32m/opt/conda/lib/python3.7/site-packages/mysql/connector/connection_cext.py\u001b[0m in \u001b[0;36mcmd_query\u001b[0;34m(self, query, raw, buffered, raw_as_string)\u001b[0m\n\u001b[1;32m    490\u001b[0m         \u001b[0;32mexcept\u001b[0m \u001b[0mMySQLInterfaceError\u001b[0m \u001b[0;32mas\u001b[0m \u001b[0mexc\u001b[0m\u001b[0;34m:\u001b[0m\u001b[0;34m\u001b[0m\u001b[0;34m\u001b[0m\u001b[0m\n\u001b[1;32m    491\u001b[0m             raise errors.get_mysql_exception(exc.errno, msg=exc.msg,\n\u001b[0;32m--> 492\u001b[0;31m                                              sqlstate=exc.sqlstate)\n\u001b[0m\u001b[1;32m    493\u001b[0m         \u001b[0;32mexcept\u001b[0m \u001b[0mAttributeError\u001b[0m\u001b[0;34m:\u001b[0m\u001b[0;34m\u001b[0m\u001b[0;34m\u001b[0m\u001b[0m\n\u001b[1;32m    494\u001b[0m             \u001b[0;32mif\u001b[0m \u001b[0mself\u001b[0m\u001b[0;34m.\u001b[0m\u001b[0m_unix_socket\u001b[0m\u001b[0;34m:\u001b[0m\u001b[0;34m\u001b[0m\u001b[0;34m\u001b[0m\u001b[0m\n",
      "\u001b[0;31mIntegrityError\u001b[0m: 1452 (23000): Cannot add or update a child row: a foreign key constraint fails (`nico_studienarbeit`.`Ausleihe`, CONSTRAINT `Ausleihe_ibfk_2` FOREIGN KEY (`MediumId`) REFERENCES `Buch` (`ISBN`))"
     ]
    }
   ],
   "source": [
    "val_person = {\n",
    "    \"Vorname\": \"Max\",\n",
    "    \"Name\": \"Mustermann\",\n",
    "    \"Email\": \"max.mustermann@denken.de\",\n",
    "    \"Geburtsdatum\": date(1999, 6, 30)\n",
    "}\n",
    "\n",
    "val_ausleiher = {\n",
    "    \"PersonenId\": \"\",\n",
    "    \"Strasse\": \"Nostreet 24\",\n",
    "    \"Postleitzahl\": \"56789\",\n",
    "    \"Ort\": \"Entenhausen\",\n",
    "    \"Telefonnummer\" : \"23458/856765567\"\n",
    "}\n",
    "\n",
    "ISBN = \"5678456498776\"\n",
    "\n",
    "insert_ausleihe(val_person, val_ausleiher, ISBN)"
   ]
  },
  {
   "cell_type": "markdown",
   "metadata": {},
   "source": [
    "# Execute"
   ]
  },
  {
   "cell_type": "code",
   "execution_count": null,
   "metadata": {},
   "outputs": [],
   "source": []
  },
  {
   "cell_type": "markdown",
   "metadata": {},
   "source": [
    "# Close"
   ]
  },
  {
   "cell_type": "code",
   "execution_count": 47,
   "metadata": {},
   "outputs": [],
   "source": [
    "cursor.close()\n",
    "cnx.close()"
   ]
  }
 ],
 "metadata": {
  "kernelspec": {
   "display_name": "Python 3",
   "language": "python",
   "name": "python3"
  },
  "language_info": {
   "codemirror_mode": {
    "name": "ipython",
    "version": 3
   },
   "file_extension": ".py",
   "mimetype": "text/x-python",
   "name": "python",
   "nbconvert_exporter": "python",
   "pygments_lexer": "ipython3",
   "version": "3.7.6-final"
  }
 },
 "nbformat": 4,
 "nbformat_minor": 2
}