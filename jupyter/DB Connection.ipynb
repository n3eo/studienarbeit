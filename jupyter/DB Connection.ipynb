{
 "cells": [
  {
   "cell_type": "markdown",
   "metadata": {},
   "source": [
    "# Import"
   ]
  },
  {
   "cell_type": "code",
   "execution_count": 1,
   "metadata": {},
   "outputs": [
    {
     "name": "stdout",
     "output_type": "stream",
     "text": "Requirement already satisfied: mysql-connector-python in /opt/conda/lib/python3.7/site-packages (8.0.19)\nRequirement already satisfied: protobuf==3.6.1 in /opt/conda/lib/python3.7/site-packages (from mysql-connector-python) (3.6.1)\nRequirement already satisfied: dnspython==1.16.0 in /opt/conda/lib/python3.7/site-packages (from mysql-connector-python) (1.16.0)\nRequirement already satisfied: six>=1.9 in /opt/conda/lib/python3.7/site-packages (from protobuf==3.6.1->mysql-connector-python) (1.14.0)\nRequirement already satisfied: setuptools in /opt/conda/lib/python3.7/site-packages (from protobuf==3.6.1->mysql-connector-python) (45.2.0.post20200209)\n"
    }
   ],
   "source": [
    "!pip install mysql-connector-python"
   ]
  },
  {
   "cell_type": "code",
   "execution_count": 35,
   "metadata": {},
   "outputs": [],
   "source": [
    "import mysql.connector\n",
    "from datetime import date"
   ]
  },
  {
   "cell_type": "markdown",
   "metadata": {},
   "source": [
    "# Connection"
   ]
  },
  {
   "cell_type": "code",
   "execution_count": 3,
   "metadata": {},
   "outputs": [],
   "source": [
    "cnx = mysql.connector.connect(host='172.26.0.2',port='3306',database='nico_studienarbeit',user='studienarbeit',password='dbstuar2020')"
   ]
  },
  {
   "cell_type": "code",
   "execution_count": 4,
   "metadata": {},
   "outputs": [],
   "source": [
    "cursor = cnx.cursor()"
   ]
  },
  {
   "cell_type": "markdown",
   "metadata": {},
   "source": [
    "# Querys"
   ]
  },
  {
   "cell_type": "markdown",
   "metadata": {},
   "source": [
    "If string include ' ' to resole errors in the statement!"
   ]
  },
  {
   "cell_type": "markdown",
   "metadata": {},
   "source": [
    "## Insert routines\n",
    "1. Buch: Sorte, Verlag, Buch\n",
    "2. Hörbuch: Sorte, Verlag, Buch, Person, Sprecher, Hörbuch\n",
    "3. Ebook: Sorte, Verlag, Buch, Person, Ebook\n",
    "4. Person: Person\n",
    "5. Ausleiher: Person, Ausleiher\n",
    "6. Sorte: Sorte\n",
    "7. Autor: Person, Autor\n",
    "8. Schlagwort: Schlagwort\n",
    "9. Maler: Person, Maler"
   ]
  },
  {
   "cell_type": "markdown",
   "metadata": {},
   "source": [
    "### Buch\n",
    "INSERT_SORTE, INSERT_VERLAG, INSERT_AUTOR"
   ]
  },
  {
   "cell_type": "code",
   "execution_count": 5,
   "metadata": {},
   "outputs": [],
   "source": [
    "INSERT_SORTE = \"INSERT INTO Sorte(Name,Beschreibung) VALUES(%s,'%s)\""
   ]
  },
  {
   "cell_type": "code",
   "execution_count": 6,
   "metadata": {},
   "outputs": [],
   "source": [
    "INSERT_VERLAG = \"INSERT INTO Verlag(Kurzname, Name, Postleitzahl, Straße, Internetaddresse, Beschreibung) VALUES(%s,%s,%s,%s,%s,%s)\""
   ]
  },
  {
   "cell_type": "code",
   "execution_count": 7,
   "metadata": {},
   "outputs": [],
   "source": [
    "INSERT_BUCH = \"INSERT INTO Buch(ISBN,Titel,Untertitel,VerlagId,Erscheinungsjahr,SorteId,Kurzbeschreibung,Preis,Auflage,Sprache,Titelbild) VALUES(%s,%s,%s,%d,%d,%d,%d,%s,%d,%s,%d);\""
   ]
  },
  {
   "cell_type": "code",
   "execution_count": 8,
   "metadata": {},
   "outputs": [],
   "source": [
    "INSERT_AUTORBUCHZUORD = \"INSERT INTO AutorBuchZuord(AutorId,ISBN) VALUES(%d,%s);\""
   ]
  },
  {
   "cell_type": "code",
   "execution_count": 9,
   "metadata": {},
   "outputs": [],
   "source": [
    "def insert_book(val_schlagwort, val_verlag, val_buch):\n",
    "    # Name,Beschreibung\n",
    "    cursor.execute(INSERT_SCHLAGWORT, val_schlagwort)\n",
    "    # Kurzname, Name, Postleitzahl, Straße, Internetaddresse, Beschreibung\n",
    "    cursor.execute(INSERT_VERLAG, val_verlag)\n",
    "    # ISBN,Titel,Untertitel,VerlagId,Erscheinungsjahr,SorteId,Kurzbeschreibung,Preis,Auflage,Sprache,Titelbild\n",
    "    cursor.execute(INSERT_BUCH, val_buch)\n",
    "    \n",
    "    cursor.execute(INSERT_PERSON, val_person)\n",
    "    \n",
    "    cursor.execute(INSERT_AUTOR, val_autor)\n",
    "    cnx.commit()\n",
    "    return"
   ]
  },
  {
   "cell_type": "markdown",
   "metadata": {},
   "source": [
    "### Hörbuch\n",
    "INSERT_SORTE, INSERT_VERLAG, INSERT_BUCH, INSERT_SPRECHER"
   ]
  },
  {
   "cell_type": "code",
   "execution_count": 10,
   "metadata": {},
   "outputs": [],
   "source": [
    "INSERT_PERSON = \"INSERT INTO Person(Vorname,Name,Email,Geburtsdatum) VALUES(%s,%s,%s,%s)\""
   ]
  },
  {
   "cell_type": "code",
   "execution_count": 11,
   "metadata": {},
   "outputs": [],
   "source": [
    "INSERT_SPRECHER = \"INSERT INTO Sprecher(PersonId,Beschreibung) VALUES(%s,%s)\""
   ]
  },
  {
   "cell_type": "code",
   "execution_count": 12,
   "metadata": {},
   "outputs": [],
   "source": [
    "INSERT_HOERBUCH = \"INSERT INTO Hoerbuch(ISBN,BuchISBN,SprecherId,VerlagId) VALUES(%s,%s,%s,%s)\""
   ]
  },
  {
   "cell_type": "code",
   "execution_count": 13,
   "metadata": {},
   "outputs": [],
   "source": [
    "def insert_hoerbuch():\n",
    "    pass"
   ]
  },
  {
   "cell_type": "markdown",
   "metadata": {},
   "source": [
    "### Ebook\n",
    "INSERT_SORTE, INSERT_VERLAG, INSERT_BUCH, INSERT_PERSON"
   ]
  },
  {
   "cell_type": "code",
   "execution_count": 14,
   "metadata": {},
   "outputs": [],
   "source": [
    "INSERT_EBOOK = \"INSERT INTO Ebooks(ISBN,BuchISBN,Dateiformat) VALUES(%s,%s,%s)\""
   ]
  },
  {
   "cell_type": "markdown",
   "metadata": {},
   "source": [
    "### Ausleiher\n",
    "INSERT_PERSON"
   ]
  },
  {
   "cell_type": "code",
   "execution_count": 15,
   "metadata": {},
   "outputs": [],
   "source": [
    "INSERT_AUSLEIHER = \"INSERT INTO Ausleiher(PersonenId,Strasse,Postleitzahl,Ort,Telefonnummer) VALUES(%s,%s,%s,%s,%s)\""
   ]
  },
  {
   "cell_type": "markdown",
   "metadata": {},
   "source": [
    "### Autor\n",
    "INSERT_PERSON"
   ]
  },
  {
   "cell_type": "code",
   "execution_count": 16,
   "metadata": {},
   "outputs": [],
   "source": [
    "INSERT_AUTOR = \"INSERT INTO AUTOR(PersonenId,Beschreibung) VALUES(%s,%s)\""
   ]
  },
  {
   "cell_type": "markdown",
   "metadata": {},
   "source": [
    "### Schlagwort"
   ]
  },
  {
   "cell_type": "code",
   "execution_count": 17,
   "metadata": {},
   "outputs": [],
   "source": [
    "INSERT_SCHLAGWORT = \"INSERT INTO Schlagwort(Wort,Beschreibung) VALUES(%s,%s)\""
   ]
  },
  {
   "cell_type": "markdown",
   "metadata": {},
   "source": [
    "### Maler\n",
    "INSERT_PERSON"
   ]
  },
  {
   "cell_type": "code",
   "execution_count": 18,
   "metadata": {},
   "outputs": [],
   "source": [
    "INSERT_MALER = \"INSERT INTO Maler(PersonenId,Beschreibung) VALUES(%s,%s)\""
   ]
  },
  {
   "cell_type": "markdown",
   "metadata": {},
   "source": [
    "### AutorBuchZuord\n",
    "INSERT_PERSON, INSERT_AUTOR, INSERT_SORTE, INSERT_VERLAG, INSERT_BUCH"
   ]
  },
  {
   "cell_type": "code",
   "execution_count": 19,
   "metadata": {},
   "outputs": [],
   "source": [
    "INSERT_AUTORBUCHZUORD = \"INSERT INTO AutorBuchZuord(AutorId, ISBN) VALUES(%s,%s)\""
   ]
  },
  {
   "cell_type": "markdown",
   "metadata": {},
   "source": [
    "### NichtTextMedien\n",
    "INSERT_SORTE"
   ]
  },
  {
   "cell_type": "code",
   "execution_count": 20,
   "metadata": {},
   "outputs": [],
   "source": [
    "INSERT_NICHTTEXTMEDIEN = \"INSERT INTO NichtTextMedien(Titel,Untertitel,Erscheinungsjahr,Kurzbeschreibung,SorteId,Typ) VALUES(%s,%s,%s,%s,%s,%s)\""
   ]
  },
  {
   "cell_type": "markdown",
   "metadata": {},
   "source": [
    "### Bild\n",
    "INSERT_SORTE, INSERT_NICHTTEXTMEDIEN, INSERT_MALER"
   ]
  },
  {
   "cell_type": "code",
   "execution_count": 21,
   "metadata": {},
   "outputs": [],
   "source": [
    "INSERT_BILD = \"INSERT INTO Bild(NichtTextMedienId,Bild,MalerId) VALUES(%s,%s,%s)\""
   ]
  },
  {
   "cell_type": "markdown",
   "metadata": {},
   "source": [
    "### Video\n",
    "INSERT_SORTE, INSERT_NICHTTEXTMEDIEN"
   ]
  },
  {
   "cell_type": "code",
   "execution_count": 22,
   "metadata": {},
   "outputs": [],
   "source": [
    "INSERT_VIDEO = \"INSERT INTO Video(NichtTextMedienId,Sprache) VALUES(%s,%s)\""
   ]
  },
  {
   "cell_type": "markdown",
   "metadata": {},
   "source": [
    "### Ausleihe\n",
    "INSERT_AUSLEIHER, INSERT_NICHTTEXTMEDIEN/INSERT_BUCH/INSERT_EBOOK/INSERT_HOERBUCH"
   ]
  },
  {
   "cell_type": "code",
   "execution_count": 23,
   "metadata": {},
   "outputs": [],
   "source": [
    "INSERT_AUSLEIHE = \"INSERT INTO Ausleihe(AusleiherId,MediumId,Ausleihdatum,Rueckgabedatum) VALUES(%s,%s,%s,%s)\""
   ]
  },
  {
   "cell_type": "code",
   "execution_count": null,
   "metadata": {},
   "outputs": [],
   "source": []
  },
  {
   "cell_type": "markdown",
   "metadata": {},
   "source": [
    "# Testqueries"
   ]
  },
  {
   "cell_type": "code",
   "execution_count": null,
   "metadata": {},
   "outputs": [],
   "source": [
    "\n",
    "    "
   ]
  },
  {
   "cell_type": "code",
   "execution_count": 40,
   "metadata": {},
   "outputs": [],
   "source": [
    "#Vorname,Name,Email,Geburtsdatum\n",
    "cursor.execute(\"INSERT INTO Person(Vorname,Name,Email,Geburtsdatum) VALUES(%s,%s,%s,%s)\", (\"Ludwig\", \"Test\", \"ludwig@test.de\", date(2002,4,13)))"
   ]
  },
  {
   "cell_type": "code",
   "execution_count": 41,
   "metadata": {},
   "outputs": [],
   "source": [
    "cnx.commit()"
   ]
  },
  {
   "cell_type": "code",
   "execution_count": 42,
   "metadata": {},
   "outputs": [
    {
     "data": {
      "text/plain": "5"
     },
     "execution_count": 42,
     "metadata": {},
     "output_type": "execute_result"
    }
   ],
   "source": [
    "cursor.lastrowid"
   ]
  },
  {
   "cell_type": "code",
   "execution_count": 43,
   "metadata": {},
   "outputs": [],
   "source": [
    "cursor.execute(\"SELECT * FROM Person WHERE Vorname=%s AND Name=%s AND Email=%s AND Geburtsdatum=%s;\", (\"Ludwig\", \"Test\", \"ludwig@test.de\", date(2002,4,13)))"
   ]
  },
  {
   "cell_type": "code",
   "execution_count": 34,
   "metadata": {},
   "outputs": [
    {
     "data": {
      "text/plain": "\"SELECT * FROM Person WHERE Vorname='Peter' AND Name='Test' AND Email='peter@test.de' AND Geburtsdatum='2019-01-01';\""
     },
     "execution_count": 34,
     "metadata": {},
     "output_type": "execute_result"
    }
   ],
   "source": [
    "cursor.statement"
   ]
  },
  {
   "cell_type": "code",
   "execution_count": 44,
   "metadata": {},
   "outputs": [
    {
     "name": "stdout",
     "output_type": "stream",
     "text": "(5, 'Ludwig', 'Test', 'ludwig@test.de', datetime.date(2002, 4, 13))\n"
    }
   ],
   "source": [
    "print(cursor.fetchone())"
   ]
  },
  {
   "cell_type": "markdown",
   "metadata": {},
   "source": [
    "# Execute"
   ]
  },
  {
   "cell_type": "markdown",
   "metadata": {},
   "source": [
    "# Close"
   ]
  },
  {
   "cell_type": "code",
   "execution_count": 47,
   "metadata": {},
   "outputs": [],
   "source": [
    "cursor.close()\n",
    "cnx.close()"
   ]
  }
 ],
 "metadata": {
  "kernelspec": {
   "display_name": "Python 3",
   "language": "python",
   "name": "python3"
  },
  "language_info": {
   "codemirror_mode": {
    "name": "ipython",
    "version": 3
   },
   "file_extension": ".py",
   "mimetype": "text/x-python",
   "name": "python",
   "nbconvert_exporter": "python",
   "pygments_lexer": "ipython3",
   "version": "3.7.6-final"
  }
 },
 "nbformat": 4,
 "nbformat_minor": 2
}